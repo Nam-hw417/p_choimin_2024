{
 "cells": [
  {
   "cell_type": "markdown",
   "id": "2f4c04c3",
   "metadata": {},
   "source": [
    "# 개선점\n",
    "\n",
    "### 1. StratifiedKFold 적용해 성능 비교\n",
    "### 2. lgbm, xgboost, catboost 앙상블 모델 생성 (가중치 -> f1 macro)\n",
    "### 3. BSNO 추가"
   ]
  },
  {
   "cell_type": "markdown",
   "id": "bc9ff70e",
   "metadata": {},
   "source": [
    "# 0. 데이터셋 제작"
   ]
  },
  {
   "cell_type": "code",
   "execution_count": null,
   "id": "4bd4a8b5",
   "metadata": {},
   "outputs": [],
   "source": [
    "!pip install joblib"
   ]
  },
  {
   "cell_type": "code",
   "execution_count": null,
   "id": "e70207e4",
   "metadata": {},
   "outputs": [],
   "source": [
    "!pip install scikit-learn"
   ]
  },
  {
   "cell_type": "code",
   "execution_count": null,
   "id": "0ca2f19d",
   "metadata": {},
   "outputs": [],
   "source": [
    "!pip install catboost"
   ]
  },
  {
   "cell_type": "code",
   "execution_count": null,
   "id": "c4f87177",
   "metadata": {},
   "outputs": [],
   "source": [
    "!pip install tqdm"
   ]
  },
  {
   "cell_type": "code",
   "execution_count": null,
   "id": "32f12eba",
   "metadata": {
    "scrolled": true
   },
   "outputs": [],
   "source": [
    "import os\n",
    "import numpy as np\n",
    "import pandas as pd\n",
    "import glob\n",
    "import zipfile\n",
    "import joblib\n",
    "from sklearn.metrics import confusion_matrix, ConfusionMatrixDisplay\n",
    "from sklearn.metrics import precision_score, recall_score, f1_score, accuracy_score\n",
    "from sklearn.preprocessing import StandardScaler, RobustScaler, MinMaxScaler\n",
    "from tqdm import tqdm\n",
    "from catboost import CatBoostClassifier\n",
    "from sklearn.model_selection import train_test_split\n",
    "from sklearn.metrics import precision_score\n",
    "from sklearn.preprocessing import LabelEncoder\n",
    "from collections import Counter\n",
    "from sklearn.model_selection import StratifiedKFold\n",
    "from tqdm import tqdm\n",
    "\n",
    "\n",
    "os.getcwd()"
   ]
  },
  {
   "cell_type": "code",
   "execution_count": 3,
   "id": "b8b2cc49",
   "metadata": {
    "scrolled": true
   },
   "outputs": [],
   "source": [
    "df_test=pd.read_csv('./stack_value_23_test.csv')\n",
    "\n",
    "df_test.fillna('NA', inplace=True)"
   ]
  },
  {
   "cell_type": "code",
   "execution_count": 4,
   "id": "02e3f936",
   "metadata": {
    "scrolled": true
   },
   "outputs": [],
   "source": [
    "df_test.drop(columns=[\"HSCD_2\"], inplace=True)"
   ]
  },
  {
   "cell_type": "code",
   "execution_count": null,
   "id": "f5794e21",
   "metadata": {
    "scrolled": true
   },
   "outputs": [],
   "source": [
    "df_test"
   ]
  },
  {
   "cell_type": "code",
   "execution_count": null,
   "id": "d9c7be8a",
   "metadata": {
    "scrolled": false
   },
   "outputs": [],
   "source": [
    "df_test_hscd_bsno=df_test[['HSCD', 'BSNO']]\n",
    "df_test_hscd_bsno.drop_duplicates(inplace=True)"
   ]
  },
  {
   "cell_type": "code",
   "execution_count": null,
   "id": "c961ec00",
   "metadata": {
    "scrolled": true
   },
   "outputs": [],
   "source": [
    "bsno_hscd_dict={}\n",
    "\n",
    "for _, row in tqdm(df_test_hscd_bsno.iterrows()):\n",
    "    key=row['BSNO']\n",
    "    value=row['HSCD']\n",
    "    if key not in bsno_hscd_dict:\n",
    "        bsno_hscd_dict[key]=[]\n",
    "    if value not in bsno_hscd_dict[key]:\n",
    "        bsno_hscd_dict[key].append(value)"
   ]
  },
  {
   "cell_type": "code",
   "execution_count": null,
   "id": "a7e64369",
   "metadata": {
    "scrolled": true
   },
   "outputs": [],
   "source": [
    "df_test_hscd_cty=df_test[['HSCD', 'COUNTRYCD']]\n",
    "df_test_hscd_cty.drop_duplicates(inplace=True)"
   ]
  },
  {
   "cell_type": "code",
   "execution_count": null,
   "id": "f27953cb",
   "metadata": {},
   "outputs": [],
   "source": [
    "hscd_cty_dict={}\n",
    "\n",
    "for _, row in tqdm(df_test_hscd_cty.iterrows()):\n",
    "    key=row['HSCD']\n",
    "    value=row['COUNTRYCD']\n",
    "    if key not in hscd_cty_dict:\n",
    "        hscd_cty_dict[key]=[]\n",
    "    if value not in hscd_cty_dict[key]:\n",
    "        hscd_cty_dict[key].append(value)  "
   ]
  },
  {
   "cell_type": "code",
   "execution_count": null,
   "id": "ed99311d",
   "metadata": {},
   "outputs": [],
   "source": [
    "df_test_bsno_cty=df_test[['BSNO','COUNTRYCD']]\n",
    "df_test_bsno_cty.drop_duplicates(inplace=True)"
   ]
  },
  {
   "cell_type": "code",
   "execution_count": null,
   "id": "60da6162",
   "metadata": {},
   "outputs": [],
   "source": [
    "bsno_cty_dict={}\n",
    "\n",
    "for _, row in tqdm(df_test_bsno_cty.iterrows()):\n",
    "    key=row['BSNO']\n",
    "    value=row['COUNTRYCD']\n",
    "    if key not in bsno_cty_dict:\n",
    "        bsno_cty_dict[key]=[]\n",
    "    if value not in bsno_cty_dict[key]:\n",
    "        bsno_cty_dict[key].append(value)  "
   ]
  },
  {
   "cell_type": "code",
   "execution_count": null,
   "id": "a36ca2aa",
   "metadata": {
    "scrolled": true
   },
   "outputs": [],
   "source": [
    "bsno_hscd_agg_dict={}\n",
    "\n",
    "for _, row in tqdm(df_test.iterrows()):\n",
    "    key=str(row['BSNO'])+'_'+str(row['HSCD'])\n",
    "    value=[row['전세계_해당품목_수출액'], row['수출국가수_해당품목']]\n",
    "    if key not in bsno_hscd_agg_dict:\n",
    "        bsno_hscd_agg_dict[key]=[]\n",
    "        bsno_hscd_agg_dict[key].append(value)  "
   ]
  },
  {
   "cell_type": "code",
   "execution_count": null,
   "id": "dd3b76b8",
   "metadata": {},
   "outputs": [],
   "source": [
    "bsno_cty_agg_dict={}\n",
    "\n",
    "for _, row in tqdm(df_test.iterrows()):\n",
    "    key=str(row['BSNO'])+'_'+str(row['COUNTRYCD'])\n",
    "    value=[row['해당국_전체품목_수출액'], row['수출품목수_해당국']]\n",
    "    if key not in bsno_cty_agg_dict:\n",
    "        bsno_cty_agg_dict[key]=[]\n",
    "        bsno_cty_agg_dict[key].append(value)  "
   ]
  },
  {
   "cell_type": "code",
   "execution_count": null,
   "id": "c1a7e31a",
   "metadata": {
    "scrolled": true
   },
   "outputs": [],
   "source": [
    "bsno_agg_dict={}\n",
    "\n",
    "for _, row in tqdm(df_test.iterrows()):\n",
    "    key=str(row['BSNO'])\n",
    "    value=[row['전세계_전체품목_수출액'], row['수출품목수_전세계'], row['수출국가수_전체품목']]\n",
    "    if key not in bsno_agg_dict:\n",
    "        bsno_agg_dict[key]=[]\n",
    "        bsno_agg_dict[key].append(value)  "
   ]
  },
  {
   "cell_type": "code",
   "execution_count": null,
   "id": "f0f0f741",
   "metadata": {},
   "outputs": [],
   "source": [
    "bsno_hscd_cty_dup_dict={}\n",
    "\n",
    "\n",
    "for _, row in tqdm(df_test.iterrows()):\n",
    "    key=str(row['BSNO'])+'_'+str(row['HSCD'])\n",
    "    value=[row['COUNTRYCD']]\n",
    "    if key not in bsno_hscd_cty_dup_dict:\n",
    "        bsno_hscd_cty_dup_dict[key]=[value]\n",
    "    if value not in bsno_hscd_cty_dup_dict[key]:\n",
    "        bsno_hscd_cty_dup_dict[key].append(value)   "
   ]
  },
  {
   "cell_type": "code",
   "execution_count": null,
   "id": "afea85ef",
   "metadata": {
    "scrolled": true
   },
   "outputs": [],
   "source": [
    "df_test_new=df_test.copy()\n",
    "new_df=pd.DataFrame()\n",
    "\n",
    "for i, (bsno, hscd_list) in tqdm(enumerate(bsno_hscd_dict.items())):\n",
    "    \n",
    "    \n",
    "    all_hscd_world_list=[]\n",
    "    all_hscd_cty_list=[]\n",
    "    cnt_hscd_world_list=[]\n",
    "    cnt_cty_all_hscd_list=[]\n",
    "    hscd_world_list=[]\n",
    "    cnt_cty_hscd_list=[]\n",
    "    cnt_hscd_cty_list=[]\n",
    "    hscd_list=[]\n",
    "    cty_list=[]\n",
    "    \n",
    "    \n",
    "    print(bsno_agg_dict[f'{bsno}'])\n",
    "    all_hscd_world=bsno_agg_dict[f'{bsno}'][0][0] # bsno 같으면 같음\n",
    "    cnt_hscd_world=bsno_agg_dict[f'{bsno}'][0][1] # bsno 같으면 같음\n",
    "    cnt_cty_all_hscd=bsno_agg_dict[f'{bsno}'][0][2]\n",
    "    \n",
    "    for hscd in bsno_hscd_dict[bsno]:\n",
    "        \n",
    "        \n",
    "        hscd_world=bsno_hscd_agg_dict[f'{bsno}_{hscd}'][0][0]\n",
    "        cnt_cty_hscd=bsno_hscd_agg_dict[f'{bsno}_{hscd}'][0][1]\n",
    "\n",
    "        cty_len=0\n",
    "        \n",
    "        \n",
    "        \n",
    "        for cty in [c for c in hscd_cty_dict[hscd] if c not in bsno_hscd_cty_dup_dict[f'{bsno}_{hscd}']]:\n",
    "            try:\n",
    "                cnt_hscd_cty=bsno_cty_agg_dict[f'{bsno}_{cty}'][0][1]\n",
    "                all_hscd_cty=bsno_cty_agg_dict[f'{bsno}_{cty}'][0][0]\n",
    "                \n",
    "            \n",
    "                all_hscd_cty_list.append(all_hscd_cty)\n",
    "                cnt_cty_hscd_list.append(cnt_cty_hscd)\n",
    "                cnt_hscd_cty_list.append(cnt_hscd_cty)\n",
    "                cty_list.append(cty)\n",
    "                cty_len+=1\n",
    "            except:\n",
    "                continue\n",
    "        \n",
    "        hscd_world_list.extend([hscd_world]*cty_len)\n",
    "        hscd_list.extend([hscd]*cty_len)\n",
    "        \n",
    "    all_hscd_world_list=[all_hscd_world]*len(cty_list)\n",
    "    cnt_hscd_world_list=[cnt_hscd_world]*len(cty_list)\n",
    "    cnt_cty_all_hscd_list=[cnt_cty_all_hscd]*len(cty_list)\n",
    "\n",
    "    append_df = pd.DataFrame({'YEAR' : [2023]*len(cty_list), 'COUNTRYCD': cty_list, \n",
    "                               'HSCD':hscd_list, \n",
    "                               'BSNO' : bsno*len(cty_list),\n",
    "                                '해당국_해당품목_수출액' : [0]*len(cty_list), \n",
    "                               '전세계_해당품목_수출액' : hscd_world_list, \n",
    "                               '전세계_전체품목_수출액' : all_hscd_world_list,\n",
    "                                '해당국_전체품목_수출액' : all_hscd_cty_list, \n",
    "                               '수출품목수_전세계' : cnt_hscd_world_list, \n",
    "                               '수출국가수_전체품목' : cnt_cty_all_hscd_list,\n",
    "                                '수출품목수_해당국' : cnt_hscd_cty_list, \n",
    "                               '수출국가수_해당품목': cnt_cty_hscd_list })\n",
    "\n",
    "    new_df.append(append_df, ignore_index=True)\n",
    "    if i%1000==0:\n",
    "        print(bsno, ' finished!')\n",
    "\n",
    "df_test.append(new_df, ignore_index=True)\n",
    "df_test_new.to_csv('./전처리데이터/stack_value_23_test_new.csv')"
   ]
  },
  {
   "cell_type": "markdown",
   "id": "9506e4b2",
   "metadata": {},
   "source": [
    "df_test_new=df_test.copy()\n",
    "new_df=pd.DataFrame()\n",
    "\n",
    "for (bsno, hscd_list) in tqdm(bsno_hscd_dict.items()):\n",
    "    \n",
    "    \n",
    "    all_hscd_world_list=[]\n",
    "    all_hscd_cty_list=[]\n",
    "    cnt_hscd_world_list=[]\n",
    "    cnt_cty_all_hscd_list=[]\n",
    "    hscd_world_list=[]\n",
    "    cnt_cty_hscd_list=[]\n",
    "    cnt_hscd_cty_list=[]\n",
    "    hscd_list=[]\n",
    "    cty_list=[]\n",
    "    \n",
    "    bsno_df=df_test[df_test['BSNO']==bsno]\n",
    "\n",
    "    all_hscd_world=bsno_df['전세계_전체품목_수출액'].values[0] # bsno 같으면 같음\n",
    "    cnt_hscd_world=bsno_df['수출품목수_전세계'].values[0] # bsno 같으면 같음\n",
    "        \n",
    "    hscd_len=len(bsno_hscd_dict[bsno])\n",
    "    \n",
    "    for hscd in bsno_hscd_dict[bsno]:\n",
    "        \n",
    "        \n",
    "        hscd_bsno_df=bsno_df[bsno_df['HSCD']==hscd]\n",
    "        hscd_world=hscd_bsno_df['전세계_해당품목_수출액'].values[0]\n",
    "        cnt_cty_all_hscd=hscd_bsno_df['수출국가수_해당품목'].values[0]\n",
    "\n",
    "        cnt_cty_hscd=hscd_bsno_df['COUNTRYCD'].nunique()\n",
    "        cty_len=0\n",
    "        \n",
    "        \n",
    "        print([c for c in hscd_cty_dict[hscd] if c not in hscd_bsno_df['COUNTRYCD'].unique()])\n",
    "        \n",
    "        for cty in [c for c in hscd_cty_dict[hscd] if c not in hscd_bsno_df['COUNTRYCD'].unique()]:\n",
    "            try:\n",
    "                cty_bsno_df=bsno_df[bsno_df['COUNTRYCD']==cty]\n",
    "                cnt_hscd_cty=len(cty_bsno_df)\n",
    "                all_hscd_cty=cty_bsno_df['해당국_해당품목_수출액'].sum()\n",
    "                \n",
    "            \n",
    "                all_hscd_cty_list.append(all_hscd_cty)\n",
    "                cnt_cty_hscd_list.append(cnt_cty_hscd)\n",
    "                cnt_hscd_cty_list.append(cnt_hscd_cty)\n",
    "                cty_list.append(cty)\n",
    "                cty_len+=1\n",
    "            except:\n",
    "                continue\n",
    "        \n",
    "        hscd_world_list.extend([hscd_world]*cty_len)\n",
    "        hscd_list.extend([hscd]*cty_len)\n",
    "        \n",
    "    all_hscd_world_list=[all_hscd_world]*len(cty_list)\n",
    "    cnt_hscd_world_list=[cnt_hscd_world]*len(cty_list)\n",
    "    cnt_cty_all_hscd_list=[cnt_cty_all_hscd]*len(cty_list)\n",
    "\n",
    "    append_df = pd.DataFrame({'YEAR' : [2023]*len(cty_list), 'COUNTRYCD': cty_list, \n",
    "                               'HSCD':hscd_list, \n",
    "                               'BSNO' : bsno*len(cty_list),\n",
    "                                '해당국_해당품목_수출액' : [0]*len(cty_list), \n",
    "                               '전세계_해당품목_수출액' : hscd_world_list, \n",
    "                               '전세계_전체품목_수출액' : all_hscd_world_list,\n",
    "                                '해당국_전체품목_수출액' : all_hscd_cty_list, \n",
    "                               '수출품목수_전세계' : cnt_hscd_world_list, \n",
    "                               '수출국가수_전체품목' : cnt_cty_all_hscd_list,\n",
    "                                '수출품목수_해당국' : cnt_hscd_cty_list, \n",
    "                               '수출국가수_해당품목': cnt_cty_hscd_list })\n",
    "    display(append_df)\n",
    "    new_df.append(append_df, ignore_index=True)\n",
    "    print(bsno, ' finished!')\n",
    "\n",
    "df_test.append(new_df, ignore_index=True)\n",
    "df_test_new.to_csv('./전처리데이터/stack_value_23_test_new.csv')"
   ]
  },
  {
   "cell_type": "code",
   "execution_count": null,
   "id": "3c8792ac",
   "metadata": {},
   "outputs": [],
   "source": []
  }
 ],
 "metadata": {
  "kernelspec": {
   "display_name": "Python 3",
   "language": "python",
   "name": "python3"
  },
  "language_info": {
   "codemirror_mode": {
    "name": "ipython",
    "version": 3
   },
   "file_extension": ".py",
   "mimetype": "text/x-python",
   "name": "python",
   "nbconvert_exporter": "python",
   "pygments_lexer": "ipython3",
   "version": "3.11.4"
  }
 },
 "nbformat": 4,
 "nbformat_minor": 5
}
