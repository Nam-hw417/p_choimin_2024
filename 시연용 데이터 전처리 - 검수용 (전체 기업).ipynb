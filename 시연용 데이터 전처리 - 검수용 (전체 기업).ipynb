{
 "cells": [
  {
   "cell_type": "code",
   "execution_count": 7,
   "id": "28150a62",
   "metadata": {
    "scrolled": true
   },
   "outputs": [
    {
     "data": {
      "text/plain": [
       "'/opt/conda/jupyter/notebooks/지사화 수출유망도 모델'"
      ]
     },
     "execution_count": 7,
     "metadata": {},
     "output_type": "execute_result"
    }
   ],
   "source": [
    "import os\n",
    "import numpy as np\n",
    "import pandas as pd\n",
    "import glob\n",
    "import zipfile\n",
    "import joblib\n",
    "from sklearn.metrics import confusion_matrix, ConfusionMatrixDisplay\n",
    "from sklearn.metrics import precision_score, recall_score, f1_score, accuracy_score\n",
    "from sklearn.preprocessing import StandardScaler, RobustScaler, MinMaxScaler\n",
    "from tqdm import tqdm\n",
    "from catboost import CatBoostClassifier\n",
    "from sklearn.model_selection import train_test_split\n",
    "from sklearn.metrics import precision_score\n",
    "from sklearn.preprocessing import LabelEncoder\n",
    "from collections import Counter\n",
    "from sklearn.model_selection import StratifiedKFold\n",
    "from tqdm import tqdm\n",
    "import sys\n",
    "\n",
    "\n",
    "os.getcwd()"
   ]
  },
  {
   "cell_type": "markdown",
   "id": "ef07fd6b",
   "metadata": {},
   "source": [
    "# 수출 확률 계산을 위해 추출할 데이터는 다음과 같습니다.\n",
    "-------------------------\n",
    "\n",
    "## o 수출 데이터를 보유하고 있는 전체 기업들\n",
    "\n",
    "> 수출국가, 품목, 해당 기업의 2개년 (22년,23년) 수출액, 수출품목수, 수출국가수 등의 정보 \n",
    "\n",
    "----------------\n",
    "##  o 만약 기업이 특정 품목, 국가에 대해\n",
    "##     22년도에 수출 후 23년도에 수출하지 않거나, 23년도부터 새로 수출한 경우\n",
    "> 수출 데이터가 없는 해당 년도의 정보들만 0으로 입력됩니다\n",
    "-------------"
   ]
  },
  {
   "cell_type": "markdown",
   "id": "b6fd3e46",
   "metadata": {},
   "source": [
    "# 1. 수출 데이터 보유 기업 데이터 추출\n",
    "-----------------------\n",
    "\n",
    "### 각 기업별 22,23년도에 수출한 적이 있는 품목들에 대해\n",
    "### 전체 기업 기준으로 해당 품목들이 22,23년도에 수출된 모든 국가들을 고려했습니다.\n",
    "-------------------\n",
    "### 기업번호-품목번호-국가코드 로 각 행이 생성되고\n",
    "### 각 기업이 특정 품목을 해당 국가에 수출한 적이 있으면 해당 값 조회 후 입력,\n",
    "### 수출한 적이 없다면 해당 국가 수출 데이터를 0으로 입력했습니다."
   ]
  },
  {
   "cell_type": "code",
   "execution_count": 8,
   "id": "5c6a5f69",
   "metadata": {},
   "outputs": [],
   "source": [
    "trade_file_list = './데이터셋/수출통계'\n",
    "trade_files = glob.glob(os.path.join(trade_file_list, \"*.csv\"))\n",
    "\n",
    "column_types1 = {\n",
    "    'YEAR' : 'int64',\n",
    "    'BSNO' : 'category',\n",
    "    'COUNTRYCD' : 'category',\n",
    "    'HSCD' : 'category',\n",
    "    'EXIMAMT' : 'int64'\n",
    "}\n",
    "\n",
    "trade_list = [pd.read_csv(file, dtype = column_types1, na_filter=False) for file in trade_files]\n",
    "combined_trade = pd.concat(trade_list, ignore_index = True)\n",
    "\n",
    "# 3) 데이터 전처리\n",
    "## countryname 컬럼삭제 (추후 다시 붙일 예정)\n",
    "#combined_trade = combined_trade.drop(columns=['COUNTRYNAME'])\n",
    "\n",
    "# bsno 없는 것 삭제\n",
    "combined_trade = combined_trade.dropna(subset=['BSNO'])\n",
    "\n",
    "# 데이터 범위 설정\n",
    "combined_trade = combined_trade[(combined_trade['YEAR'] >= 2019) & (combined_trade['YEAR'] <= 2024)]\n",
    "\n",
    "# 나미비아 NA로 바꿔주기\n",
    "combined_trade.loc[:,'COUNTRYCD'] = combined_trade['COUNTRYCD'].fillna('NA')\n",
    "\n",
    "# 수출액이 0인 경우 모두 삭제\n",
    "combined_trade = combined_trade[combined_trade['EXIMAMT'] !=0]\n",
    "\n",
    "# 특정 사업자번호 삭제\n",
    "combined_trade = combined_trade[combined_trade['BSNO'] != '1000000000'] # 6243241"
   ]
  },
  {
   "cell_type": "code",
   "execution_count": 9,
   "id": "71d2f06f",
   "metadata": {},
   "outputs": [],
   "source": [
    "# 20~24년까지 개별 데이터프레임 만들기\n",
    "for year in range(2020, 2024):\n",
    "    df_c = combined_trade[combined_trade['YEAR'] == year].copy()\n",
    "\n",
    "    # 1) 파생변수 생성\n",
    "    df_c['전세계_해당품목_수출액'] = df_c.groupby(['BSNO', 'HSCD'])['EXIMAMT'].transform('sum')\n",
    "    df_c['전세계_전체품목_수출액'] = df_c.groupby('BSNO')['EXIMAMT'].transform('sum')\n",
    "    df_c['해당국_전체품목_수출액'] = df_c.groupby(['BSNO', 'COUNTRYCD'])['EXIMAMT'].transform('sum')\n",
    "    df_c['수출품목수_전세계'] = df_c.groupby('BSNO')['HSCD'].transform('nunique')\n",
    "    df_c['수출국가수_전체품목'] = df_c.groupby('BSNO')['COUNTRYCD'].transform('nunique')\n",
    "    df_c['수출품목수_해당국'] = df_c.groupby(['BSNO', 'COUNTRYCD'])['HSCD'].transform('nunique')\n",
    "    df_c['수출국가수_해당품목'] = df_c.groupby(['BSNO', 'HSCD'])['COUNTRYCD'].transform('nunique')\n",
    "\n",
    "    df_c = df_c.rename(columns= {'EXIMAMT': '해당국_해당품목_수출액'}) # 컬럼명 변경\n",
    "\n",
    "    # 2) 내년 수출액 추가 (Y값 생성)\n",
    "    y = combined_trade[combined_trade['YEAR'] == year+1] # 1033511\n",
    "    y = y.drop(columns=['YEAR'])\n",
    "    y = y.rename(columns= {'EXIMAMT': 'NEXT_EXIMAMT'})\n",
    "\n",
    "    df_c = pd.merge(df_c, y, on =['COUNTRYCD', 'HSCD', 'BSNO'], how='left') # y값 병합\n",
    "    df_c['NEXT_EXIMAMT'] = df_c['NEXT_EXIMAMT'].fillna(0) # 내년 수출액 없는 경우 0으로 치환\n",
    "    df_c['RESULT'] = df_c['NEXT_EXIMAMT'].apply(lambda x: 1 if x > 0 else 0 ) # 내년에 수출액이 있으면 1, 없으면 0\n",
    "    df_c = df_c.drop(columns=['NEXT_EXIMAMT']) # 내년 수출액 컬럼 삭제\n",
    "\n",
    "    # 3) 작년 수출액 추가\n",
    "    y_pre = combined_trade[combined_trade['YEAR'] == year-1] # 1033511\n",
    "    y_pre = y_pre.drop(columns=['YEAR'])\n",
    "    y_pre = y_pre.rename(columns= {'EXIMAMT': 'PRE_EXIMAMT'})\n",
    "\n",
    "    df_c = pd.merge(df_c, y_pre, on =['COUNTRYCD', 'HSCD', 'BSNO'], how='left')\n",
    "    df_c['PRE_EXIMAMT'] = df_c['PRE_EXIMAMT'].fillna(0)\n",
    "    # 작년에 수출액이 있으면 1 없으면 0\n",
    "    #df_c['PRE_EXIMAMT'] = df_c['PRE_EXIMAMT'].apply(lambda x: 1 if x > 0 else 0 )\n",
    "\n",
    "    # 4) HSCD 2단위 / 4단위 컬럼 생성\n",
    "    df_c['HSCD_2'] =  df_c['HSCD'].astype(str).str[:2]  \n",
    "    df_c['HSCD_4'] =  df_c['HSCD'].astype(str).str[:4]\n",
    "    \n",
    "    # 6) 문자열로 변환하여 통일\n",
    "    df_c['HSCD'] = df_c['HSCD'].astype(str)\n",
    "    df_c['HSCD_2'] = df_c['HSCD_2'].astype(str)\n",
    "    df_c['HSCD_4'] = df_c['HSCD_4'].astype(str)\n",
    "    df_c['COUNTRYCD'] = df_c['COUNTRYCD'].astype(str)\n",
    "    df_c['BSNO'] = df_c['BSNO'].astype(str)\n",
    "\n",
    "    # 7) COUNTRYCD 100건 미만의 적은 국가 제거\n",
    "    COUNTRYCD_CNT = df_c['COUNTRYCD'].value_counts()\n",
    "    valid_COUNTRYCD = COUNTRYCD_CNT[COUNTRYCD_CNT >= 100].index\n",
    "    df_c = df_c[df_c['COUNTRYCD'].isin(valid_COUNTRYCD)]\n",
    "\n",
    "    \n",
    "    # 8) 데이터 추가\n",
    "    df_c.to_csv(f'./전처리데이터/stack_value_{year-2000}_test.csv', index=False)\n",
    "    \n"
   ]
  },
  {
   "cell_type": "code",
   "execution_count": 10,
   "id": "fa2de50a",
   "metadata": {},
   "outputs": [],
   "source": [
    "df_test_22=pd.read_csv('./전처리데이터/stack_value_22_test.csv', dtype={'BSNO' : str, 'HSCD' : str}, na_filter=False)\n",
    "df_test_23=pd.read_csv('./전처리데이터/stack_value_23_test.csv', dtype={'BSNO' : str, 'HSCD' : str}, na_filter=False)\n",
    "\n",
    "df_test=pd.concat([df_test_22, df_test_23], axis=0)\n",
    "df_test.drop(columns=['RESULT', 'PRE_EXIMAMT', 'HSCD_2', 'HSCD_4'], inplace=True)\n",
    "\n",
    "bsno_all=df_test['BSNO'].unique()"
   ]
  },
  {
   "cell_type": "code",
   "execution_count": 11,
   "id": "b1cd8211",
   "metadata": {
    "scrolled": true
   },
   "outputs": [
    {
     "data": {
      "text/html": [
       "<div>\n",
       "<style scoped>\n",
       "    .dataframe tbody tr th:only-of-type {\n",
       "        vertical-align: middle;\n",
       "    }\n",
       "\n",
       "    .dataframe tbody tr th {\n",
       "        vertical-align: top;\n",
       "    }\n",
       "\n",
       "    .dataframe thead th {\n",
       "        text-align: right;\n",
       "    }\n",
       "</style>\n",
       "<table border=\"1\" class=\"dataframe\">\n",
       "  <thead>\n",
       "    <tr style=\"text-align: right;\">\n",
       "      <th></th>\n",
       "      <th>YEAR</th>\n",
       "      <th>COUNTRYCD</th>\n",
       "      <th>HSCD</th>\n",
       "      <th>BSNO</th>\n",
       "      <th>해당국_해당품목_수출액</th>\n",
       "      <th>전세계_해당품목_수출액</th>\n",
       "      <th>전세계_전체품목_수출액</th>\n",
       "      <th>해당국_전체품목_수출액</th>\n",
       "      <th>수출품목수_전세계</th>\n",
       "      <th>수출국가수_전체품목</th>\n",
       "      <th>수출품목수_해당국</th>\n",
       "      <th>수출국가수_해당품목</th>\n",
       "    </tr>\n",
       "  </thead>\n",
       "  <tbody>\n",
       "    <tr>\n",
       "      <th>0</th>\n",
       "      <td>2022</td>\n",
       "      <td>AE</td>\n",
       "      <td>010619</td>\n",
       "      <td>4728600892</td>\n",
       "      <td>318</td>\n",
       "      <td>15005</td>\n",
       "      <td>15005</td>\n",
       "      <td>318</td>\n",
       "      <td>1</td>\n",
       "      <td>15</td>\n",
       "      <td>1</td>\n",
       "      <td>15</td>\n",
       "    </tr>\n",
       "    <tr>\n",
       "      <th>1</th>\n",
       "      <td>2022</td>\n",
       "      <td>AE</td>\n",
       "      <td>010619</td>\n",
       "      <td>5418101760</td>\n",
       "      <td>80666</td>\n",
       "      <td>214913</td>\n",
       "      <td>214913</td>\n",
       "      <td>80666</td>\n",
       "      <td>1</td>\n",
       "      <td>5</td>\n",
       "      <td>1</td>\n",
       "      <td>5</td>\n",
       "    </tr>\n",
       "    <tr>\n",
       "      <th>2</th>\n",
       "      <td>2022</td>\n",
       "      <td>AE</td>\n",
       "      <td>010619</td>\n",
       "      <td>7617600319</td>\n",
       "      <td>252</td>\n",
       "      <td>50306</td>\n",
       "      <td>50306</td>\n",
       "      <td>252</td>\n",
       "      <td>1</td>\n",
       "      <td>4</td>\n",
       "      <td>1</td>\n",
       "      <td>4</td>\n",
       "    </tr>\n",
       "    <tr>\n",
       "      <th>3</th>\n",
       "      <td>2022</td>\n",
       "      <td>AE</td>\n",
       "      <td>020321</td>\n",
       "      <td>6168624854</td>\n",
       "      <td>19661</td>\n",
       "      <td>19661</td>\n",
       "      <td>2294827</td>\n",
       "      <td>319761</td>\n",
       "      <td>97</td>\n",
       "      <td>16</td>\n",
       "      <td>51</td>\n",
       "      <td>1</td>\n",
       "    </tr>\n",
       "    <tr>\n",
       "      <th>4</th>\n",
       "      <td>2022</td>\n",
       "      <td>AE</td>\n",
       "      <td>020322</td>\n",
       "      <td>6168624854</td>\n",
       "      <td>4837</td>\n",
       "      <td>4837</td>\n",
       "      <td>2294827</td>\n",
       "      <td>319761</td>\n",
       "      <td>97</td>\n",
       "      <td>16</td>\n",
       "      <td>51</td>\n",
       "      <td>1</td>\n",
       "    </tr>\n",
       "    <tr>\n",
       "      <th>...</th>\n",
       "      <td>...</td>\n",
       "      <td>...</td>\n",
       "      <td>...</td>\n",
       "      <td>...</td>\n",
       "      <td>...</td>\n",
       "      <td>...</td>\n",
       "      <td>...</td>\n",
       "      <td>...</td>\n",
       "      <td>...</td>\n",
       "      <td>...</td>\n",
       "      <td>...</td>\n",
       "      <td>...</td>\n",
       "    </tr>\n",
       "    <tr>\n",
       "      <th>1121773</th>\n",
       "      <td>2023</td>\n",
       "      <td>ZZ</td>\n",
       "      <td>950300</td>\n",
       "      <td>3210401603</td>\n",
       "      <td>150</td>\n",
       "      <td>160665</td>\n",
       "      <td>2192683</td>\n",
       "      <td>345</td>\n",
       "      <td>137</td>\n",
       "      <td>127</td>\n",
       "      <td>2</td>\n",
       "      <td>51</td>\n",
       "    </tr>\n",
       "    <tr>\n",
       "      <th>1121774</th>\n",
       "      <td>2023</td>\n",
       "      <td>ZZ</td>\n",
       "      <td>950590</td>\n",
       "      <td>1208771116</td>\n",
       "      <td>46</td>\n",
       "      <td>108156</td>\n",
       "      <td>33427621</td>\n",
       "      <td>84</td>\n",
       "      <td>115</td>\n",
       "      <td>89</td>\n",
       "      <td>2</td>\n",
       "      <td>36</td>\n",
       "    </tr>\n",
       "    <tr>\n",
       "      <th>1121775</th>\n",
       "      <td>2023</td>\n",
       "      <td>ZZ</td>\n",
       "      <td>950639</td>\n",
       "      <td>3210401603</td>\n",
       "      <td>195</td>\n",
       "      <td>3559</td>\n",
       "      <td>2192683</td>\n",
       "      <td>345</td>\n",
       "      <td>137</td>\n",
       "      <td>127</td>\n",
       "      <td>2</td>\n",
       "      <td>7</td>\n",
       "    </tr>\n",
       "    <tr>\n",
       "      <th>1121776</th>\n",
       "      <td>2023</td>\n",
       "      <td>ZZ</td>\n",
       "      <td>950824</td>\n",
       "      <td>3148618854</td>\n",
       "      <td>329728</td>\n",
       "      <td>4863801</td>\n",
       "      <td>9119956</td>\n",
       "      <td>449728</td>\n",
       "      <td>72</td>\n",
       "      <td>55</td>\n",
       "      <td>5</td>\n",
       "      <td>46</td>\n",
       "    </tr>\n",
       "    <tr>\n",
       "      <th>1121777</th>\n",
       "      <td>2023</td>\n",
       "      <td>ZZ</td>\n",
       "      <td>961900</td>\n",
       "      <td>2148703359</td>\n",
       "      <td>139</td>\n",
       "      <td>109371</td>\n",
       "      <td>215851852</td>\n",
       "      <td>46834</td>\n",
       "      <td>66</td>\n",
       "      <td>120</td>\n",
       "      <td>14</td>\n",
       "      <td>50</td>\n",
       "    </tr>\n",
       "  </tbody>\n",
       "</table>\n",
       "<p>2182368 rows × 12 columns</p>\n",
       "</div>"
      ],
      "text/plain": [
       "         YEAR COUNTRYCD    HSCD        BSNO  해당국_해당품목_수출액  전세계_해당품목_수출액  \\\n",
       "0        2022        AE  010619  4728600892           318         15005   \n",
       "1        2022        AE  010619  5418101760         80666        214913   \n",
       "2        2022        AE  010619  7617600319           252         50306   \n",
       "3        2022        AE  020321  6168624854         19661         19661   \n",
       "4        2022        AE  020322  6168624854          4837          4837   \n",
       "...       ...       ...     ...         ...           ...           ...   \n",
       "1121773  2023        ZZ  950300  3210401603           150        160665   \n",
       "1121774  2023        ZZ  950590  1208771116            46        108156   \n",
       "1121775  2023        ZZ  950639  3210401603           195          3559   \n",
       "1121776  2023        ZZ  950824  3148618854        329728       4863801   \n",
       "1121777  2023        ZZ  961900  2148703359           139        109371   \n",
       "\n",
       "         전세계_전체품목_수출액  해당국_전체품목_수출액  수출품목수_전세계  수출국가수_전체품목  수출품목수_해당국  \\\n",
       "0               15005           318          1          15          1   \n",
       "1              214913         80666          1           5          1   \n",
       "2               50306           252          1           4          1   \n",
       "3             2294827        319761         97          16         51   \n",
       "4             2294827        319761         97          16         51   \n",
       "...               ...           ...        ...         ...        ...   \n",
       "1121773       2192683           345        137         127          2   \n",
       "1121774      33427621            84        115          89          2   \n",
       "1121775       2192683           345        137         127          2   \n",
       "1121776       9119956        449728         72          55          5   \n",
       "1121777     215851852         46834         66         120         14   \n",
       "\n",
       "         수출국가수_해당품목  \n",
       "0                15  \n",
       "1                 5  \n",
       "2                 4  \n",
       "3                 1  \n",
       "4                 1  \n",
       "...             ...  \n",
       "1121773          51  \n",
       "1121774          36  \n",
       "1121775           7  \n",
       "1121776          46  \n",
       "1121777          50  \n",
       "\n",
       "[2182368 rows x 12 columns]"
      ]
     },
     "execution_count": 11,
     "metadata": {},
     "output_type": "execute_result"
    }
   ],
   "source": [
    "df_test"
   ]
  },
  {
   "cell_type": "markdown",
   "id": "805a52fd",
   "metadata": {},
   "source": [
    "# 22,23년도 전체에서 수출한 데이터가 하나라도 존재하는 기업 개수 : 121844"
   ]
  },
  {
   "cell_type": "code",
   "execution_count": 4,
   "id": "72384d9a",
   "metadata": {},
   "outputs": [
    {
     "data": {
      "text/plain": [
       "121844"
      ]
     },
     "execution_count": 4,
     "metadata": {},
     "output_type": "execute_result"
    }
   ],
   "source": [
    "len(bsno_all)"
   ]
  },
  {
   "cell_type": "markdown",
   "id": "f5b58113",
   "metadata": {},
   "source": [
    "## 전체 수출 데이터 (22,23년) 에서 '수출 품목별 수출 국가 명단'을 저장합니다.\n",
    "> 이후 데이터에서 기업의 특정 수출 품목에 대해, \n",
    "\n",
    "> 수출한 적이 있는 국가들 뿐만 아니라, 다른 국가들의 예측 확률도 구해 **유망 국가 리스트**를 보여주기 위해 필요합니다. "
   ]
  },
  {
   "cell_type": "code",
   "execution_count": 5,
   "id": "e0eccb20",
   "metadata": {},
   "outputs": [
    {
     "name": "stderr",
     "output_type": "stream",
     "text": [
      "/opt/common-library/conda/site-packages/pandas/util/_decorators.py:311: SettingWithCopyWarning: \n",
      "A value is trying to be set on a copy of a slice from a DataFrame\n",
      "\n",
      "See the caveats in the documentation: https://pandas.pydata.org/pandas-docs/stable/user_guide/indexing.html#returning-a-view-versus-a-copy\n",
      "  return func(*args, **kwargs)\n",
      "178499it [00:06, 29187.80it/s]"
     ]
    },
    {
     "name": "stdout",
     "output_type": "stream",
     "text": [
      "22,23년도 데이터의 총 수출 품목 개수 :  5122\n"
     ]
    },
    {
     "name": "stderr",
     "output_type": "stream",
     "text": [
      "\n"
     ]
    }
   ],
   "source": [
    "df_test_hscd_cty=df_test[['HSCD', 'COUNTRYCD']]\n",
    "df_test_hscd_cty.drop_duplicates(inplace=True)\n",
    "\n",
    "hscd_cty_dict={}\n",
    "\n",
    "for _, row in tqdm(df_test_hscd_cty.iterrows()):\n",
    "    key=row['HSCD']\n",
    "    value=row['COUNTRYCD']\n",
    "    if key not in hscd_cty_dict:\n",
    "        hscd_cty_dict[key]=[]\n",
    "    if value not in hscd_cty_dict[key]:\n",
    "        hscd_cty_dict[key].append(value)  \n",
    "        \n",
    "print('22,23년도 데이터의 총 수출 품목 개수 : ', len(hscd_cty_dict))"
   ]
  },
  {
   "cell_type": "markdown",
   "id": "939726f9",
   "metadata": {},
   "source": [
    "## 22, 23년도 각각의 수출 데이터 에서 '기업의 수출 품목별 데이터'를 저장합니다.\n",
    "> 이후 데이터에서 기업의 수출 품목별 해당되는 \n",
    "\n",
    "> **'전세계_해당품목_수출액', '수출국가수_해당품목' 값**을 입력하기 위해 필요합니다. "
   ]
  },
  {
   "cell_type": "code",
   "execution_count": 6,
   "id": "82909fa7",
   "metadata": {},
   "outputs": [
    {
     "name": "stderr",
     "output_type": "stream",
     "text": [
      "1060590it [00:41, 25765.88it/s]\n"
     ]
    }
   ],
   "source": [
    "bsno_hscd_agg_22_dict={}\n",
    "\n",
    "for _, row in tqdm(df_test_22.iterrows()):\n",
    "    key=row['BSNO']+'_'+row['HSCD']\n",
    "    value=[row['전세계_해당품목_수출액'], row['수출국가수_해당품목']]\n",
    "    if key not in bsno_hscd_agg_22_dict:\n",
    "        bsno_hscd_agg_22_dict[key]=[]\n",
    "        bsno_hscd_agg_22_dict[key].extend(value)  "
   ]
  },
  {
   "cell_type": "code",
   "execution_count": 7,
   "id": "01effe76",
   "metadata": {},
   "outputs": [
    {
     "name": "stderr",
     "output_type": "stream",
     "text": [
      "1121778it [00:44, 25494.55it/s]\n"
     ]
    }
   ],
   "source": [
    "bsno_hscd_agg_23_dict={}\n",
    "\n",
    "for _, row in tqdm(df_test_23.iterrows()):\n",
    "    key=row['BSNO']+'_'+row['HSCD']\n",
    "    value=[row['전세계_해당품목_수출액'], row['수출국가수_해당품목']]\n",
    "    if key not in bsno_hscd_agg_23_dict:\n",
    "        bsno_hscd_agg_23_dict[key]=[]\n",
    "        bsno_hscd_agg_23_dict[key].extend(value)  "
   ]
  },
  {
   "cell_type": "markdown",
   "id": "1564cdb1",
   "metadata": {},
   "source": [
    "## 22, 23년도 각각의 수출 데이터 에서 '기업의 수출 국가별 데이터'를 저장합니다.\n",
    "> 이후 데이터에서 기업의 수출 국가별 해당되는\n",
    "\n",
    "> **'해당국_전체품목_수출액', '수출품목수_해당국'**을 입력하기 위해 필요합니다. "
   ]
  },
  {
   "cell_type": "code",
   "execution_count": 8,
   "id": "67c529f7",
   "metadata": {},
   "outputs": [
    {
     "name": "stderr",
     "output_type": "stream",
     "text": [
      "1060590it [00:41, 25577.31it/s]\n"
     ]
    }
   ],
   "source": [
    "bsno_cty_agg_22_dict={}\n",
    "\n",
    "for _, row in tqdm(df_test_22.iterrows()):\n",
    "    key=str(row['BSNO'])+'_'+str(row['COUNTRYCD'])\n",
    "    value=[row['해당국_전체품목_수출액'], row['수출품목수_해당국']]\n",
    "    if key not in bsno_cty_agg_22_dict:\n",
    "        bsno_cty_agg_22_dict[key]=[]\n",
    "        bsno_cty_agg_22_dict[key].extend(value)  "
   ]
  },
  {
   "cell_type": "code",
   "execution_count": 9,
   "id": "ea98d9ed",
   "metadata": {},
   "outputs": [
    {
     "name": "stderr",
     "output_type": "stream",
     "text": [
      "1121778it [00:44, 25484.73it/s]\n"
     ]
    }
   ],
   "source": [
    "bsno_cty_agg_23_dict={}\n",
    "\n",
    "for _, row in tqdm(df_test_23.iterrows()):\n",
    "    key=row['BSNO']+'_'+row['COUNTRYCD']\n",
    "    value=[row['해당국_전체품목_수출액'], row['수출품목수_해당국']]\n",
    "    if key not in bsno_cty_agg_23_dict:\n",
    "        bsno_cty_agg_23_dict[key]=[]\n",
    "        bsno_cty_agg_23_dict[key].extend(value)  "
   ]
  },
  {
   "cell_type": "markdown",
   "id": "6bcc7763",
   "metadata": {},
   "source": [
    "## 22, 23년도 각각의 수출 데이터 에서 '기업별 데이터'를 저장합니다.\n",
    "> 이후 데이터에서 기업별 해당되는 \n",
    "\n",
    "> **'전세계_전체품목_수출액', '수출품목수_전세계', '수출국가수_전체품목'** 을 입력하기 위해 필요합니다. "
   ]
  },
  {
   "cell_type": "code",
   "execution_count": 10,
   "id": "f733fd30",
   "metadata": {},
   "outputs": [
    {
     "name": "stderr",
     "output_type": "stream",
     "text": [
      "1060590it [00:40, 26391.52it/s]\n"
     ]
    }
   ],
   "source": [
    "bsno_agg_22_dict={}\n",
    "\n",
    "for _, row in tqdm(df_test_22.iterrows()):\n",
    "    key=row['BSNO']\n",
    "    value=[row['전세계_전체품목_수출액'], row['수출품목수_전세계'], row['수출국가수_전체품목']]\n",
    "    if key not in bsno_agg_22_dict:\n",
    "        bsno_agg_22_dict[key]=[]\n",
    "        bsno_agg_22_dict[key].extend(value)  "
   ]
  },
  {
   "cell_type": "code",
   "execution_count": 11,
   "id": "b7ba73a1",
   "metadata": {},
   "outputs": [
    {
     "name": "stderr",
     "output_type": "stream",
     "text": [
      "1121778it [00:42, 26411.58it/s]\n"
     ]
    }
   ],
   "source": [
    "bsno_agg_23_dict={}\n",
    "\n",
    "for _, row in tqdm(df_test_23.iterrows()):\n",
    "    key=row['BSNO']\n",
    "    value=[row['전세계_전체품목_수출액'], row['수출품목수_전세계'], row['수출국가수_전체품목']]\n",
    "    if key not in bsno_agg_23_dict:\n",
    "        bsno_agg_23_dict[key]=[]\n",
    "        bsno_agg_23_dict[key].extend(value)  "
   ]
  },
  {
   "cell_type": "markdown",
   "id": "7e6fd255",
   "metadata": {},
   "source": [
    "## 22, 23년도 각각의 수출 데이터 에서 '기업의 수출 품목별 수출 국가 명단'을 저장합니다.\n",
    "> 이후 데이터에서 기업의 수출 품목별 해당되는 **수출 국가를 제외한 국가에 대해서만 새로운 행**을 추가해, \n",
    "\n",
    "> 수출하지 않은 다른 국가들의 예측 확률을 구해 **유망 국가 리스트**를 만들기 위해 필요합니다."
   ]
  },
  {
   "cell_type": "code",
   "execution_count": 12,
   "id": "625951b1",
   "metadata": {},
   "outputs": [
    {
     "name": "stderr",
     "output_type": "stream",
     "text": [
      "1060590it [00:40, 26497.45it/s]\n"
     ]
    }
   ],
   "source": [
    "bsno_hscd_cty_dup_22_dict={}\n",
    "\n",
    "\n",
    "for _, row in tqdm(df_test_22.iterrows()):\n",
    "    key=row['BSNO']+'_'+row['HSCD']\n",
    "    value=row['COUNTRYCD']\n",
    "    if key not in bsno_hscd_cty_dup_22_dict:\n",
    "        bsno_hscd_cty_dup_22_dict[key]=[value]\n",
    "    if value not in bsno_hscd_cty_dup_22_dict[key]:\n",
    "        bsno_hscd_cty_dup_22_dict[key].append(value)   "
   ]
  },
  {
   "cell_type": "code",
   "execution_count": 13,
   "id": "08ec6a20",
   "metadata": {},
   "outputs": [
    {
     "name": "stderr",
     "output_type": "stream",
     "text": [
      "1121778it [00:43, 26061.03it/s]\n"
     ]
    }
   ],
   "source": [
    "bsno_hscd_cty_dup_23_dict={}\n",
    "\n",
    "\n",
    "for _, row in tqdm(df_test_23.iterrows()):\n",
    "    key=str(row['BSNO'])+'_'+str(row['HSCD'])\n",
    "    value=row['COUNTRYCD']\n",
    "    if key not in bsno_hscd_cty_dup_23_dict:\n",
    "        bsno_hscd_cty_dup_23_dict[key]=[value]\n",
    "    if value not in bsno_hscd_cty_dup_23_dict[key]:\n",
    "        bsno_hscd_cty_dup_23_dict[key].append(value)   "
   ]
  },
  {
   "cell_type": "markdown",
   "id": "02460ddf",
   "metadata": {},
   "source": [
    "## 데이터가 있는 기업들에 대해서만, 22, 23년도 각각의 수출 데이터를 만듭니다.\n"
   ]
  },
  {
   "cell_type": "code",
   "execution_count": 14,
   "id": "a4e0ef6f",
   "metadata": {},
   "outputs": [],
   "source": [
    "def create_export_data(year):\n",
    "    \n",
    "    # 입력된 연도의 테스트 데이터를 불러와 추론에 필요한 열만 남기고 제거\n",
    "    \n",
    "    df_test_new=globals()[f'df_test_{year}'].copy()\n",
    "    df_test_new.drop(columns=['RESULT', 'PRE_EXIMAMT', 'HSCD_4'], inplace=True)\n",
    "    \n",
    "    # 해당 년도에서, 특정 기업이 수출하고 있는 품목의 명단을 정리 \n",
    "    \n",
    "    df_test_hscd_bsno=df_test_new[['HSCD', 'BSNO']]\n",
    "    df_test_hscd_bsno.drop_duplicates(inplace=True)\n",
    "\n",
    "    bsno_hscd_dict={}\n",
    "\n",
    "    for _, row in tqdm(df_test_hscd_bsno.iterrows()):\n",
    "        key=row['BSNO']\n",
    "        value=row['HSCD']\n",
    "        if key not in bsno_hscd_dict:\n",
    "            bsno_hscd_dict[key]=[]\n",
    "        if value not in bsno_hscd_dict[key]:\n",
    "            bsno_hscd_dict[key].append(value)\n",
    "\n",
    "    new_df=pd.DataFrame()\n",
    "    j=0\n",
    "    \n",
    "    # 각 기업과 그 기업이 수출하고 있는 품목의 명단으로 반복해 실행\n",
    "    \n",
    "    for i, (bsno, hscds) in tqdm(enumerate(bsno_hscd_dict.items())):\n",
    "\n",
    "        all_hscd_world_list=[]\n",
    "        all_hscd_cty_list=[]\n",
    "        cnt_hscd_world_list=[]\n",
    "        cnt_cty_all_hscd_list=[]\n",
    "        hscd_world_list=[]\n",
    "        cnt_cty_hscd_list=[]\n",
    "        cnt_hscd_cty_list=[]\n",
    "        hscd_list=[]\n",
    "        cty_list=[]\n",
    "\n",
    "        # 특정 기업이 해당 년도에 같은 값을 가지는 값들\n",
    "        # '전세계_전체품목_수출액', '수출품목수_전세계', '수출국가수_전체품목'\n",
    "        \n",
    "        all_hscd_world=globals()[f'bsno_agg_{year}_dict'][f'{bsno}'][0] # bsno 같으면 동일값\n",
    "        cnt_hscd_world=globals()[f'bsno_agg_{year}_dict'][f'{bsno}'][1] # bsno 같으면 동일값\n",
    "        cnt_cty_all_hscd=globals()[f'bsno_agg_{year}_dict'][f'{bsno}'][2] # bsno 같으면 동일값\n",
    "        \n",
    "        \n",
    "        for hscd in hscds:\n",
    "\n",
    "            # 특정 기업의 특정 수출 품목이 해당 년도에 같은 값을 가지는 값들\n",
    "            # '전세계_해당품목_수출액', '수출국가수_해당품목'\n",
    "            \n",
    "            hscd_world=globals()[f'bsno_hscd_agg_{year}_dict'][f'{bsno}_{hscd}'][0] # bsno, hscd 같으면 동일값\n",
    "            cnt_cty_hscd=globals()[f'bsno_hscd_agg_{year}_dict'][f'{bsno}_{hscd}'][1] # bsno, hscd 같으면 동일값\n",
    "\n",
    "            cty_len=0\n",
    "            \n",
    "            # 특정 품목이 수출되고 있는 국가들 중, \n",
    "            # 해당 기업이 이미 수출한 국가가 아닌 다른 국가 (유망 수출국 후보지) 들에 대해 반복\n",
    "            \n",
    "            for cty in [c for c in hscd_cty_dict[hscd] if c not in globals()[f'bsno_hscd_cty_dup_{year}_dict'][f'{bsno}_{hscd}']]:\n",
    "                \n",
    "                # 만약, 기업이 해당 년도, 해당 국가에 수출한 품목이 한개라도 있다면\n",
    "                # '해당국_전체품목_수출액', '수출품목수_해당국' 값을 찾아 넣어줌\n",
    "                \n",
    "                try:\n",
    "                    cnt_hscd_cty=globals()[f'bsno_cty_agg_{year}_dict'][f'{bsno}_{cty}'][1]  # bsno, hscd, cty 같으면 동일값\n",
    "                    all_hscd_cty=globals()[f'bsno_cty_agg_{year}_dict'][f'{bsno}_{cty}'][0] # bsno, hscd, cty 같으면 동일값\n",
    "\n",
    "\n",
    "                    all_hscd_cty_list.append(all_hscd_cty)\n",
    "                    cnt_cty_hscd_list.append(cnt_cty_hscd)\n",
    "                    cnt_hscd_cty_list.append(cnt_hscd_cty)\n",
    "                    cty_list.append(cty)\n",
    "                    cty_len+=1\n",
    "                    \n",
    "                # 만약, 기업이 해당 년도, 해당 국가에 수출한 품목이 한 개도 없다면\n",
    "                # 해당국_전체품목_수출액', '수출품목수_해당국' 값은 모두 0\n",
    "                \n",
    "                except:\n",
    "                    cnt_hscd_cty=0\n",
    "                    all_hscd_cty=0\n",
    "\n",
    "\n",
    "                    all_hscd_cty_list.append(all_hscd_cty)\n",
    "                    cnt_cty_hscd_list.append(cnt_cty_hscd)\n",
    "                    cnt_hscd_cty_list.append(cnt_hscd_cty)\n",
    "                    cty_list.append(cty)\n",
    "                    cty_len+=1\n",
    "                    continue\n",
    "\n",
    "            hscd_world_list.extend([hscd_world]*cty_len)\n",
    "            hscd_list.extend([hscd]*cty_len)\n",
    "\n",
    "        all_hscd_world_list=[all_hscd_world]*len(cty_list)\n",
    "        cnt_hscd_world_list=[cnt_hscd_world]*len(cty_list)\n",
    "        cnt_cty_all_hscd_list=[cnt_cty_all_hscd]*len(cty_list)\n",
    "\n",
    "        # 각 기업에서 해당 년도에 수출하고 있는 (모든 품목 * 각 품목이 수출되는 모든 국가) 조합에 대해\n",
    "        # 가지고 있는 데이터의 값을 입력하고, 없으면 0으로 둔 데이터프레임 생성\n",
    "        \n",
    "        ## 데이터 추가 속도를 향상시키기 위해, 행을 하나하나 붙이지 않고\n",
    "        ## 각 기업단위로 데이터프레임을 만들되 , list를 이용해 열 데이터를 한번에 할당시킴\n",
    "        \n",
    "        append_df = pd.DataFrame({'COUNTRYCD': cty_list, \n",
    "                                   'HSCD':hscd_list, \n",
    "                                   'BSNO' : [bsno]*len(cty_list),\n",
    "                                    '해당국_해당품목_수출액' : [0]*len(cty_list), \n",
    "                                   '전세계_해당품목_수출액' : hscd_world_list, \n",
    "                                   '전세계_전체품목_수출액' : all_hscd_world_list,\n",
    "                                    '해당국_전체품목_수출액' : all_hscd_cty_list, \n",
    "                                   '수출품목수_전세계' : cnt_hscd_world_list, \n",
    "                                   '수출국가수_전체품목' : cnt_cty_all_hscd_list,\n",
    "                                    '수출품목수_해당국' : cnt_hscd_cty_list, \n",
    "                                   '수출국가수_해당품목': cnt_cty_hscd_list })\n",
    "\n",
    "        new_df=pd.concat([new_df,append_df] , axis=0)\n",
    "\n",
    "        # 각 기업의 데이터를 모은 데이터프레임을 합치는 도중\n",
    "        # 합쳐진 데이터프레임의 크기가 너무 큰 경우 concat 계산 속도를 위해 초기화\n",
    "        ## 데이터프레임의 크기가 100MB 이상일 경우 concat 속도가 현저히 느려져 csv로 저장 후 초기화\n",
    "        \n",
    "        if sys.getsizeof(new_df)>100*1024*1024:\n",
    "            new_df.to_csv(f'./전처리데이터/test_set/test_{year}_all_{j}.csv', index=False)\n",
    "            new_df=pd.DataFrame()\n",
    "            print('new_df refreshed!')\n",
    "            j+=1\n",
    "\n",
    "        if i%1000==0:\n",
    "            print('current data size :',  sys.getsizeof(new_df))  \n",
    "            \n",
    "    new_df.to_csv(f'./전처리데이터/test_set/test_{year}_all_{j}.csv', index=False)\n",
    "    df_test_new=pd.concat([df_test_new] +[pd.read_csv(f'./전처리데이터/test_set/test_{year}_all_{k}.csv') for k in range(j+1)], axis=0)\n",
    "    df_test_new.to_csv(f'./전처리데이터/stack_value_{year}_test_all.csv', index=False)"
   ]
  },
  {
   "cell_type": "code",
   "execution_count": 15,
   "id": "f58de2d8",
   "metadata": {
    "scrolled": true
   },
   "outputs": [
    {
     "name": "stderr",
     "output_type": "stream",
     "text": [
      "550061it [00:18, 29604.31it/s]\n",
      "10it [00:00, 98.86it/s]"
     ]
    },
    {
     "name": "stdout",
     "output_type": "stream",
     "text": [
      "current data size : 3686\n"
     ]
    },
    {
     "name": "stderr",
     "output_type": "stream",
     "text": [
      "163it [00:09, 15.65it/s]"
     ]
    },
    {
     "name": "stdout",
     "output_type": "stream",
     "text": [
      "new_df refreshed!\n"
     ]
    },
    {
     "name": "stderr",
     "output_type": "stream",
     "text": [
      "320it [00:17, 11.42it/s]"
     ]
    },
    {
     "name": "stdout",
     "output_type": "stream",
     "text": [
      "new_df refreshed!\n"
     ]
    },
    {
     "name": "stderr",
     "output_type": "stream",
     "text": [
      "616it [00:34, 18.74it/s]"
     ]
    },
    {
     "name": "stdout",
     "output_type": "stream",
     "text": [
      "new_df refreshed!\n"
     ]
    },
    {
     "name": "stderr",
     "output_type": "stream",
     "text": [
      "854it [00:48, 23.76it/s]"
     ]
    },
    {
     "name": "stdout",
     "output_type": "stream",
     "text": [
      "new_df refreshed!\n"
     ]
    },
    {
     "name": "stderr",
     "output_type": "stream",
     "text": [
      "1006it [00:52, 28.30it/s]"
     ]
    },
    {
     "name": "stdout",
     "output_type": "stream",
     "text": [
      "current data size : 37766194\n"
     ]
    },
    {
     "name": "stderr",
     "output_type": "stream",
     "text": [
      "1233it [01:06, 15.59it/s]"
     ]
    },
    {
     "name": "stdout",
     "output_type": "stream",
     "text": [
      "new_df refreshed!\n"
     ]
    },
    {
     "name": "stderr",
     "output_type": "stream",
     "text": [
      "1475it [01:18, 17.45it/s]"
     ]
    },
    {
     "name": "stdout",
     "output_type": "stream",
     "text": [
      "new_df refreshed!\n"
     ]
    },
    {
     "name": "stderr",
     "output_type": "stream",
     "text": [
      "1749it [01:34, 13.43it/s]"
     ]
    },
    {
     "name": "stdout",
     "output_type": "stream",
     "text": [
      "new_df refreshed!\n"
     ]
    },
    {
     "name": "stderr",
     "output_type": "stream",
     "text": [
      "1924it [01:43, 17.91it/s]"
     ]
    },
    {
     "name": "stdout",
     "output_type": "stream",
     "text": [
      "new_df refreshed!\n"
     ]
    },
    {
     "name": "stderr",
     "output_type": "stream",
     "text": [
      "2003it [01:46, 19.04it/s]"
     ]
    },
    {
     "name": "stdout",
     "output_type": "stream",
     "text": [
      "current data size : 54871351\n"
     ]
    },
    {
     "name": "stderr",
     "output_type": "stream",
     "text": [
      "2105it [01:54,  4.61it/s]"
     ]
    },
    {
     "name": "stdout",
     "output_type": "stream",
     "text": [
      "new_df refreshed!\n"
     ]
    },
    {
     "name": "stderr",
     "output_type": "stream",
     "text": [
      "2466it [02:19, 10.85it/s]"
     ]
    },
    {
     "name": "stdout",
     "output_type": "stream",
     "text": [
      "new_df refreshed!\n"
     ]
    },
    {
     "name": "stderr",
     "output_type": "stream",
     "text": [
      "2740it [02:35, 23.56it/s]"
     ]
    },
    {
     "name": "stdout",
     "output_type": "stream",
     "text": [
      "new_df refreshed!\n"
     ]
    },
    {
     "name": "stderr",
     "output_type": "stream",
     "text": [
      "3004it [02:44, 13.96it/s]"
     ]
    },
    {
     "name": "stdout",
     "output_type": "stream",
     "text": [
      "current data size : 78150202\n"
     ]
    },
    {
     "name": "stderr",
     "output_type": "stream",
     "text": [
      "3134it [02:54, 19.80it/s]"
     ]
    },
    {
     "name": "stdout",
     "output_type": "stream",
     "text": [
      "new_df refreshed!\n"
     ]
    },
    {
     "name": "stderr",
     "output_type": "stream",
     "text": [
      "3414it [03:09, 32.85it/s]"
     ]
    },
    {
     "name": "stdout",
     "output_type": "stream",
     "text": [
      "new_df refreshed!\n"
     ]
    },
    {
     "name": "stderr",
     "output_type": "stream",
     "text": [
      "3855it [03:27, 15.42it/s]"
     ]
    },
    {
     "name": "stdout",
     "output_type": "stream",
     "text": [
      "new_df refreshed!\n"
     ]
    },
    {
     "name": "stderr",
     "output_type": "stream",
     "text": [
      "4003it [03:31, 18.27it/s]"
     ]
    },
    {
     "name": "stdout",
     "output_type": "stream",
     "text": [
      "current data size : 57397570\n"
     ]
    },
    {
     "name": "stderr",
     "output_type": "stream",
     "text": [
      "4206it [03:45, 25.00it/s]"
     ]
    },
    {
     "name": "stdout",
     "output_type": "stream",
     "text": [
      "new_df refreshed!\n"
     ]
    },
    {
     "name": "stderr",
     "output_type": "stream",
     "text": [
      "4616it [04:04, 17.72it/s]"
     ]
    },
    {
     "name": "stdout",
     "output_type": "stream",
     "text": [
      "new_df refreshed!\n"
     ]
    },
    {
     "name": "stderr",
     "output_type": "stream",
     "text": [
      "5003it [04:19, 13.58it/s]"
     ]
    },
    {
     "name": "stdout",
     "output_type": "stream",
     "text": [
      "current data size : 81606886\n"
     ]
    },
    {
     "name": "stderr",
     "output_type": "stream",
     "text": [
      "5115it [04:27, 27.12it/s]"
     ]
    },
    {
     "name": "stdout",
     "output_type": "stream",
     "text": [
      "new_df refreshed!\n"
     ]
    },
    {
     "name": "stderr",
     "output_type": "stream",
     "text": [
      "5504it [04:45, 19.79it/s]"
     ]
    },
    {
     "name": "stdout",
     "output_type": "stream",
     "text": [
      "new_df refreshed!\n"
     ]
    },
    {
     "name": "stderr",
     "output_type": "stream",
     "text": [
      "5856it [05:03, 21.26it/s]"
     ]
    },
    {
     "name": "stdout",
     "output_type": "stream",
     "text": [
      "new_df refreshed!\n"
     ]
    },
    {
     "name": "stderr",
     "output_type": "stream",
     "text": [
      "6003it [05:07, 19.16it/s]"
     ]
    },
    {
     "name": "stdout",
     "output_type": "stream",
     "text": [
      "current data size : 54609307\n"
     ]
    },
    {
     "name": "stderr",
     "output_type": "stream",
     "text": [
      "6199it [05:21, 21.93it/s]"
     ]
    },
    {
     "name": "stdout",
     "output_type": "stream",
     "text": [
      "new_df refreshed!\n"
     ]
    },
    {
     "name": "stderr",
     "output_type": "stream",
     "text": [
      "6595it [05:40, 24.79it/s]"
     ]
    },
    {
     "name": "stdout",
     "output_type": "stream",
     "text": [
      "new_df refreshed!\n"
     ]
    },
    {
     "name": "stderr",
     "output_type": "stream",
     "text": [
      "7002it [05:58, 12.10it/s]"
     ]
    },
    {
     "name": "stdout",
     "output_type": "stream",
     "text": [
      "current data size : 86661934\n"
     ]
    },
    {
     "name": "stderr",
     "output_type": "stream",
     "text": [
      "7154it [06:10, 23.05it/s]"
     ]
    },
    {
     "name": "stdout",
     "output_type": "stream",
     "text": [
      "new_df refreshed!\n"
     ]
    },
    {
     "name": "stderr",
     "output_type": "stream",
     "text": [
      "7703it [06:34, 20.60it/s]"
     ]
    },
    {
     "name": "stdout",
     "output_type": "stream",
     "text": [
      "new_df refreshed!\n"
     ]
    },
    {
     "name": "stderr",
     "output_type": "stream",
     "text": [
      "8003it [06:44, 16.09it/s]"
     ]
    },
    {
     "name": "stdout",
     "output_type": "stream",
     "text": [
      "current data size : 67701067\n"
     ]
    },
    {
     "name": "stderr",
     "output_type": "stream",
     "text": [
      "8141it [06:54, 19.20it/s]"
     ]
    },
    {
     "name": "stdout",
     "output_type": "stream",
     "text": [
      "new_df refreshed!\n"
     ]
    },
    {
     "name": "stderr",
     "output_type": "stream",
     "text": [
      "8436it [07:12, 13.70it/s]"
     ]
    },
    {
     "name": "stdout",
     "output_type": "stream",
     "text": [
      "new_df refreshed!\n"
     ]
    },
    {
     "name": "stderr",
     "output_type": "stream",
     "text": [
      "8681it [07:27, 10.88it/s]"
     ]
    },
    {
     "name": "stdout",
     "output_type": "stream",
     "text": [
      "new_df refreshed!\n"
     ]
    },
    {
     "name": "stderr",
     "output_type": "stream",
     "text": [
      "8946it [07:43, 12.52it/s]"
     ]
    },
    {
     "name": "stdout",
     "output_type": "stream",
     "text": [
      "new_df refreshed!\n"
     ]
    },
    {
     "name": "stderr",
     "output_type": "stream",
     "text": [
      "9006it [07:45, 28.13it/s]"
     ]
    },
    {
     "name": "stdout",
     "output_type": "stream",
     "text": [
      "current data size : 35303659\n"
     ]
    },
    {
     "name": "stderr",
     "output_type": "stream",
     "text": [
      "9181it [07:55, 15.95it/s]"
     ]
    },
    {
     "name": "stdout",
     "output_type": "stream",
     "text": [
      "new_df refreshed!\n"
     ]
    },
    {
     "name": "stderr",
     "output_type": "stream",
     "text": [
      "9434it [08:10, 25.80it/s]"
     ]
    },
    {
     "name": "stdout",
     "output_type": "stream",
     "text": [
      "new_df refreshed!\n"
     ]
    },
    {
     "name": "stderr",
     "output_type": "stream",
     "text": [
      "9716it [08:27, 30.13it/s]"
     ]
    },
    {
     "name": "stdout",
     "output_type": "stream",
     "text": [
      "new_df refreshed!\n"
     ]
    },
    {
     "name": "stderr",
     "output_type": "stream",
     "text": [
      "10004it [08:33, 28.04it/s]"
     ]
    },
    {
     "name": "stdout",
     "output_type": "stream",
     "text": [
      "current data size : 40219333\n"
     ]
    },
    {
     "name": "stderr",
     "output_type": "stream",
     "text": [
      "10288it [08:50, 19.26it/s]"
     ]
    },
    {
     "name": "stdout",
     "output_type": "stream",
     "text": [
      "new_df refreshed!\n"
     ]
    },
    {
     "name": "stderr",
     "output_type": "stream",
     "text": [
      "10753it [09:11, 22.13it/s]"
     ]
    },
    {
     "name": "stdout",
     "output_type": "stream",
     "text": [
      "new_df refreshed!\n"
     ]
    },
    {
     "name": "stderr",
     "output_type": "stream",
     "text": [
      "11003it [09:18, 19.15it/s]"
     ]
    },
    {
     "name": "stdout",
     "output_type": "stream",
     "text": [
      "current data size : 56421430\n"
     ]
    },
    {
     "name": "stderr",
     "output_type": "stream",
     "text": [
      "11149it [09:29, 21.16it/s]"
     ]
    },
    {
     "name": "stdout",
     "output_type": "stream",
     "text": [
      "new_df refreshed!\n"
     ]
    },
    {
     "name": "stderr",
     "output_type": "stream",
     "text": [
      "11500it [09:49, 34.21it/s]"
     ]
    },
    {
     "name": "stdout",
     "output_type": "stream",
     "text": [
      "new_df refreshed!\n"
     ]
    },
    {
     "name": "stderr",
     "output_type": "stream",
     "text": [
      "11997it [10:16, 32.00it/s]"
     ]
    },
    {
     "name": "stdout",
     "output_type": "stream",
     "text": [
      "new_df refreshed!\n",
      "current data size : 3716395\n"
     ]
    },
    {
     "name": "stderr",
     "output_type": "stream",
     "text": [
      "12514it [10:39, 28.72it/s]"
     ]
    },
    {
     "name": "stdout",
     "output_type": "stream",
     "text": [
      "new_df refreshed!\n"
     ]
    },
    {
     "name": "stderr",
     "output_type": "stream",
     "text": [
      "13002it [11:01,  9.62it/s]"
     ]
    },
    {
     "name": "stdout",
     "output_type": "stream",
     "text": [
      "current data size : 103534018\n"
     ]
    },
    {
     "name": "stderr",
     "output_type": "stream",
     "text": [
      "13037it [11:02, 28.49it/s]"
     ]
    },
    {
     "name": "stdout",
     "output_type": "stream",
     "text": [
      "new_df refreshed!\n"
     ]
    },
    {
     "name": "stderr",
     "output_type": "stream",
     "text": [
      "13657it [11:31, 29.96it/s]"
     ]
    },
    {
     "name": "stdout",
     "output_type": "stream",
     "text": [
      "new_df refreshed!\n"
     ]
    },
    {
     "name": "stderr",
     "output_type": "stream",
     "text": [
      "14003it [11:39, 19.08it/s]"
     ]
    },
    {
     "name": "stdout",
     "output_type": "stream",
     "text": [
      "current data size : 57703723\n"
     ]
    },
    {
     "name": "stderr",
     "output_type": "stream",
     "text": [
      "14230it [11:55, 26.30it/s]"
     ]
    },
    {
     "name": "stdout",
     "output_type": "stream",
     "text": [
      "new_df refreshed!\n"
     ]
    },
    {
     "name": "stderr",
     "output_type": "stream",
     "text": [
      "14732it [12:21, 27.45it/s]"
     ]
    },
    {
     "name": "stdout",
     "output_type": "stream",
     "text": [
      "new_df refreshed!\n"
     ]
    },
    {
     "name": "stderr",
     "output_type": "stream",
     "text": [
      "15007it [12:26, 29.63it/s]"
     ]
    },
    {
     "name": "stdout",
     "output_type": "stream",
     "text": [
      "current data size : 37880251\n"
     ]
    },
    {
     "name": "stderr",
     "output_type": "stream",
     "text": [
      "15272it [12:43, 24.40it/s]"
     ]
    },
    {
     "name": "stdout",
     "output_type": "stream",
     "text": [
      "new_df refreshed!\n"
     ]
    },
    {
     "name": "stderr",
     "output_type": "stream",
     "text": [
      "15861it [13:12, 22.91it/s]"
     ]
    },
    {
     "name": "stdout",
     "output_type": "stream",
     "text": [
      "new_df refreshed!\n"
     ]
    },
    {
     "name": "stderr",
     "output_type": "stream",
     "text": [
      "16006it [13:15, 30.15it/s]"
     ]
    },
    {
     "name": "stdout",
     "output_type": "stream",
     "text": [
      "current data size : 37923055\n"
     ]
    },
    {
     "name": "stderr",
     "output_type": "stream",
     "text": [
      "16274it [13:31, 16.82it/s]"
     ]
    },
    {
     "name": "stdout",
     "output_type": "stream",
     "text": [
      "new_df refreshed!\n"
     ]
    },
    {
     "name": "stderr",
     "output_type": "stream",
     "text": [
      "16485it [13:42, 11.55it/s]"
     ]
    },
    {
     "name": "stdout",
     "output_type": "stream",
     "text": [
      "new_df refreshed!\n"
     ]
    },
    {
     "name": "stderr",
     "output_type": "stream",
     "text": [
      "16831it [13:59, 14.67it/s]"
     ]
    },
    {
     "name": "stdout",
     "output_type": "stream",
     "text": [
      "new_df refreshed!\n"
     ]
    },
    {
     "name": "stderr",
     "output_type": "stream",
     "text": [
      "17005it [14:03, 25.88it/s]"
     ]
    },
    {
     "name": "stdout",
     "output_type": "stream",
     "text": [
      "current data size : 43550998\n"
     ]
    },
    {
     "name": "stderr",
     "output_type": "stream",
     "text": [
      "17239it [14:18, 25.15it/s]"
     ]
    },
    {
     "name": "stdout",
     "output_type": "stream",
     "text": [
      "new_df refreshed!\n"
     ]
    },
    {
     "name": "stderr",
     "output_type": "stream",
     "text": [
      "17739it [14:44, 28.54it/s]"
     ]
    },
    {
     "name": "stdout",
     "output_type": "stream",
     "text": [
      "new_df refreshed!\n"
     ]
    },
    {
     "name": "stderr",
     "output_type": "stream",
     "text": [
      "18004it [14:51, 24.29it/s]"
     ]
    },
    {
     "name": "stdout",
     "output_type": "stream",
     "text": [
      "current data size : 46227292\n"
     ]
    },
    {
     "name": "stderr",
     "output_type": "stream",
     "text": [
      "18367it [15:14, 26.89it/s]"
     ]
    },
    {
     "name": "stdout",
     "output_type": "stream",
     "text": [
      "new_df refreshed!\n"
     ]
    },
    {
     "name": "stderr",
     "output_type": "stream",
     "text": [
      "19003it [15:44, 10.27it/s]"
     ]
    },
    {
     "name": "stdout",
     "output_type": "stream",
     "text": [
      "current data size : 95081011\n"
     ]
    },
    {
     "name": "stderr",
     "output_type": "stream",
     "text": [
      "19120it [15:54, 24.99it/s]"
     ]
    },
    {
     "name": "stdout",
     "output_type": "stream",
     "text": [
      "new_df refreshed!\n"
     ]
    },
    {
     "name": "stderr",
     "output_type": "stream",
     "text": [
      "19757it [16:22, 37.24it/s]"
     ]
    },
    {
     "name": "stdout",
     "output_type": "stream",
     "text": [
      "new_df refreshed!\n"
     ]
    },
    {
     "name": "stderr",
     "output_type": "stream",
     "text": [
      "20006it [16:27, 27.97it/s]"
     ]
    },
    {
     "name": "stdout",
     "output_type": "stream",
     "text": [
      "current data size : 39374737\n"
     ]
    },
    {
     "name": "stderr",
     "output_type": "stream",
     "text": [
      "20445it [16:54, 26.00it/s]"
     ]
    },
    {
     "name": "stdout",
     "output_type": "stream",
     "text": [
      "new_df refreshed!\n"
     ]
    },
    {
     "name": "stderr",
     "output_type": "stream",
     "text": [
      "21002it [17:19,  9.99it/s]"
     ]
    },
    {
     "name": "stdout",
     "output_type": "stream",
     "text": [
      "current data size : 102227452\n"
     ]
    },
    {
     "name": "stderr",
     "output_type": "stream",
     "text": [
      "21044it [17:22, 27.02it/s]"
     ]
    },
    {
     "name": "stdout",
     "output_type": "stream",
     "text": [
      "new_df refreshed!\n"
     ]
    },
    {
     "name": "stderr",
     "output_type": "stream",
     "text": [
      "21822it [18:02, 20.09it/s]"
     ]
    },
    {
     "name": "stdout",
     "output_type": "stream",
     "text": [
      "new_df refreshed!\n"
     ]
    },
    {
     "name": "stderr",
     "output_type": "stream",
     "text": [
      "22009it [18:05, 42.26it/s]"
     ]
    },
    {
     "name": "stdout",
     "output_type": "stream",
     "text": [
      "current data size : 26069479\n"
     ]
    },
    {
     "name": "stderr",
     "output_type": "stream",
     "text": [
      "22595it [18:40, 19.54it/s]"
     ]
    },
    {
     "name": "stdout",
     "output_type": "stream",
     "text": [
      "new_df refreshed!\n"
     ]
    },
    {
     "name": "stderr",
     "output_type": "stream",
     "text": [
      "23004it [18:49, 21.68it/s]"
     ]
    },
    {
     "name": "stdout",
     "output_type": "stream",
     "text": [
      "current data size : 50361532\n"
     ]
    },
    {
     "name": "stderr",
     "output_type": "stream",
     "text": [
      "23217it [19:04, 19.00it/s]"
     ]
    },
    {
     "name": "stdout",
     "output_type": "stream",
     "text": [
      "new_df refreshed!\n"
     ]
    },
    {
     "name": "stderr",
     "output_type": "stream",
     "text": [
      "24002it [19:38, 11.72it/s]"
     ]
    },
    {
     "name": "stdout",
     "output_type": "stream",
     "text": [
      "current data size : 88909144\n"
     ]
    },
    {
     "name": "stderr",
     "output_type": "stream",
     "text": [
      "24162it [19:50, 33.13it/s]"
     ]
    },
    {
     "name": "stdout",
     "output_type": "stream",
     "text": [
      "new_df refreshed!\n"
     ]
    },
    {
     "name": "stderr",
     "output_type": "stream",
     "text": [
      "24825it [20:27, 33.68it/s]"
     ]
    },
    {
     "name": "stdout",
     "output_type": "stream",
     "text": [
      "new_df refreshed!\n"
     ]
    },
    {
     "name": "stderr",
     "output_type": "stream",
     "text": [
      "25006it [20:29, 64.57it/s]"
     ]
    },
    {
     "name": "stdout",
     "output_type": "stream",
     "text": [
      "current data size : 18153088\n"
     ]
    },
    {
     "name": "stderr",
     "output_type": "stream",
     "text": [
      "25720it [21:04, 17.83it/s]"
     ]
    },
    {
     "name": "stdout",
     "output_type": "stream",
     "text": [
      "new_df refreshed!\n"
     ]
    },
    {
     "name": "stderr",
     "output_type": "stream",
     "text": [
      "26004it [21:13, 16.06it/s]"
     ]
    },
    {
     "name": "stdout",
     "output_type": "stream",
     "text": [
      "current data size : 63268765\n"
     ]
    },
    {
     "name": "stderr",
     "output_type": "stream",
     "text": [
      "26338it [21:35, 44.97it/s]"
     ]
    },
    {
     "name": "stdout",
     "output_type": "stream",
     "text": [
      "new_df refreshed!\n"
     ]
    },
    {
     "name": "stderr",
     "output_type": "stream",
     "text": [
      "27002it [22:00, 13.02it/s]"
     ]
    },
    {
     "name": "stdout",
     "output_type": "stream",
     "text": [
      "current data size : 78745543\n"
     ]
    },
    {
     "name": "stderr",
     "output_type": "stream",
     "text": [
      "27177it [22:14, 17.31it/s]"
     ]
    },
    {
     "name": "stdout",
     "output_type": "stream",
     "text": [
      "new_df refreshed!\n"
     ]
    },
    {
     "name": "stderr",
     "output_type": "stream",
     "text": [
      "27689it [22:34, 18.60it/s]"
     ]
    },
    {
     "name": "stdout",
     "output_type": "stream",
     "text": [
      "new_df refreshed!\n"
     ]
    },
    {
     "name": "stderr",
     "output_type": "stream",
     "text": [
      "28003it [22:49, 12.59it/s]"
     ]
    },
    {
     "name": "stdout",
     "output_type": "stream",
     "text": [
      "current data size : 86714395\n"
     ]
    },
    {
     "name": "stderr",
     "output_type": "stream",
     "text": [
      "28144it [22:59, 31.16it/s]"
     ]
    },
    {
     "name": "stdout",
     "output_type": "stream",
     "text": [
      "new_df refreshed!\n"
     ]
    },
    {
     "name": "stderr",
     "output_type": "stream",
     "text": [
      "28839it [23:31, 28.96it/s]"
     ]
    },
    {
     "name": "stdout",
     "output_type": "stream",
     "text": [
      "new_df refreshed!\n"
     ]
    },
    {
     "name": "stderr",
     "output_type": "stream",
     "text": [
      "29008it [23:34, 38.27it/s]"
     ]
    },
    {
     "name": "stdout",
     "output_type": "stream",
     "text": [
      "current data size : 28912813\n"
     ]
    },
    {
     "name": "stderr",
     "output_type": "stream",
     "text": [
      "29278it [23:50, 11.30it/s]"
     ]
    },
    {
     "name": "stdout",
     "output_type": "stream",
     "text": [
      "new_df refreshed!\n"
     ]
    },
    {
     "name": "stderr",
     "output_type": "stream",
     "text": [
      "29720it [24:15, 18.87it/s]"
     ]
    },
    {
     "name": "stdout",
     "output_type": "stream",
     "text": [
      "new_df refreshed!\n"
     ]
    },
    {
     "name": "stderr",
     "output_type": "stream",
     "text": [
      "30005it [24:24, 19.40it/s]"
     ]
    },
    {
     "name": "stdout",
     "output_type": "stream",
     "text": [
      "current data size : 56329558\n"
     ]
    },
    {
     "name": "stderr",
     "output_type": "stream",
     "text": [
      "30272it [24:43, 24.36it/s]"
     ]
    },
    {
     "name": "stdout",
     "output_type": "stream",
     "text": [
      "new_df refreshed!\n"
     ]
    },
    {
     "name": "stderr",
     "output_type": "stream",
     "text": [
      "31003it [25:09, 14.61it/s]"
     ]
    },
    {
     "name": "stdout",
     "output_type": "stream",
     "text": [
      "current data size : 74194747\n"
     ]
    },
    {
     "name": "stderr",
     "output_type": "stream",
     "text": [
      "31540it [25:52, 18.80it/s]"
     ]
    },
    {
     "name": "stdout",
     "output_type": "stream",
     "text": [
      "new_df refreshed!\n"
     ]
    },
    {
     "name": "stderr",
     "output_type": "stream",
     "text": [
      "32007it [26:01, 29.23it/s]"
     ]
    },
    {
     "name": "stdout",
     "output_type": "stream",
     "text": [
      "current data size : 39102253\n"
     ]
    },
    {
     "name": "stderr",
     "output_type": "stream",
     "text": [
      "32573it [26:35, 46.28it/s]"
     ]
    },
    {
     "name": "stdout",
     "output_type": "stream",
     "text": [
      "new_df refreshed!\n"
     ]
    },
    {
     "name": "stderr",
     "output_type": "stream",
     "text": [
      "33005it [26:43, 28.84it/s] "
     ]
    },
    {
     "name": "stdout",
     "output_type": "stream",
     "text": [
      "current data size : 38628277\n"
     ]
    },
    {
     "name": "stderr",
     "output_type": "stream",
     "text": [
      "33611it [27:19, 14.81it/s]"
     ]
    },
    {
     "name": "stdout",
     "output_type": "stream",
     "text": [
      "new_df refreshed!\n"
     ]
    },
    {
     "name": "stderr",
     "output_type": "stream",
     "text": [
      "34004it [27:32, 15.41it/s]"
     ]
    },
    {
     "name": "stdout",
     "output_type": "stream",
     "text": [
      "current data size : 69906256\n"
     ]
    },
    {
     "name": "stderr",
     "output_type": "stream",
     "text": [
      "34241it [27:49, 26.90it/s]"
     ]
    },
    {
     "name": "stdout",
     "output_type": "stream",
     "text": [
      "new_df refreshed!\n"
     ]
    },
    {
     "name": "stderr",
     "output_type": "stream",
     "text": [
      "35003it [28:15, 14.68it/s]"
     ]
    },
    {
     "name": "stdout",
     "output_type": "stream",
     "text": [
      "current data size : 74032405\n"
     ]
    },
    {
     "name": "stderr",
     "output_type": "stream",
     "text": [
      "35304it [28:37, 34.41it/s]"
     ]
    },
    {
     "name": "stdout",
     "output_type": "stream",
     "text": [
      "new_df refreshed!\n"
     ]
    },
    {
     "name": "stderr",
     "output_type": "stream",
     "text": [
      "36002it [29:06, 11.69it/s]"
     ]
    },
    {
     "name": "stdout",
     "output_type": "stream",
     "text": [
      "current data size : 90076597\n"
     ]
    },
    {
     "name": "stderr",
     "output_type": "stream",
     "text": [
      "36202it [29:22, 32.00it/s]"
     ]
    },
    {
     "name": "stdout",
     "output_type": "stream",
     "text": [
      "new_df refreshed!\n"
     ]
    },
    {
     "name": "stderr",
     "output_type": "stream",
     "text": [
      "37002it [29:49, 12.94it/s]"
     ]
    },
    {
     "name": "stdout",
     "output_type": "stream",
     "text": [
      "current data size : 79651213\n"
     ]
    },
    {
     "name": "stderr",
     "output_type": "stream",
     "text": [
      "37294it [30:11, 30.34it/s]"
     ]
    },
    {
     "name": "stdout",
     "output_type": "stream",
     "text": [
      "new_df refreshed!\n"
     ]
    },
    {
     "name": "stderr",
     "output_type": "stream",
     "text": [
      "38003it [30:38, 13.43it/s]"
     ]
    },
    {
     "name": "stdout",
     "output_type": "stream",
     "text": [
      "current data size : 80477800\n"
     ]
    },
    {
     "name": "stderr",
     "output_type": "stream",
     "text": [
      "38418it [31:09, 43.83it/s]"
     ]
    },
    {
     "name": "stdout",
     "output_type": "stream",
     "text": [
      "new_df refreshed!\n"
     ]
    },
    {
     "name": "stderr",
     "output_type": "stream",
     "text": [
      "39003it [31:23, 17.29it/s] "
     ]
    },
    {
     "name": "stdout",
     "output_type": "stream",
     "text": [
      "current data size : 63085543\n"
     ]
    },
    {
     "name": "stderr",
     "output_type": "stream",
     "text": [
      "39373it [31:47, 42.47it/s]"
     ]
    },
    {
     "name": "stdout",
     "output_type": "stream",
     "text": [
      "new_df refreshed!\n"
     ]
    },
    {
     "name": "stderr",
     "output_type": "stream",
     "text": [
      "40003it [32:04, 15.88it/s] "
     ]
    },
    {
     "name": "stdout",
     "output_type": "stream",
     "text": [
      "current data size : 68047675\n"
     ]
    },
    {
     "name": "stderr",
     "output_type": "stream",
     "text": [
      "40436it [32:36, 33.51it/s]"
     ]
    },
    {
     "name": "stdout",
     "output_type": "stream",
     "text": [
      "new_df refreshed!\n"
     ]
    },
    {
     "name": "stderr",
     "output_type": "stream",
     "text": [
      "41007it [32:45, 32.42it/s] "
     ]
    },
    {
     "name": "stdout",
     "output_type": "stream",
     "text": [
      "current data size : 35145493\n"
     ]
    },
    {
     "name": "stderr",
     "output_type": "stream",
     "text": [
      "41853it [33:37, 37.60it/s]"
     ]
    },
    {
     "name": "stdout",
     "output_type": "stream",
     "text": [
      "new_df refreshed!\n"
     ]
    },
    {
     "name": "stderr",
     "output_type": "stream",
     "text": [
      "42010it [33:38, 78.46it/s] "
     ]
    },
    {
     "name": "stdout",
     "output_type": "stream",
     "text": [
      "current data size : 14788276\n"
     ]
    },
    {
     "name": "stderr",
     "output_type": "stream",
     "text": [
      "43003it [34:24, 12.01it/s]"
     ]
    },
    {
     "name": "stdout",
     "output_type": "stream",
     "text": [
      "current data size : 92117095\n"
     ]
    },
    {
     "name": "stderr",
     "output_type": "stream",
     "text": [
      "43110it [34:33, 27.29it/s]"
     ]
    },
    {
     "name": "stdout",
     "output_type": "stream",
     "text": [
      "new_df refreshed!\n"
     ]
    },
    {
     "name": "stderr",
     "output_type": "stream",
     "text": [
      "43900it [35:10, 28.02it/s]"
     ]
    },
    {
     "name": "stdout",
     "output_type": "stream",
     "text": [
      "new_df refreshed!\n"
     ]
    },
    {
     "name": "stderr",
     "output_type": "stream",
     "text": [
      "44010it [35:11, 52.15it/s]"
     ]
    },
    {
     "name": "stdout",
     "output_type": "stream",
     "text": [
      "current data size : 22251049\n"
     ]
    },
    {
     "name": "stderr",
     "output_type": "stream",
     "text": [
      "44912it [36:01, 35.22it/s]"
     ]
    },
    {
     "name": "stdout",
     "output_type": "stream",
     "text": [
      "new_df refreshed!\n"
     ]
    },
    {
     "name": "stderr",
     "output_type": "stream",
     "text": [
      "45020it [36:02, 103.25it/s]"
     ]
    },
    {
     "name": "stdout",
     "output_type": "stream",
     "text": [
      "current data size : 8382553\n"
     ]
    },
    {
     "name": "stderr",
     "output_type": "stream",
     "text": [
      "45869it [36:37, 30.13it/s] "
     ]
    },
    {
     "name": "stdout",
     "output_type": "stream",
     "text": [
      "new_df refreshed!\n"
     ]
    },
    {
     "name": "stderr",
     "output_type": "stream",
     "text": [
      "46009it [36:39, 56.14it/s]"
     ]
    },
    {
     "name": "stdout",
     "output_type": "stream",
     "text": [
      "current data size : 20784490\n"
     ]
    },
    {
     "name": "stderr",
     "output_type": "stream",
     "text": [
      "46594it [37:11, 28.91it/s]"
     ]
    },
    {
     "name": "stdout",
     "output_type": "stream",
     "text": [
      "new_df refreshed!\n"
     ]
    },
    {
     "name": "stderr",
     "output_type": "stream",
     "text": [
      "47004it [37:20, 23.28it/s]"
     ]
    },
    {
     "name": "stdout",
     "output_type": "stream",
     "text": [
      "current data size : 49095943\n"
     ]
    },
    {
     "name": "stderr",
     "output_type": "stream",
     "text": [
      "47432it [37:52, 16.81it/s]"
     ]
    },
    {
     "name": "stdout",
     "output_type": "stream",
     "text": [
      "new_df refreshed!\n"
     ]
    },
    {
     "name": "stderr",
     "output_type": "stream",
     "text": [
      "48003it [38:07, 18.00it/s]"
     ]
    },
    {
     "name": "stdout",
     "output_type": "stream",
     "text": [
      "current data size : 59610589\n"
     ]
    },
    {
     "name": "stderr",
     "output_type": "stream",
     "text": [
      "48689it [38:56, 14.69it/s]"
     ]
    },
    {
     "name": "stdout",
     "output_type": "stream",
     "text": [
      "new_df refreshed!\n"
     ]
    },
    {
     "name": "stderr",
     "output_type": "stream",
     "text": [
      "49004it [39:07, 16.81it/s]"
     ]
    },
    {
     "name": "stdout",
     "output_type": "stream",
     "text": [
      "current data size : 64581595\n"
     ]
    },
    {
     "name": "stderr",
     "output_type": "stream",
     "text": [
      "49276it [39:26, 21.96it/s]"
     ]
    },
    {
     "name": "stdout",
     "output_type": "stream",
     "text": [
      "new_df refreshed!\n"
     ]
    },
    {
     "name": "stderr",
     "output_type": "stream",
     "text": [
      "50002it [40:00, 10.38it/s]"
     ]
    },
    {
     "name": "stdout",
     "output_type": "stream",
     "text": [
      "current data size : 98302273\n"
     ]
    },
    {
     "name": "stderr",
     "output_type": "stream",
     "text": [
      "50079it [40:07, 14.45it/s]"
     ]
    },
    {
     "name": "stdout",
     "output_type": "stream",
     "text": [
      "new_df refreshed!\n"
     ]
    },
    {
     "name": "stderr",
     "output_type": "stream",
     "text": [
      "51003it [40:55, 10.32it/s]"
     ]
    },
    {
     "name": "stdout",
     "output_type": "stream",
     "text": [
      "current data size : 101823163\n"
     ]
    },
    {
     "name": "stderr",
     "output_type": "stream",
     "text": [
      "51085it [41:01, 36.72it/s]"
     ]
    },
    {
     "name": "stdout",
     "output_type": "stream",
     "text": [
      "new_df refreshed!\n"
     ]
    },
    {
     "name": "stderr",
     "output_type": "stream",
     "text": [
      "52004it [41:33, 16.26it/s]"
     ]
    },
    {
     "name": "stdout",
     "output_type": "stream",
     "text": [
      "current data size : 67107814\n"
     ]
    },
    {
     "name": "stderr",
     "output_type": "stream",
     "text": [
      "52379it [41:59, 16.07it/s]"
     ]
    },
    {
     "name": "stdout",
     "output_type": "stream",
     "text": [
      "new_df refreshed!\n"
     ]
    },
    {
     "name": "stderr",
     "output_type": "stream",
     "text": [
      "52973it [42:26, 18.79it/s]"
     ]
    },
    {
     "name": "stdout",
     "output_type": "stream",
     "text": [
      "new_df refreshed!\n"
     ]
    },
    {
     "name": "stderr",
     "output_type": "stream",
     "text": [
      "53012it [42:26, 56.30it/s]"
     ]
    },
    {
     "name": "stdout",
     "output_type": "stream",
     "text": [
      "current data size : 11407543\n"
     ]
    },
    {
     "name": "stderr",
     "output_type": "stream",
     "text": [
      "53579it [42:54, 20.63it/s]"
     ]
    },
    {
     "name": "stdout",
     "output_type": "stream",
     "text": [
      "new_df refreshed!\n"
     ]
    },
    {
     "name": "stderr",
     "output_type": "stream",
     "text": [
      "54003it [43:06, 22.48it/s]"
     ]
    },
    {
     "name": "stdout",
     "output_type": "stream",
     "text": [
      "current data size : 48768910\n"
     ]
    },
    {
     "name": "stderr",
     "output_type": "stream",
     "text": [
      "54581it [43:43, 34.16it/s]"
     ]
    },
    {
     "name": "stdout",
     "output_type": "stream",
     "text": [
      "new_df refreshed!\n"
     ]
    },
    {
     "name": "stderr",
     "output_type": "stream",
     "text": [
      "55005it [43:51, 27.81it/s]"
     ]
    },
    {
     "name": "stdout",
     "output_type": "stream",
     "text": [
      "current data size : 41173810\n"
     ]
    },
    {
     "name": "stderr",
     "output_type": "stream",
     "text": [
      "55746it [44:36, 13.54it/s]"
     ]
    },
    {
     "name": "stdout",
     "output_type": "stream",
     "text": [
      "new_df refreshed!\n"
     ]
    },
    {
     "name": "stderr",
     "output_type": "stream",
     "text": [
      "56005it [44:41, 29.58it/s]"
     ]
    },
    {
     "name": "stdout",
     "output_type": "stream",
     "text": [
      "current data size : 36934387\n"
     ]
    },
    {
     "name": "stderr",
     "output_type": "stream",
     "text": [
      "56714it [45:26, 41.33it/s]"
     ]
    },
    {
     "name": "stdout",
     "output_type": "stream",
     "text": [
      "new_df refreshed!\n"
     ]
    },
    {
     "name": "stderr",
     "output_type": "stream",
     "text": [
      "57008it [45:29, 50.65it/s] "
     ]
    },
    {
     "name": "stdout",
     "output_type": "stream",
     "text": [
      "current data size : 21859027\n"
     ]
    },
    {
     "name": "stderr",
     "output_type": "stream",
     "text": [
      "57905it [46:18, 20.94it/s]"
     ]
    },
    {
     "name": "stdout",
     "output_type": "stream",
     "text": [
      "new_df refreshed!\n"
     ]
    },
    {
     "name": "stderr",
     "output_type": "stream",
     "text": [
      "58010it [46:19, 70.45it/s]"
     ]
    },
    {
     "name": "stdout",
     "output_type": "stream",
     "text": [
      "current data size : 14850655\n"
     ]
    },
    {
     "name": "stderr",
     "output_type": "stream",
     "text": [
      "59021it [47:05, 25.79it/s]"
     ]
    },
    {
     "name": "stdout",
     "output_type": "stream",
     "text": [
      "new_df refreshed!\n",
      "current data size : 750130\n"
     ]
    },
    {
     "name": "stderr",
     "output_type": "stream",
     "text": [
      "59877it [47:48, 22.03it/s]"
     ]
    },
    {
     "name": "stdout",
     "output_type": "stream",
     "text": [
      "new_df refreshed!\n"
     ]
    },
    {
     "name": "stderr",
     "output_type": "stream",
     "text": [
      "60004it [47:50, 50.99it/s]"
     ]
    },
    {
     "name": "stdout",
     "output_type": "stream",
     "text": [
      "current data size : 25036963\n"
     ]
    },
    {
     "name": "stderr",
     "output_type": "stream",
     "text": [
      "60715it [48:31, 29.89it/s]"
     ]
    },
    {
     "name": "stdout",
     "output_type": "stream",
     "text": [
      "new_df refreshed!\n"
     ]
    },
    {
     "name": "stderr",
     "output_type": "stream",
     "text": [
      "61004it [48:36, 31.61it/s]"
     ]
    },
    {
     "name": "stdout",
     "output_type": "stream",
     "text": [
      "current data size : 33995527\n"
     ]
    },
    {
     "name": "stderr",
     "output_type": "stream",
     "text": [
      "61478it [49:04, 26.49it/s]"
     ]
    },
    {
     "name": "stdout",
     "output_type": "stream",
     "text": [
      "new_df refreshed!\n"
     ]
    },
    {
     "name": "stderr",
     "output_type": "stream",
     "text": [
      "62004it [49:22, 14.67it/s]"
     ]
    },
    {
     "name": "stdout",
     "output_type": "stream",
     "text": [
      "current data size : 72016963\n"
     ]
    },
    {
     "name": "stderr",
     "output_type": "stream",
     "text": [
      "62265it [49:40, 28.83it/s]"
     ]
    },
    {
     "name": "stdout",
     "output_type": "stream",
     "text": [
      "new_df refreshed!\n"
     ]
    },
    {
     "name": "stderr",
     "output_type": "stream",
     "text": [
      "63003it [50:10, 14.65it/s]"
     ]
    },
    {
     "name": "stdout",
     "output_type": "stream",
     "text": [
      "current data size : 74600341\n"
     ]
    },
    {
     "name": "stderr",
     "output_type": "stream",
     "text": [
      "63260it [50:29, 15.80it/s]"
     ]
    },
    {
     "name": "stdout",
     "output_type": "stream",
     "text": [
      "new_df refreshed!\n"
     ]
    },
    {
     "name": "stderr",
     "output_type": "stream",
     "text": [
      "64003it [50:54, 17.79it/s]"
     ]
    },
    {
     "name": "stdout",
     "output_type": "stream",
     "text": [
      "current data size : 60535573\n"
     ]
    },
    {
     "name": "stderr",
     "output_type": "stream",
     "text": [
      "64901it [51:54, 32.41it/s]"
     ]
    },
    {
     "name": "stdout",
     "output_type": "stream",
     "text": [
      "new_df refreshed!\n"
     ]
    },
    {
     "name": "stderr",
     "output_type": "stream",
     "text": [
      "65010it [51:55, 95.73it/s] "
     ]
    },
    {
     "name": "stdout",
     "output_type": "stream",
     "text": [
      "current data size : 10517533\n"
     ]
    },
    {
     "name": "stderr",
     "output_type": "stream",
     "text": [
      "66003it [52:33, 14.06it/s]"
     ]
    },
    {
     "name": "stdout",
     "output_type": "stream",
     "text": [
      "current data size : 75809032\n"
     ]
    },
    {
     "name": "stderr",
     "output_type": "stream",
     "text": [
      "66626it [53:20, 43.49it/s]"
     ]
    },
    {
     "name": "stdout",
     "output_type": "stream",
     "text": [
      "new_df refreshed!\n"
     ]
    },
    {
     "name": "stderr",
     "output_type": "stream",
     "text": [
      "67008it [53:23, 68.34it/s] "
     ]
    },
    {
     "name": "stdout",
     "output_type": "stream",
     "text": [
      "current data size : 16337833\n"
     ]
    },
    {
     "name": "stderr",
     "output_type": "stream",
     "text": [
      "68004it [54:05, 13.93it/s]"
     ]
    },
    {
     "name": "stdout",
     "output_type": "stream",
     "text": [
      "current data size : 77927830\n"
     ]
    },
    {
     "name": "stderr",
     "output_type": "stream",
     "text": [
      "68736it [55:02, 47.20it/s]"
     ]
    },
    {
     "name": "stdout",
     "output_type": "stream",
     "text": [
      "new_df refreshed!\n"
     ]
    },
    {
     "name": "stderr",
     "output_type": "stream",
     "text": [
      "69005it [55:06, 23.46it/s] "
     ]
    },
    {
     "name": "stdout",
     "output_type": "stream",
     "text": [
      "current data size : 46300633\n"
     ]
    },
    {
     "name": "stderr",
     "output_type": "stream",
     "text": [
      "69293it [55:27, 15.68it/s]"
     ]
    },
    {
     "name": "stdout",
     "output_type": "stream",
     "text": [
      "new_df refreshed!\n"
     ]
    },
    {
     "name": "stderr",
     "output_type": "stream",
     "text": [
      "69938it [55:56, 27.64it/s]"
     ]
    },
    {
     "name": "stdout",
     "output_type": "stream",
     "text": [
      "new_df refreshed!\n"
     ]
    },
    {
     "name": "stderr",
     "output_type": "stream",
     "text": [
      "70015it [55:56, 75.48it/s]"
     ]
    },
    {
     "name": "stdout",
     "output_type": "stream",
     "text": [
      "current data size : 12280327\n"
     ]
    },
    {
     "name": "stderr",
     "output_type": "stream",
     "text": [
      "70783it [56:34, 33.82it/s]"
     ]
    },
    {
     "name": "stdout",
     "output_type": "stream",
     "text": [
      "new_df refreshed!\n"
     ]
    },
    {
     "name": "stderr",
     "output_type": "stream",
     "text": [
      "71005it [56:38, 35.45it/s]"
     ]
    },
    {
     "name": "stdout",
     "output_type": "stream",
     "text": [
      "current data size : 31662187\n"
     ]
    },
    {
     "name": "stderr",
     "output_type": "stream",
     "text": [
      "71616it [57:13, 21.88it/s]"
     ]
    },
    {
     "name": "stdout",
     "output_type": "stream",
     "text": [
      "new_df refreshed!\n"
     ]
    },
    {
     "name": "stderr",
     "output_type": "stream",
     "text": [
      "71994it [57:35, 23.28it/s]"
     ]
    },
    {
     "name": "stdout",
     "output_type": "stream",
     "text": [
      "new_df refreshed!\n",
      "current data size : 5216884\n"
     ]
    },
    {
     "name": "stderr",
     "output_type": "stream",
     "text": [
      "72800it [58:09, 21.68it/s]"
     ]
    },
    {
     "name": "stdout",
     "output_type": "stream",
     "text": [
      "new_df refreshed!\n"
     ]
    },
    {
     "name": "stderr",
     "output_type": "stream",
     "text": [
      "73009it [58:12, 42.14it/s]"
     ]
    },
    {
     "name": "stdout",
     "output_type": "stream",
     "text": [
      "current data size : 26492821\n"
     ]
    },
    {
     "name": "stderr",
     "output_type": "stream",
     "text": [
      "73804it [58:53, 17.64it/s]"
     ]
    },
    {
     "name": "stdout",
     "output_type": "stream",
     "text": [
      "new_df refreshed!\n"
     ]
    },
    {
     "name": "stderr",
     "output_type": "stream",
     "text": [
      "74006it [58:55, 45.91it/s]"
     ]
    },
    {
     "name": "stdout",
     "output_type": "stream",
     "text": [
      "current data size : 25334503\n"
     ]
    },
    {
     "name": "stderr",
     "output_type": "stream",
     "text": [
      "75003it [59:54, 10.26it/s]"
     ]
    },
    {
     "name": "stdout",
     "output_type": "stream",
     "text": [
      "current data size : 100293964\n"
     ]
    },
    {
     "name": "stderr",
     "output_type": "stream",
     "text": [
      "75054it [59:58, 14.44it/s]"
     ]
    },
    {
     "name": "stdout",
     "output_type": "stream",
     "text": [
      "new_df refreshed!\n"
     ]
    },
    {
     "name": "stderr",
     "output_type": "stream",
     "text": [
      "76003it [1:00:41, 10.36it/s]"
     ]
    },
    {
     "name": "stdout",
     "output_type": "stream",
     "text": [
      "current data size : 93868927\n"
     ]
    },
    {
     "name": "stderr",
     "output_type": "stream",
     "text": [
      "76090it [1:00:48, 16.63it/s]"
     ]
    },
    {
     "name": "stdout",
     "output_type": "stream",
     "text": [
      "new_df refreshed!\n"
     ]
    },
    {
     "name": "stderr",
     "output_type": "stream",
     "text": [
      "76622it [1:01:15, 27.75it/s]"
     ]
    },
    {
     "name": "stdout",
     "output_type": "stream",
     "text": [
      "new_df refreshed!\n"
     ]
    },
    {
     "name": "stderr",
     "output_type": "stream",
     "text": [
      "77007it [1:01:22, 31.07it/s]"
     ]
    },
    {
     "name": "stdout",
     "output_type": "stream",
     "text": [
      "current data size : 36164437\n"
     ]
    },
    {
     "name": "stderr",
     "output_type": "stream",
     "text": [
      "77920it [1:02:13, 25.19it/s]"
     ]
    },
    {
     "name": "stdout",
     "output_type": "stream",
     "text": [
      "new_df refreshed!\n"
     ]
    },
    {
     "name": "stderr",
     "output_type": "stream",
     "text": [
      "78015it [1:02:13, 88.91it/s]"
     ]
    },
    {
     "name": "stdout",
     "output_type": "stream",
     "text": [
      "current data size : 10393036\n"
     ]
    },
    {
     "name": "stderr",
     "output_type": "stream",
     "text": [
      "78925it [1:02:57, 38.86it/s]"
     ]
    },
    {
     "name": "stdout",
     "output_type": "stream",
     "text": [
      "new_df refreshed!\n"
     ]
    },
    {
     "name": "stderr",
     "output_type": "stream",
     "text": [
      "79016it [1:02:58, 102.06it/s]"
     ]
    },
    {
     "name": "stdout",
     "output_type": "stream",
     "text": [
      "current data size : 8210032\n"
     ]
    },
    {
     "name": "stderr",
     "output_type": "stream",
     "text": [
      "80002it [1:03:45,  9.91it/s] "
     ]
    },
    {
     "name": "stdout",
     "output_type": "stream",
     "text": [
      "current data size : 101584870\n"
     ]
    },
    {
     "name": "stderr",
     "output_type": "stream",
     "text": [
      "80073it [1:03:49, 39.67it/s]"
     ]
    },
    {
     "name": "stdout",
     "output_type": "stream",
     "text": [
      "new_df refreshed!\n"
     ]
    },
    {
     "name": "stderr",
     "output_type": "stream",
     "text": [
      "81004it [1:04:11, 21.07it/s] "
     ]
    },
    {
     "name": "stdout",
     "output_type": "stream",
     "text": [
      "current data size : 52228987\n"
     ]
    },
    {
     "name": "stderr",
     "output_type": "stream",
     "text": [
      "81458it [1:04:41, 36.18it/s]"
     ]
    },
    {
     "name": "stdout",
     "output_type": "stream",
     "text": [
      "new_df refreshed!\n"
     ]
    },
    {
     "name": "stderr",
     "output_type": "stream",
     "text": [
      "82005it [1:04:55, 22.74it/s]"
     ]
    },
    {
     "name": "stdout",
     "output_type": "stream",
     "text": [
      "current data size : 50289496\n"
     ]
    },
    {
     "name": "stderr",
     "output_type": "stream",
     "text": [
      "83003it [1:06:00, 10.43it/s]"
     ]
    },
    {
     "name": "stdout",
     "output_type": "stream",
     "text": [
      "current data size : 103438492\n"
     ]
    },
    {
     "name": "stderr",
     "output_type": "stream",
     "text": [
      "83053it [1:06:03, 26.38it/s]"
     ]
    },
    {
     "name": "stdout",
     "output_type": "stream",
     "text": [
      "new_df refreshed!\n"
     ]
    },
    {
     "name": "stderr",
     "output_type": "stream",
     "text": [
      "84003it [1:06:37, 15.75it/s]"
     ]
    },
    {
     "name": "stdout",
     "output_type": "stream",
     "text": [
      "current data size : 69419491\n"
     ]
    },
    {
     "name": "stderr",
     "output_type": "stream",
     "text": [
      "84403it [1:07:02, 14.08it/s]"
     ]
    }
   ],
   "source": [
    "create_export_data(22)\n",
    "create_export_data(23)"
   ]
  },
  {
   "cell_type": "markdown",
   "id": "cf15823b",
   "metadata": {},
   "source": [
    "## 전체 수출 데이터 (22,23년) 에서 각 기업이 해당 품목에 대해 \n",
    "## 기존에 수출하지 않은 국가들에 대한 행도 추가한 데이터셋입니다."
   ]
  },
  {
   "cell_type": "code",
   "execution_count": null,
   "id": "df4ea1ba",
   "metadata": {},
   "outputs": [],
   "source": [
    "# 2022, 2023 데이터를 열 방향으로 이어붙임\n",
    "df_p=pd.read_csv('./전처리데이터/stack_value_22_test_all.csv')\n",
    "df_n=pd.read_csv('./전처리데이터/stack_value_23_test_all.csv')\n",
    "\n",
    "# 학습시킨 데이터와 동일한 형태로 자료형 변환\n",
    "df_n['BSNO']=df_n['BSNO'].astype(float).astype(int).astype(str)\n",
    "df_n['HSCD']=df_n['HSCD'].astype(float).astype(int).astype(str)\n",
    "df_p['BSNO']=df_p['BSNO'].astype(float).astype(int).astype(str)\n",
    "df_p['HSCD']=df_p['HSCD'].astype(float).astype(int).astype(str)\n",
    "\n",
    "\n",
    "# 데이터 합산\n",
    "df_combined = pd.merge(df_n, df_p, on = ['BSNO', 'HSCD', 'COUNTRYCD'], how= 'outer', suffixes = ('_n', '_p')) # 1139264\n",
    "\n",
    "\n",
    "# 22년에 수출이 없었던 값 or 23년에 수출하지 않는 품목은 값을 0으로 채우기\n",
    "df_combined = df_combined.fillna(0)\n",
    "df_combined.to_csv('./전처리데이터/stack_value_test_all.csv', index=False)"
   ]
  },
  {
   "cell_type": "code",
   "execution_count": 3,
   "id": "f4f2e254",
   "metadata": {
    "scrolled": false
   },
   "outputs": [
    {
     "data": {
      "text/html": [
       "<div>\n",
       "<style scoped>\n",
       "    .dataframe tbody tr th:only-of-type {\n",
       "        vertical-align: middle;\n",
       "    }\n",
       "\n",
       "    .dataframe tbody tr th {\n",
       "        vertical-align: top;\n",
       "    }\n",
       "\n",
       "    .dataframe thead th {\n",
       "        text-align: right;\n",
       "    }\n",
       "</style>\n",
       "<table border=\"1\" class=\"dataframe\">\n",
       "  <thead>\n",
       "    <tr style=\"text-align: right;\">\n",
       "      <th></th>\n",
       "      <th>YEAR_n</th>\n",
       "      <th>COUNTRYCD</th>\n",
       "      <th>HSCD</th>\n",
       "      <th>BSNO</th>\n",
       "      <th>해당국_해당품목_수출액_n</th>\n",
       "      <th>전세계_해당품목_수출액_n</th>\n",
       "      <th>전세계_전체품목_수출액_n</th>\n",
       "      <th>해당국_전체품목_수출액_n</th>\n",
       "      <th>수출품목수_전세계_n</th>\n",
       "      <th>수출국가수_전체품목_n</th>\n",
       "      <th>...</th>\n",
       "      <th>YEAR_p</th>\n",
       "      <th>해당국_해당품목_수출액_p</th>\n",
       "      <th>전세계_해당품목_수출액_p</th>\n",
       "      <th>전세계_전체품목_수출액_p</th>\n",
       "      <th>해당국_전체품목_수출액_p</th>\n",
       "      <th>수출품목수_전세계_p</th>\n",
       "      <th>수출국가수_전체품목_p</th>\n",
       "      <th>수출품목수_해당국_p</th>\n",
       "      <th>수출국가수_해당품목_p</th>\n",
       "      <th>HSCD_2_p</th>\n",
       "    </tr>\n",
       "  </thead>\n",
       "  <tbody>\n",
       "    <tr>\n",
       "      <th>0</th>\n",
       "      <td>2023.0</td>\n",
       "      <td>AE</td>\n",
       "      <td>10619</td>\n",
       "      <td>4728600892</td>\n",
       "      <td>739.0</td>\n",
       "      <td>22524.0</td>\n",
       "      <td>22524.0</td>\n",
       "      <td>739.0</td>\n",
       "      <td>1.0</td>\n",
       "      <td>13.0</td>\n",
       "      <td>...</td>\n",
       "      <td>2022.0</td>\n",
       "      <td>318.0</td>\n",
       "      <td>15005.0</td>\n",
       "      <td>15005.0</td>\n",
       "      <td>318.0</td>\n",
       "      <td>1.0</td>\n",
       "      <td>15.0</td>\n",
       "      <td>1.0</td>\n",
       "      <td>15.0</td>\n",
       "      <td>1.0</td>\n",
       "    </tr>\n",
       "    <tr>\n",
       "      <th>1</th>\n",
       "      <td>2023.0</td>\n",
       "      <td>AE</td>\n",
       "      <td>10619</td>\n",
       "      <td>5418101760</td>\n",
       "      <td>8790.0</td>\n",
       "      <td>127951.0</td>\n",
       "      <td>127951.0</td>\n",
       "      <td>8790.0</td>\n",
       "      <td>1.0</td>\n",
       "      <td>10.0</td>\n",
       "      <td>...</td>\n",
       "      <td>2022.0</td>\n",
       "      <td>80666.0</td>\n",
       "      <td>214913.0</td>\n",
       "      <td>214913.0</td>\n",
       "      <td>80666.0</td>\n",
       "      <td>1.0</td>\n",
       "      <td>5.0</td>\n",
       "      <td>1.0</td>\n",
       "      <td>5.0</td>\n",
       "      <td>1.0</td>\n",
       "    </tr>\n",
       "    <tr>\n",
       "      <th>2</th>\n",
       "      <td>2023.0</td>\n",
       "      <td>AE</td>\n",
       "      <td>10619</td>\n",
       "      <td>8212001739</td>\n",
       "      <td>1000.0</td>\n",
       "      <td>70012.0</td>\n",
       "      <td>70012.0</td>\n",
       "      <td>1000.0</td>\n",
       "      <td>1.0</td>\n",
       "      <td>7.0</td>\n",
       "      <td>...</td>\n",
       "      <td>0.0</td>\n",
       "      <td>0.0</td>\n",
       "      <td>55117.0</td>\n",
       "      <td>55117.0</td>\n",
       "      <td>0.0</td>\n",
       "      <td>1.0</td>\n",
       "      <td>7.0</td>\n",
       "      <td>0.0</td>\n",
       "      <td>7.0</td>\n",
       "      <td>0.0</td>\n",
       "    </tr>\n",
       "    <tr>\n",
       "      <th>3</th>\n",
       "      <td>2023.0</td>\n",
       "      <td>AE</td>\n",
       "      <td>20322</td>\n",
       "      <td>6168624854</td>\n",
       "      <td>3531.0</td>\n",
       "      <td>4841.0</td>\n",
       "      <td>2172627.0</td>\n",
       "      <td>151874.0</td>\n",
       "      <td>76.0</td>\n",
       "      <td>19.0</td>\n",
       "      <td>...</td>\n",
       "      <td>2022.0</td>\n",
       "      <td>4837.0</td>\n",
       "      <td>4837.0</td>\n",
       "      <td>2294827.0</td>\n",
       "      <td>319761.0</td>\n",
       "      <td>97.0</td>\n",
       "      <td>16.0</td>\n",
       "      <td>51.0</td>\n",
       "      <td>1.0</td>\n",
       "      <td>2.0</td>\n",
       "    </tr>\n",
       "    <tr>\n",
       "      <th>4</th>\n",
       "      <td>2023.0</td>\n",
       "      <td>AE</td>\n",
       "      <td>20329</td>\n",
       "      <td>6168624854</td>\n",
       "      <td>50899.0</td>\n",
       "      <td>93590.0</td>\n",
       "      <td>2172627.0</td>\n",
       "      <td>151874.0</td>\n",
       "      <td>76.0</td>\n",
       "      <td>19.0</td>\n",
       "      <td>...</td>\n",
       "      <td>2022.0</td>\n",
       "      <td>58984.0</td>\n",
       "      <td>58984.0</td>\n",
       "      <td>2294827.0</td>\n",
       "      <td>319761.0</td>\n",
       "      <td>97.0</td>\n",
       "      <td>16.0</td>\n",
       "      <td>51.0</td>\n",
       "      <td>1.0</td>\n",
       "      <td>2.0</td>\n",
       "    </tr>\n",
       "    <tr>\n",
       "      <th>...</th>\n",
       "      <td>...</td>\n",
       "      <td>...</td>\n",
       "      <td>...</td>\n",
       "      <td>...</td>\n",
       "      <td>...</td>\n",
       "      <td>...</td>\n",
       "      <td>...</td>\n",
       "      <td>...</td>\n",
       "      <td>...</td>\n",
       "      <td>...</td>\n",
       "      <td>...</td>\n",
       "      <td>...</td>\n",
       "      <td>...</td>\n",
       "      <td>...</td>\n",
       "      <td>...</td>\n",
       "      <td>...</td>\n",
       "      <td>...</td>\n",
       "      <td>...</td>\n",
       "      <td>...</td>\n",
       "      <td>...</td>\n",
       "      <td>...</td>\n",
       "    </tr>\n",
       "    <tr>\n",
       "      <th>75360856</th>\n",
       "      <td>0.0</td>\n",
       "      <td>SG</td>\n",
       "      <td>730519</td>\n",
       "      <td>6048108837</td>\n",
       "      <td>0.0</td>\n",
       "      <td>0.0</td>\n",
       "      <td>0.0</td>\n",
       "      <td>0.0</td>\n",
       "      <td>0.0</td>\n",
       "      <td>0.0</td>\n",
       "      <td>...</td>\n",
       "      <td>0.0</td>\n",
       "      <td>0.0</td>\n",
       "      <td>37700.0</td>\n",
       "      <td>37700.0</td>\n",
       "      <td>0.0</td>\n",
       "      <td>1.0</td>\n",
       "      <td>1.0</td>\n",
       "      <td>0.0</td>\n",
       "      <td>1.0</td>\n",
       "      <td>0.0</td>\n",
       "    </tr>\n",
       "    <tr>\n",
       "      <th>75360857</th>\n",
       "      <td>0.0</td>\n",
       "      <td>TH</td>\n",
       "      <td>730519</td>\n",
       "      <td>6048108837</td>\n",
       "      <td>0.0</td>\n",
       "      <td>0.0</td>\n",
       "      <td>0.0</td>\n",
       "      <td>0.0</td>\n",
       "      <td>0.0</td>\n",
       "      <td>0.0</td>\n",
       "      <td>...</td>\n",
       "      <td>0.0</td>\n",
       "      <td>0.0</td>\n",
       "      <td>37700.0</td>\n",
       "      <td>37700.0</td>\n",
       "      <td>0.0</td>\n",
       "      <td>1.0</td>\n",
       "      <td>1.0</td>\n",
       "      <td>0.0</td>\n",
       "      <td>1.0</td>\n",
       "      <td>0.0</td>\n",
       "    </tr>\n",
       "    <tr>\n",
       "      <th>75360858</th>\n",
       "      <td>0.0</td>\n",
       "      <td>VN</td>\n",
       "      <td>730519</td>\n",
       "      <td>6048108837</td>\n",
       "      <td>0.0</td>\n",
       "      <td>0.0</td>\n",
       "      <td>0.0</td>\n",
       "      <td>0.0</td>\n",
       "      <td>0.0</td>\n",
       "      <td>0.0</td>\n",
       "      <td>...</td>\n",
       "      <td>0.0</td>\n",
       "      <td>0.0</td>\n",
       "      <td>37700.0</td>\n",
       "      <td>37700.0</td>\n",
       "      <td>0.0</td>\n",
       "      <td>1.0</td>\n",
       "      <td>1.0</td>\n",
       "      <td>0.0</td>\n",
       "      <td>1.0</td>\n",
       "      <td>0.0</td>\n",
       "    </tr>\n",
       "    <tr>\n",
       "      <th>75360859</th>\n",
       "      <td>0.0</td>\n",
       "      <td>CN</td>\n",
       "      <td>730519</td>\n",
       "      <td>6048108837</td>\n",
       "      <td>0.0</td>\n",
       "      <td>0.0</td>\n",
       "      <td>0.0</td>\n",
       "      <td>0.0</td>\n",
       "      <td>0.0</td>\n",
       "      <td>0.0</td>\n",
       "      <td>...</td>\n",
       "      <td>0.0</td>\n",
       "      <td>0.0</td>\n",
       "      <td>37700.0</td>\n",
       "      <td>37700.0</td>\n",
       "      <td>0.0</td>\n",
       "      <td>1.0</td>\n",
       "      <td>1.0</td>\n",
       "      <td>0.0</td>\n",
       "      <td>1.0</td>\n",
       "      <td>0.0</td>\n",
       "    </tr>\n",
       "    <tr>\n",
       "      <th>75360860</th>\n",
       "      <td>0.0</td>\n",
       "      <td>GH</td>\n",
       "      <td>730519</td>\n",
       "      <td>6048108837</td>\n",
       "      <td>0.0</td>\n",
       "      <td>0.0</td>\n",
       "      <td>0.0</td>\n",
       "      <td>0.0</td>\n",
       "      <td>0.0</td>\n",
       "      <td>0.0</td>\n",
       "      <td>...</td>\n",
       "      <td>0.0</td>\n",
       "      <td>0.0</td>\n",
       "      <td>37700.0</td>\n",
       "      <td>37700.0</td>\n",
       "      <td>0.0</td>\n",
       "      <td>1.0</td>\n",
       "      <td>1.0</td>\n",
       "      <td>0.0</td>\n",
       "      <td>1.0</td>\n",
       "      <td>0.0</td>\n",
       "    </tr>\n",
       "  </tbody>\n",
       "</table>\n",
       "<p>75360861 rows × 23 columns</p>\n",
       "</div>"
      ],
      "text/plain": [
       "          YEAR_n COUNTRYCD    HSCD        BSNO  해당국_해당품목_수출액_n  \\\n",
       "0         2023.0        AE   10619  4728600892           739.0   \n",
       "1         2023.0        AE   10619  5418101760          8790.0   \n",
       "2         2023.0        AE   10619  8212001739          1000.0   \n",
       "3         2023.0        AE   20322  6168624854          3531.0   \n",
       "4         2023.0        AE   20329  6168624854         50899.0   \n",
       "...          ...       ...     ...         ...             ...   \n",
       "75360856     0.0        SG  730519  6048108837             0.0   \n",
       "75360857     0.0        TH  730519  6048108837             0.0   \n",
       "75360858     0.0        VN  730519  6048108837             0.0   \n",
       "75360859     0.0        CN  730519  6048108837             0.0   \n",
       "75360860     0.0        GH  730519  6048108837             0.0   \n",
       "\n",
       "          전세계_해당품목_수출액_n  전세계_전체품목_수출액_n  해당국_전체품목_수출액_n  수출품목수_전세계_n  \\\n",
       "0                22524.0         22524.0           739.0          1.0   \n",
       "1               127951.0        127951.0          8790.0          1.0   \n",
       "2                70012.0         70012.0          1000.0          1.0   \n",
       "3                 4841.0       2172627.0        151874.0         76.0   \n",
       "4                93590.0       2172627.0        151874.0         76.0   \n",
       "...                  ...             ...             ...          ...   \n",
       "75360856             0.0             0.0             0.0          0.0   \n",
       "75360857             0.0             0.0             0.0          0.0   \n",
       "75360858             0.0             0.0             0.0          0.0   \n",
       "75360859             0.0             0.0             0.0          0.0   \n",
       "75360860             0.0             0.0             0.0          0.0   \n",
       "\n",
       "          수출국가수_전체품목_n  ...  YEAR_p  해당국_해당품목_수출액_p  전세계_해당품목_수출액_p  \\\n",
       "0                 13.0  ...  2022.0           318.0         15005.0   \n",
       "1                 10.0  ...  2022.0         80666.0        214913.0   \n",
       "2                  7.0  ...     0.0             0.0         55117.0   \n",
       "3                 19.0  ...  2022.0          4837.0          4837.0   \n",
       "4                 19.0  ...  2022.0         58984.0         58984.0   \n",
       "...                ...  ...     ...             ...             ...   \n",
       "75360856           0.0  ...     0.0             0.0         37700.0   \n",
       "75360857           0.0  ...     0.0             0.0         37700.0   \n",
       "75360858           0.0  ...     0.0             0.0         37700.0   \n",
       "75360859           0.0  ...     0.0             0.0         37700.0   \n",
       "75360860           0.0  ...     0.0             0.0         37700.0   \n",
       "\n",
       "          전세계_전체품목_수출액_p  해당국_전체품목_수출액_p  수출품목수_전세계_p  수출국가수_전체품목_p  \\\n",
       "0                15005.0           318.0          1.0          15.0   \n",
       "1               214913.0         80666.0          1.0           5.0   \n",
       "2                55117.0             0.0          1.0           7.0   \n",
       "3              2294827.0        319761.0         97.0          16.0   \n",
       "4              2294827.0        319761.0         97.0          16.0   \n",
       "...                  ...             ...          ...           ...   \n",
       "75360856         37700.0             0.0          1.0           1.0   \n",
       "75360857         37700.0             0.0          1.0           1.0   \n",
       "75360858         37700.0             0.0          1.0           1.0   \n",
       "75360859         37700.0             0.0          1.0           1.0   \n",
       "75360860         37700.0             0.0          1.0           1.0   \n",
       "\n",
       "          수출품목수_해당국_p  수출국가수_해당품목_p  HSCD_2_p  \n",
       "0                 1.0          15.0       1.0  \n",
       "1                 1.0           5.0       1.0  \n",
       "2                 0.0           7.0       0.0  \n",
       "3                51.0           1.0       2.0  \n",
       "4                51.0           1.0       2.0  \n",
       "...               ...           ...       ...  \n",
       "75360856          0.0           1.0       0.0  \n",
       "75360857          0.0           1.0       0.0  \n",
       "75360858          0.0           1.0       0.0  \n",
       "75360859          0.0           1.0       0.0  \n",
       "75360860          0.0           1.0       0.0  \n",
       "\n",
       "[75360861 rows x 23 columns]"
      ]
     },
     "execution_count": 3,
     "metadata": {},
     "output_type": "execute_result"
    }
   ],
   "source": [
    "df_combined"
   ]
  },
  {
   "cell_type": "markdown",
   "id": "8c2f81b8",
   "metadata": {},
   "source": [
    "# 모델 학습 (기존에 학습시킨 모델이 있다면 실행하지 않아도 됨)"
   ]
  },
  {
   "cell_type": "code",
   "execution_count": null,
   "id": "b3023f6f",
   "metadata": {},
   "outputs": [],
   "source": [
    "# 수출통계 데이터 합산\n",
    "trade_file_list = './데이터셋/수출통계'\n",
    "trade_files = glob.glob(os.path.join(trade_file_list, \"*.csv\"))\n",
    "\n",
    "column_types1 = {\n",
    "    'YEAR' : 'int64',\n",
    "    'BSNO' : 'category',\n",
    "    'COUNTRYCD' : 'category',\n",
    "    'HSCD' : 'category',\n",
    "    'EXIMAMT' : 'int64'\n",
    "}\n",
    "\n",
    "trade_list = [pd.read_csv(file, dtype = column_types1) for file in trade_files]\n",
    "combined_trade = pd.concat(trade_list, ignore_index = True)\n",
    "\n",
    "# bsno 없는 것 삭제\n",
    "combined_trade = combined_trade.dropna(subset=['BSNO'])\n",
    "\n",
    "# 데이터 범위 설정\n",
    "combined_trade = combined_trade[(combined_trade['YEAR'] >= 2020) & (combined_trade['YEAR'] <= 2024)]\n",
    "\n",
    "# 나미비아 NA로 바꿔주기\n",
    "combined_trade.loc[:,'COUNTRYCD'] = combined_trade['COUNTRYCD'].fillna('NA')\n",
    "\n",
    "# 수출액이 0인 경우 모두 삭제\n",
    "combined_trade = combined_trade[combined_trade['EXIMAMT'] !=0]\n",
    "\n",
    "# 특정 사업자번호 삭제\n",
    "combined_trade = combined_trade[combined_trade['BSNO'] != '1000000000'] # 5215219\n",
    "\n",
    "# 2개년 수출기업/수출품목 리스트\n",
    "yr22 = combined_trade[combined_trade['YEAR'] == 2022]\n",
    "yr21 = combined_trade[combined_trade['YEAR'] == 2021]\n",
    "\n",
    "yr22 = yr22.drop(columns = ['YEAR', 'EXIMAMT']).drop_duplicates()\n",
    "yr21 = yr21.drop(columns = ['YEAR', 'EXIMAMT']).drop_duplicates()\n",
    "\n",
    "yr_total = pd.merge(yr22, yr21, on = ['BSNO', 'HSCD', 'COUNTRYCD'], how= 'outer') # 1575467\n",
    "\n",
    "# 연도별 데이터 생성\n",
    "yr = 2022\n",
    "\n",
    "for year in range(yr-1, yr+1):\n",
    "    df_c = combined_trade[combined_trade['YEAR'] == year].copy() # 1033511\n",
    "    df_c = pd.merge(yr_total, df_c, on = ['BSNO', 'HSCD', 'COUNTRYCD'], how = 'left')\n",
    "\n",
    "    df_c['YEAR'] = df_c['YEAR'].fillna(year)\n",
    "    df_c['EXIMAMT'] = df_c['EXIMAMT'].fillna(0)\n",
    "\n",
    "    # 파생변수 생성\n",
    "    df_c['전세계_해당품목_수출액'] = df_c.groupby(['BSNO', 'HSCD'])['EXIMAMT'].transform('sum')\n",
    "    df_c['전세계_전체품목_수출액'] = df_c.groupby('BSNO')['EXIMAMT'].transform('sum')\n",
    "    df_c['해당국_전체품목_수출액'] = df_c.groupby(['BSNO', 'COUNTRYCD'])['EXIMAMT'].transform('sum')\n",
    "    df_c['수출품목수_전세계'] = df_c.groupby('BSNO')['HSCD'].transform('nunique')\n",
    "    df_c['수출국가수_전체품목'] = df_c.groupby('BSNO')['COUNTRYCD'].transform('nunique')\n",
    "    df_c['수출품목수_해당국'] = df_c.groupby(['BSNO', 'COUNTRYCD'])['HSCD'].transform('nunique')\n",
    "    df_c['수출국가수_해당품목'] = df_c.groupby(['BSNO', 'HSCD'])['COUNTRYCD'].transform('nunique')\n",
    "    \n",
    "    # 동적으로 변수 이름 생성\n",
    "    sh_yr = str(year)[-2:]\n",
    "    globals()[f'df_{sh_yr}'] = df_c\n",
    "    \n",
    "# 데이터 합산\n",
    "df_n = globals()[f'df_{str(yr)[-2:]}'] # 22년 (now)\n",
    "df_p = globals()[f'df_{str(yr-1)[-2:]}'] # 21년 (previous)\n",
    "\n",
    "# YEAR 삭제\n",
    "df_n = df_n.drop(columns = 'YEAR') # 1575467\n",
    "df_p = df_p.drop(columns = 'YEAR') # 1575467\n",
    "\n",
    "# 컬럼명 변경\n",
    "df_n = df_n.rename(columns= {'EXIMAMT': '해당국_해당품목_수출액'}) \n",
    "df_p = df_p.rename(columns= {'EXIMAMT': '해당국_해당품목_수출액'}) \n",
    "\n",
    "# 데이터 합산\n",
    "df_combined = pd.merge(df_n, df_p, on = ['BSNO', 'HSCD', 'COUNTRYCD'], how= 'outer', suffixes = ('_n', '_p')) # 1551620\n",
    "\n",
    "# 작년에 수출이 없었던 값 0으로 채우기\n",
    "df_combined = df_combined.fillna(0)\n",
    "\n",
    "# Y값 생성\n",
    "y = combined_trade[combined_trade['YEAR'] == yr+1] # 1033511\n",
    "y = y.drop(columns=['YEAR'])\n",
    "y = y.rename(columns= {'EXIMAMT': 'NEXT_EXIMAMT'})\n",
    "\n",
    "# y값 병합\n",
    "df_combined = pd.merge(df_combined, y, on =['COUNTRYCD', 'HSCD', 'BSNO'], how='left')\n",
    "\n",
    "# 내년 수출액 없는 경우 0으로 치환\n",
    "df_combined['NEXT_EXIMAMT'] = df_combined['NEXT_EXIMAMT'].fillna(0)\n",
    "\n",
    "# 내년에 수출액이 있으면 1, 없으면 0\n",
    "df_combined['RESULT'] = df_combined['NEXT_EXIMAMT'].apply(lambda x: 1 if x > 0 else 0 )\n",
    "df_combined = df_combined.drop(columns=['NEXT_EXIMAMT']) #1551620\n",
    "\n",
    "# COUNTRYCD 100건 미만의 적은 국가 제거 (1054594)\n",
    "COUNTRYCD_CNT = df_combined['COUNTRYCD'].value_counts()\n",
    "valid_COUNTRYCD = COUNTRYCD_CNT[COUNTRYCD_CNT >= 100].index\n",
    "df_sorted = df_combined[df_combined['COUNTRYCD'].isin(valid_COUNTRYCD)]\n",
    "\n",
    "# 문자열로 변환하여 통일\n",
    "df_sorted['HSCD'] = df_sorted['HSCD'].astype(str)\n",
    "df_sorted['COUNTRYCD'] = df_sorted['COUNTRYCD'].astype(str)\n",
    "df_sorted['BSNO'] = df_sorted['BSNO'].astype(str)\n",
    "\n",
    "# 최종 데이터셋\n",
    "fin_train = df_sorted # 1573454\n",
    "\n",
    "# BSNO 삭제 \n",
    "fin_train = fin_train.drop(columns = ['BSNO'])\n",
    "\n",
    "###################\n",
    "# 학습데이터\n",
    "###################\n",
    "# 입력 데이터와 타겟 변수 설정 \n",
    "X_train = fin_train.drop(columns=['RESULT'])\n",
    "y_train = fin_train['RESULT']\n",
    "\n",
    "\n",
    "# 로그 스케일링 (수출액만 log변환 / 국가수 및 품목수는 scaling 제외)\n",
    "cols_to_scale = X_train.columns[[2, 3, 4, 5, 10, 11, 12, 13]] # BSNO 삭제\n",
    "X_train[cols_to_scale] = X_train[cols_to_scale].apply(lambda x:np.log1p(x))\n",
    "\n",
    "\n",
    "# CatBoost 모델 정의 \n",
    "# [참고] 확률 0.5이상이면 1, 미만이면 0\n",
    "model = CatBoostClassifier(iterations=1000, learning_rate=0.1, depth=6,\n",
    "                           cat_features=[0, 1], # BSNO 삭제\n",
    "                           verbose=False)\n",
    "\n",
    "# 학습\n",
    "model.fit(X_train, y_train)\n",
    "\n",
    "joblib.dump(model, './final_model.pkl')\n",
    "\n"
   ]
  },
  {
   "cell_type": "markdown",
   "id": "fd0aff2f",
   "metadata": {},
   "source": [
    "# 미리 학습된 모델에 데이터를 넣고 확률을 계산합니다."
   ]
  },
  {
   "cell_type": "code",
   "execution_count": 6,
   "id": "e6315867",
   "metadata": {},
   "outputs": [
    {
     "data": {
      "text/plain": [
       "array([[0.44013877, 0.55986123],\n",
       "       [0.39554754, 0.60445246],\n",
       "       [0.71561148, 0.28438852],\n",
       "       ...,\n",
       "       [0.97130706, 0.02869294],\n",
       "       [0.97445252, 0.02554748],\n",
       "       [0.98499074, 0.01500926]])"
      ]
     },
     "execution_count": 6,
     "metadata": {},
     "output_type": "execute_result"
    }
   ],
   "source": [
    "# 미리 학습된 모델 불러오기\n",
    "\n",
    "model=joblib.load('./final_model.pkl')\n",
    "\n",
    "final_test=pd.read_csv('./전처리데이터/stack_value_test_all.csv')\n",
    "\n",
    "# 사업자 번호 데이터는 추후 대시보드 조회시 필요하므로 따로 저장\n",
    "\n",
    "final_test_bsno=final_test['BSNO'].copy()\n",
    "final_test['HSCD']=final_test['HSCD'].apply(str)\n",
    "\n",
    "# 추론에 필요없는 데이터 열은 제거\n",
    "\n",
    "final_test.drop(columns=['BSNO','HSCD_2_n', 'YEAR_p', 'YEAR_n', 'HSCD_2_p'], inplace=True)\n",
    "cols_to_scale = final_test.columns[[2, 3, 4, 5, 10, 11, 12, 13]] # BSNO 삭제\n",
    "\n",
    "# 학습시와 동일한 방법으로 데이터 스케일링 (np.log1p)\n",
    "final_test[cols_to_scale] = final_test[cols_to_scale].apply(lambda x:np.log1p(x))\n",
    "\n",
    "y_pred_proba=model.predict_proba(final_test)\n",
    "y_pred_proba"
   ]
  },
  {
   "cell_type": "code",
   "execution_count": 7,
   "id": "0b6f072f",
   "metadata": {
    "scrolled": true
   },
   "outputs": [
    {
     "data": {
      "text/plain": [
       "Index(['COUNTRYCD', 'HSCD', '해당국_해당품목_수출액_n', '전세계_해당품목_수출액_n',\n",
       "       '전세계_전체품목_수출액_n', '해당국_전체품목_수출액_n', '수출품목수_전세계_n', '수출국가수_전체품목_n',\n",
       "       '수출품목수_해당국_n', '수출국가수_해당품목_n', '해당국_해당품목_수출액_p', '전세계_해당품목_수출액_p',\n",
       "       '전세계_전체품목_수출액_p', '해당국_전체품목_수출액_p', '수출품목수_전세계_p', '수출국가수_전체품목_p',\n",
       "       '수출품목수_해당국_p', '수출국가수_해당품목_p'],\n",
       "      dtype='object')"
      ]
     },
     "execution_count": 7,
     "metadata": {},
     "output_type": "execute_result"
    }
   ],
   "source": [
    "final_test.columns"
   ]
  },
  {
   "cell_type": "code",
   "execution_count": 8,
   "id": "f6e26ed8",
   "metadata": {},
   "outputs": [],
   "source": [
    "# (수출 실패 확률, 수출 성공 확률)로 이루어진 데이터 중\n",
    "# 수출 성공 확률만 추출해 최종 데이터셋에 concat\n",
    "\n",
    "pred_proba=pd.DataFrame({'Success' : [y for (n,y) in y_pred_proba]})\n",
    "final_df=pd.concat([final_test[['COUNTRYCD', 'HSCD']], final_test_bsno, pred_proba], axis=1)"
   ]
  },
  {
   "cell_type": "code",
   "execution_count": 9,
   "id": "2e7ea876",
   "metadata": {
    "scrolled": true
   },
   "outputs": [
    {
     "data": {
      "text/html": [
       "<div>\n",
       "<style scoped>\n",
       "    .dataframe tbody tr th:only-of-type {\n",
       "        vertical-align: middle;\n",
       "    }\n",
       "\n",
       "    .dataframe tbody tr th {\n",
       "        vertical-align: top;\n",
       "    }\n",
       "\n",
       "    .dataframe thead th {\n",
       "        text-align: right;\n",
       "    }\n",
       "</style>\n",
       "<table border=\"1\" class=\"dataframe\">\n",
       "  <thead>\n",
       "    <tr style=\"text-align: right;\">\n",
       "      <th></th>\n",
       "      <th>COUNTRYCD</th>\n",
       "      <th>HSCD</th>\n",
       "      <th>BSNO</th>\n",
       "      <th>Success</th>\n",
       "    </tr>\n",
       "  </thead>\n",
       "  <tbody>\n",
       "    <tr>\n",
       "      <th>0</th>\n",
       "      <td>AE</td>\n",
       "      <td>10619</td>\n",
       "      <td>4728600892</td>\n",
       "      <td>0.559861</td>\n",
       "    </tr>\n",
       "    <tr>\n",
       "      <th>1</th>\n",
       "      <td>AE</td>\n",
       "      <td>10619</td>\n",
       "      <td>5418101760</td>\n",
       "      <td>0.604452</td>\n",
       "    </tr>\n",
       "    <tr>\n",
       "      <th>2</th>\n",
       "      <td>AE</td>\n",
       "      <td>10619</td>\n",
       "      <td>8212001739</td>\n",
       "      <td>0.284389</td>\n",
       "    </tr>\n",
       "    <tr>\n",
       "      <th>3</th>\n",
       "      <td>AE</td>\n",
       "      <td>20322</td>\n",
       "      <td>6168624854</td>\n",
       "      <td>0.455069</td>\n",
       "    </tr>\n",
       "    <tr>\n",
       "      <th>4</th>\n",
       "      <td>AE</td>\n",
       "      <td>20329</td>\n",
       "      <td>6168624854</td>\n",
       "      <td>0.635991</td>\n",
       "    </tr>\n",
       "    <tr>\n",
       "      <th>...</th>\n",
       "      <td>...</td>\n",
       "      <td>...</td>\n",
       "      <td>...</td>\n",
       "      <td>...</td>\n",
       "    </tr>\n",
       "    <tr>\n",
       "      <th>75360856</th>\n",
       "      <td>SG</td>\n",
       "      <td>730519</td>\n",
       "      <td>6048108837</td>\n",
       "      <td>0.029268</td>\n",
       "    </tr>\n",
       "    <tr>\n",
       "      <th>75360857</th>\n",
       "      <td>TH</td>\n",
       "      <td>730519</td>\n",
       "      <td>6048108837</td>\n",
       "      <td>0.028897</td>\n",
       "    </tr>\n",
       "    <tr>\n",
       "      <th>75360858</th>\n",
       "      <td>VN</td>\n",
       "      <td>730519</td>\n",
       "      <td>6048108837</td>\n",
       "      <td>0.028693</td>\n",
       "    </tr>\n",
       "    <tr>\n",
       "      <th>75360859</th>\n",
       "      <td>CN</td>\n",
       "      <td>730519</td>\n",
       "      <td>6048108837</td>\n",
       "      <td>0.025547</td>\n",
       "    </tr>\n",
       "    <tr>\n",
       "      <th>75360860</th>\n",
       "      <td>GH</td>\n",
       "      <td>730519</td>\n",
       "      <td>6048108837</td>\n",
       "      <td>0.015009</td>\n",
       "    </tr>\n",
       "  </tbody>\n",
       "</table>\n",
       "<p>75360861 rows × 4 columns</p>\n",
       "</div>"
      ],
      "text/plain": [
       "         COUNTRYCD    HSCD        BSNO   Success\n",
       "0               AE   10619  4728600892  0.559861\n",
       "1               AE   10619  5418101760  0.604452\n",
       "2               AE   10619  8212001739  0.284389\n",
       "3               AE   20322  6168624854  0.455069\n",
       "4               AE   20329  6168624854  0.635991\n",
       "...            ...     ...         ...       ...\n",
       "75360856        SG  730519  6048108837  0.029268\n",
       "75360857        TH  730519  6048108837  0.028897\n",
       "75360858        VN  730519  6048108837  0.028693\n",
       "75360859        CN  730519  6048108837  0.025547\n",
       "75360860        GH  730519  6048108837  0.015009\n",
       "\n",
       "[75360861 rows x 4 columns]"
      ]
     },
     "execution_count": 9,
     "metadata": {},
     "output_type": "execute_result"
    }
   ],
   "source": [
    "final_df"
   ]
  },
  {
   "cell_type": "code",
   "execution_count": 10,
   "id": "f16976d3",
   "metadata": {},
   "outputs": [],
   "source": [
    "final_df.to_csv('./전처리데이터/final_proba_all.csv', index=False)"
   ]
  }
 ],
 "metadata": {
  "kernelspec": {
   "display_name": "Python 3 (ipykernel)",
   "language": "python",
   "name": "python3"
  },
  "language_info": {
   "codemirror_mode": {
    "name": "ipython",
    "version": 3
   },
   "file_extension": ".py",
   "mimetype": "text/x-python",
   "name": "python",
   "nbconvert_exporter": "python",
   "pygments_lexer": "ipython3",
   "version": "3.9.19"
  }
 },
 "nbformat": 4,
 "nbformat_minor": 5
}
