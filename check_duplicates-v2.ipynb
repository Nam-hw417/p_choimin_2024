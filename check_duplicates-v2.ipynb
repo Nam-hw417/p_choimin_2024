{
 "cells": [
  {
   "cell_type": "code",
   "execution_count": 1,
   "id": "b210164d",
   "metadata": {},
   "outputs": [],
   "source": [
    "import pandas as pd\n",
    "import numpy as np\n",
    "import pyodbc \n",
    "from tqdm import tqdm\n",
    "\n",
    "def collect_bp1(sql):\n",
    "    conn = pyodbc.connect('DRIVER=/opt/examples/libtbodbc.so;SERVER=192.168.70.236;PORT=8629;SID=kotrabp;User=bpuser;Password=kotrabp;Database=kotrabp;',ansi=True,autocommit=True)    # BPUSER2 에서 데이터 가져옴  // 만약 BPUSER1에서 데이터를 가져올경우 'DSN=BP_DB2'로 변경\n",
    "    conn.setdecoding(pyodbc.SQL_CHAR, encoding='cp949')\n",
    "    conn.setdecoding(pyodbc.SQL_WCHAR, encoding='cp949')\n",
    "    conn.setdecoding(pyodbc.SQL_WMETADATA, encoding='utf-32le')\n",
    "    conn.setencoding(encoding='cp949')\n",
    "    data= pd.read_sql_query(sql, conn)\n",
    "    conn.close()\n",
    "    return data\n",
    "\n",
    "\n",
    "def collect_bp2(sql):\n",
    "    conn = pyodbc.connect('DRIVER=/opt/examples/libtbodbc.so;SERVER=192.168.70.224;PORT=8629;SID=kotrabp;User=bpuser;Password=kotrabp;Database=kotrabp;',ansi=True,autocommit=True) \n",
    "    conn.setdecoding(pyodbc.SQL_CHAR, encoding='cp949')\n",
    "    conn.setdecoding(pyodbc.SQL_WCHAR, encoding='cp949')\n",
    "    conn.setdecoding(pyodbc.SQL_WMETADATA, encoding='utf-32le',)\n",
    "    conn.setencoding(encoding='cp949')\n",
    "    data= pd.read_sql_query(sql, conn)\n",
    "    conn.close()\n",
    "    return data\n",
    "\n",
    "\n",
    "\n"
   ]
  },
  {
   "cell_type": "code",
   "execution_count": 2,
   "id": "9ec85cb6",
   "metadata": {},
   "outputs": [],
   "source": [
    "from fuzzywuzzy import fuzz\n",
    "import Levenshtein as lev"
   ]
  },
  {
   "cell_type": "code",
   "execution_count": 3,
   "id": "7ce3c53c",
   "metadata": {},
   "outputs": [
    {
     "name": "stdout",
     "output_type": "stream",
     "text": [
      "check_duplicates-v2.ipynb  check_duplicates.ipynb  crm_r2_over.csv\r\n"
     ]
    }
   ],
   "source": [
    "!ls"
   ]
  },
  {
   "cell_type": "code",
   "execution_count": 4,
   "id": "10b77833",
   "metadata": {},
   "outputs": [],
   "source": [
    "# 데이터 읽기\n",
    "\n",
    "df = pd.read_csv(\"crm_r2_over.csv\", encoding = \"cp949\")"
   ]
  },
  {
   "cell_type": "code",
   "execution_count": 11,
   "id": "f1df3bb3",
   "metadata": {},
   "outputs": [],
   "source": [
    "use_cols = ['해외기업등급', '국가', '입력무역관', '해외고객번호', '해외기업명(영문)']"
   ]
  },
  {
   "cell_type": "code",
   "execution_count": 12,
   "id": "c9ce07da",
   "metadata": {},
   "outputs": [],
   "source": [
    "# 분석 대상 데이터 컬럼만으로 데이터 재구성\n",
    "\n",
    "df_ana = df[use_cols].copy()"
   ]
  },
  {
   "cell_type": "code",
   "execution_count": 13,
   "id": "b7df405a",
   "metadata": {
    "scrolled": true
   },
   "outputs": [
    {
     "data": {
      "text/html": [
       "<div>\n",
       "<style scoped>\n",
       "    .dataframe tbody tr th:only-of-type {\n",
       "        vertical-align: middle;\n",
       "    }\n",
       "\n",
       "    .dataframe tbody tr th {\n",
       "        vertical-align: top;\n",
       "    }\n",
       "\n",
       "    .dataframe thead th {\n",
       "        text-align: right;\n",
       "    }\n",
       "</style>\n",
       "<table border=\"1\" class=\"dataframe\">\n",
       "  <thead>\n",
       "    <tr style=\"text-align: right;\">\n",
       "      <th></th>\n",
       "      <th>해외기업등급</th>\n",
       "      <th>국가</th>\n",
       "      <th>입력무역관</th>\n",
       "      <th>해외고객번호</th>\n",
       "      <th>해외기업명(영문)</th>\n",
       "    </tr>\n",
       "  </thead>\n",
       "  <tbody>\n",
       "    <tr>\n",
       "      <th>0</th>\n",
       "      <td>R2</td>\n",
       "      <td>베트남</td>\n",
       "      <td>하노이무역관</td>\n",
       "      <td>CCMBY944881</td>\n",
       "      <td>\\tAEON TOPVALU VIETNAM COMPANY LIMITED</td>\n",
       "    </tr>\n",
       "    <tr>\n",
       "      <th>1</th>\n",
       "      <td>R2</td>\n",
       "      <td>루마니아</td>\n",
       "      <td>부쿠레슈티무역관</td>\n",
       "      <td>CCMBY952255</td>\n",
       "      <td>\\tALL RENTAL SRL</td>\n",
       "    </tr>\n",
       "    <tr>\n",
       "      <th>2</th>\n",
       "      <td>R3</td>\n",
       "      <td>베트남</td>\n",
       "      <td>호치민무역관</td>\n",
       "      <td>CCMBY950559</td>\n",
       "      <td>\\tANPHACO TRADING COMPANY LIMITED</td>\n",
       "    </tr>\n",
       "    <tr>\n",
       "      <th>3</th>\n",
       "      <td>R2</td>\n",
       "      <td>중국</td>\n",
       "      <td>베이징무역관</td>\n",
       "      <td>CCMBY821489</td>\n",
       "      <td>\\tBEIJING BEIQI PENGLONG AUTO SERVICE TRADING ...</td>\n",
       "    </tr>\n",
       "    <tr>\n",
       "      <th>4</th>\n",
       "      <td>R2</td>\n",
       "      <td>중국</td>\n",
       "      <td>베이징무역관</td>\n",
       "      <td>CCMBY692817</td>\n",
       "      <td>\\tBEIJING GUANGHUA TIMES TEXTILE IMPORT&amp;EXPORT...</td>\n",
       "    </tr>\n",
       "  </tbody>\n",
       "</table>\n",
       "</div>"
      ],
      "text/plain": [
       "  해외기업등급    국가     입력무역관       해외고객번호  \\\n",
       "0     R2   베트남    하노이무역관  CCMBY944881   \n",
       "1     R2  루마니아  부쿠레슈티무역관  CCMBY952255   \n",
       "2     R3   베트남    호치민무역관  CCMBY950559   \n",
       "3     R2    중국    베이징무역관  CCMBY821489   \n",
       "4     R2    중국    베이징무역관  CCMBY692817   \n",
       "\n",
       "                                           해외기업명(영문)  \n",
       "0             \\tAEON TOPVALU VIETNAM COMPANY LIMITED  \n",
       "1                                  \\tALL RENTAL SRL   \n",
       "2                  \\tANPHACO TRADING COMPANY LIMITED  \n",
       "3  \\tBEIJING BEIQI PENGLONG AUTO SERVICE TRADING ...  \n",
       "4  \\tBEIJING GUANGHUA TIMES TEXTILE IMPORT&EXPORT...  "
      ]
     },
     "execution_count": 13,
     "metadata": {},
     "output_type": "execute_result"
    }
   ],
   "source": [
    "df_ana.head()"
   ]
  },
  {
   "cell_type": "code",
   "execution_count": 14,
   "id": "6a00fcc8",
   "metadata": {},
   "outputs": [],
   "source": [
    "def clean_text(text):\n",
    "    return text.strip()"
   ]
  },
  {
   "cell_type": "code",
   "execution_count": 15,
   "id": "7af3c84d",
   "metadata": {},
   "outputs": [],
   "source": [
    "df_ana['clean_company'] = df_ana['해외기업명(영문)'].apply(clean_text)"
   ]
  },
  {
   "cell_type": "code",
   "execution_count": 16,
   "id": "4259faf0",
   "metadata": {
    "scrolled": true
   },
   "outputs": [
    {
     "name": "stdout",
     "output_type": "stream",
     "text": [
      "<class 'pandas.core.frame.DataFrame'>\n",
      "RangeIndex: 69773 entries, 0 to 69772\n",
      "Data columns (total 6 columns):\n",
      " #   Column         Non-Null Count  Dtype \n",
      "---  ------         --------------  ----- \n",
      " 0   해외기업등급         69773 non-null  object\n",
      " 1   국가             69610 non-null  object\n",
      " 2   입력무역관          65893 non-null  object\n",
      " 3   해외고객번호         69773 non-null  object\n",
      " 4   해외기업명(영문)      69773 non-null  object\n",
      " 5   clean_company  69773 non-null  object\n",
      "dtypes: object(6)\n",
      "memory usage: 3.2+ MB\n"
     ]
    }
   ],
   "source": [
    "df_ana.info()"
   ]
  },
  {
   "cell_type": "code",
   "execution_count": 17,
   "id": "62f188fb",
   "metadata": {},
   "outputs": [],
   "source": [
    "## 두번째 해결과제 ##\n",
    "# 중복이라고 판단되는 기업의 무엇을 옆에 기재할까??\n",
    "# 기업 ID를 표시 # 상호 비교하며 전체 기업 ID를 기재??\n",
    "# 해볼까??"
   ]
  },
  {
   "cell_type": "code",
   "execution_count": 19,
   "id": "2461c67c",
   "metadata": {},
   "outputs": [],
   "source": [
    "df_ana['Duplicate_Company_Ids'] = None"
   ]
  },
  {
   "cell_type": "code",
   "execution_count": 20,
   "id": "3c59bb32",
   "metadata": {
    "scrolled": false
   },
   "outputs": [
    {
     "data": {
      "text/plain": [
       "미국         5917\n",
       "중국         5644\n",
       "일본         5347\n",
       "베트남        4032\n",
       "인도         3228\n",
       "아랍에미리트     2820\n",
       "인도네시아      2190\n",
       "독일         1901\n",
       "싱가포르       1795\n",
       "이탈리아       1736\n",
       "태국         1601\n",
       "튀르키예       1447\n",
       "스페인        1294\n",
       "러시아연방      1222\n",
       "말레이시아      1169\n",
       "프랑스        1160\n",
       "사우디아라비아    1126\n",
       "영국         1055\n",
       "캐나다         946\n",
       "필리핀         827\n",
       "호주          808\n",
       "이집트         740\n",
       "멕시코         727\n",
       "카자흐스탄       678\n",
       "폴란드         675\n",
       "홍콩          663\n",
       "브라질         638\n",
       "대만          572\n",
       "콜롬비아        571\n",
       "네덜란드        566\n",
       "Name: 국가, dtype: int64"
      ]
     },
     "execution_count": 20,
     "metadata": {},
     "output_type": "execute_result"
    }
   ],
   "source": [
    "df_ana['국가'].value_counts().head(30)"
   ]
  },
  {
   "cell_type": "markdown",
   "id": "145d531b",
   "metadata": {},
   "source": [
    "## 국가별/전체 기업 이름 사전 생성\n",
    "---------------------------------------\n",
    "+ 정확히 같은 이름을 가지는 기업들의 코드는 묶어 정리\n",
    "+ ex) {기업 A : [ID_1, ID_2, ID_3]} "
   ]
  },
  {
   "cell_type": "code",
   "execution_count": 21,
   "id": "c46eb051",
   "metadata": {},
   "outputs": [],
   "source": [
    "def country_company_name_append(row):\n",
    "     globals()[f'{country}_company_name'].setdefault(row['clean_company'], []).append(row['해외고객번호'])\n",
    "        \n",
    "def total_company_name_append(row):\n",
    "    total_company_name.setdefault(row['clean_company'], []).append(row['해외고객번호'])"
   ]
  },
  {
   "cell_type": "code",
   "execution_count": 22,
   "id": "975c04df",
   "metadata": {
    "scrolled": false
   },
   "outputs": [
    {
     "data": {
      "text/plain": [
       "0        None\n",
       "1        None\n",
       "2        None\n",
       "3        None\n",
       "4        None\n",
       "         ... \n",
       "69768    None\n",
       "69769    None\n",
       "69770    None\n",
       "69771    None\n",
       "69772    None\n",
       "Length: 69773, dtype: object"
      ]
     },
     "execution_count": 22,
     "metadata": {},
     "output_type": "execute_result"
    }
   ],
   "source": [
    "total_company_name={}\n",
    "df_ana.apply(total_company_name_append, axis=1)"
   ]
  },
  {
   "cell_type": "markdown",
   "id": "72c22734",
   "metadata": {},
   "source": [
    "### * 국가 이름을 결측치로 두면 이후 반복문 시 검색되지 않으므로 'Nan'으로 대체"
   ]
  },
  {
   "cell_type": "code",
   "execution_count": 23,
   "id": "62a1230d",
   "metadata": {},
   "outputs": [],
   "source": [
    "df_ana['국가'].fillna('Nan', inplace=True)"
   ]
  },
  {
   "cell_type": "code",
   "execution_count": 24,
   "id": "04eb4e3e",
   "metadata": {},
   "outputs": [],
   "source": [
    "country_list=df_ana['국가'].unique().tolist()\n",
    "country_list.pop(country_list.index('Nan'))\n",
    "country_list.append(\"Nan\")\n",
    "\n",
    "for country in country_list:\n",
    "    globals()[f'{country}_df']=df_ana[df_ana['국가']==country]\n",
    "    globals()[f'{country}_company_name']={}\n",
    "    globals()[f'{country}_df'].apply(country_company_name_append, axis=1)"
   ]
  },
  {
   "cell_type": "markdown",
   "id": "e6a17d5e",
   "metadata": {},
   "source": [
    "### 정확히 같은 한 기업명에 두 개 이상의 기업 ID 코드가 있는 경우"
   ]
  },
  {
   "cell_type": "code",
   "execution_count": 60,
   "id": "3a594f11",
   "metadata": {},
   "outputs": [
    {
     "name": "stdout",
     "output_type": "stream",
     "text": [
      "Duplicate Company name : SHANGHAI FENGDAO TECHNOLOGICAL DEVELOPMENT CO., LTD. \n",
      " Duplicate Company ID : ['CCMBY989922', 'CCM20230628040164'] \n",
      "\n",
      "Duplicate Company name : AD MARINE ENGINEERING \n",
      " Duplicate Company ID : ['CCMBY416540', 'CCMBY045702'] \n",
      "\n",
      "Duplicate Company name : AIJIAMET WUHAN SUPPLY CHAIN MANAGEMENT CO LTD \n",
      " Duplicate Company ID : ['CCMBY952756', 'CCMBY952752'] \n",
      "\n",
      "Duplicate Company name : ALE PAX \n",
      " Duplicate Company ID : ['CCMBY957652', 'CCMBY954122'] \n",
      "\n",
      "Duplicate Company name : ANHUI QIUSHI MEDICAL TECHNOLOGY CO., LTD. \n",
      " Duplicate Company ID : ['CCM20230802076351', 'CCM20230802076332'] \n",
      "\n",
      "Duplicate Company name : BEDOFU \n",
      " Duplicate Company ID : ['CCMBY971003', 'CCMBY969449', 'CCMBY969281'] \n",
      "\n",
      "Duplicate Company name : BEIJING DAYADING MEDICAL APPLIANCE CO.,LTD \n",
      " Duplicate Company ID : ['CCM20231220220729', 'CCM20231220220674'] \n",
      "\n",
      "Duplicate Company name : BEIJING HANJIE TECHNOLOGY CO., LTD \n",
      " Duplicate Company ID : ['CCM20230628040236', 'CCMBY885213'] \n",
      "\n",
      "Duplicate Company name : BEIJING JIUDIAN TECHNOLOGY DEVELOPMENT CO., LTD. \n",
      " Duplicate Company ID : ['CCM20230628040258', 'CCMBY888631'] \n",
      "\n",
      "Duplicate Company name : BEIJING MARGO COMMERCIAL&TRADE CO.,LTD \n",
      " Duplicate Company ID : ['CCMBY852525', 'CCMBY839783'] \n",
      "\n"
     ]
    }
   ],
   "source": [
    "duplicate_keys=[key for key, value in 중국_company_name.items() if len(value)>=2]\n",
    "for key in duplicate_keys[:10]:\n",
    "    print(f'Duplicate Company name : {key} \\n Duplicate Company ID : {중국_company_name[key]} \\n')"
   ]
  },
  {
   "cell_type": "code",
   "execution_count": 26,
   "id": "16fa3d28",
   "metadata": {
    "scrolled": true
   },
   "outputs": [
    {
     "data": {
      "text/plain": [
       "5644"
      ]
     },
     "execution_count": 26,
     "metadata": {},
     "output_type": "execute_result"
    }
   ],
   "source": [
    "len(중국_df['해외고객번호'])"
   ]
  },
  {
   "cell_type": "code",
   "execution_count": 27,
   "id": "0f909805",
   "metadata": {},
   "outputs": [
    {
     "data": {
      "text/plain": [
       "5498"
      ]
     },
     "execution_count": 27,
     "metadata": {},
     "output_type": "execute_result"
    }
   ],
   "source": [
    "len(중국_company_name)"
   ]
  },
  {
   "cell_type": "code",
   "execution_count": 28,
   "id": "a6c50c1f",
   "metadata": {
    "scrolled": true
   },
   "outputs": [
    {
     "data": {
      "text/plain": [
       "136"
      ]
     },
     "execution_count": 28,
     "metadata": {},
     "output_type": "execute_result"
    }
   ],
   "source": [
    "len(duplicate_keys)"
   ]
  },
  {
   "cell_type": "markdown",
   "id": "862e728c",
   "metadata": {},
   "source": [
    "### 나라별로 묶어 중복 기업 확인\n",
    "---------------------\n",
    "\n",
    "1. 각 나라별 기업 이름 정리 (위 기업명 사전 참고)\n",
    "2. 나라별로 데이터프레임 분리 (국가_df)\n",
    "2. 국가_df 내의 기업명과 각 나라별 기업 이름 전체를 행별로 하나씩 비교\n",
    "4. 만약 국가명이 Nan 인 경우, 원본 데이터에 있는 모든 기업명과 비교 (총 69773개)\n",
    "5. 겹치는 국가명이나 코드가 없는 경우, 'None'으로 표시\n",
    "\n",
    "* threshold는 90으로 설정\n",
    "----------------------\n",
    "\n",
    "개선 결과 약 6분 소요"
   ]
  },
  {
   "cell_type": "code",
   "execution_count": 48,
   "id": "daacb5b3",
   "metadata": {},
   "outputs": [],
   "source": [
    "def find_duplicates_in_country(row):\n",
    "    current_row_company_name=row['clean_company']\n",
    "    current_company_id=row['해외고객번호']\n",
    "    duplicate_ids=[]\n",
    "    if row['국가']=='Nan':\n",
    "        country_company_name=total_company_name\n",
    "    else:\n",
    "        country_company_name=globals()[f'{country}_company_name']\n",
    "    \n",
    "    for company_name, company_ids in country_company_name.items():\n",
    "        if fuzz.ratio(current_row_company_name, company_name) > 90:\n",
    "            duplicate_ids+=company_ids\n",
    "    if len(duplicate_ids)>=2:\n",
    "        duplicate_ids.remove(current_company_id)\n",
    "        row['Duplicate_Company_Ids']=duplicate_ids\n",
    "    else:\n",
    "        row['Duplicate_Company_Ids']='None'\n",
    "    return row"
   ]
  },
  {
   "cell_type": "code",
   "execution_count": 50,
   "id": "86bdaab6",
   "metadata": {},
   "outputs": [
    {
     "name": "stderr",
     "output_type": "stream",
     "text": [
      "\r",
      "  0%|          | 0/202 [00:00<?, ?it/s]"
     ]
    },
    {
     "name": "stdout",
     "output_type": "stream",
     "text": [
      "베트남 data duplicate matching....\n"
     ]
    },
    {
     "name": "stderr",
     "output_type": "stream",
     "text": [
      "\r",
      "  0%|          | 1/202 [00:34<1:55:55, 34.60s/it]"
     ]
    },
    {
     "name": "stdout",
     "output_type": "stream",
     "text": [
      "루마니아 data duplicate matching....\n"
     ]
    },
    {
     "name": "stderr",
     "output_type": "stream",
     "text": [
      "\r",
      "  1%|          | 2/202 [00:35<48:21, 14.51s/it]  "
     ]
    },
    {
     "name": "stdout",
     "output_type": "stream",
     "text": [
      "중국 data duplicate matching....\n"
     ]
    },
    {
     "name": "stderr",
     "output_type": "stream",
     "text": [
      "\r",
      "  1%|▏         | 3/202 [01:42<2:08:58, 38.89s/it]"
     ]
    },
    {
     "name": "stdout",
     "output_type": "stream",
     "text": [
      "태국 data duplicate matching....\n"
     ]
    },
    {
     "name": "stderr",
     "output_type": "stream",
     "text": [
      "  2%|▏         | 5/202 [01:48<54:05, 16.47s/it]  "
     ]
    },
    {
     "name": "stdout",
     "output_type": "stream",
     "text": [
      "케냐 data duplicate matching....\n",
      "우즈베키스탄 data duplicate matching....\n"
     ]
    },
    {
     "name": "stderr",
     "output_type": "stream",
     "text": [
      "\r",
      "  3%|▎         | 6/202 [01:48<35:53, 10.99s/it]"
     ]
    },
    {
     "name": "stdout",
     "output_type": "stream",
     "text": [
      "칠레 data duplicate matching....\n"
     ]
    },
    {
     "name": "stderr",
     "output_type": "stream",
     "text": [
      "\r",
      "  3%|▎         | 7/202 [01:49<24:32,  7.55s/it]"
     ]
    },
    {
     "name": "stdout",
     "output_type": "stream",
     "text": [
      "브라질 data duplicate matching....\n"
     ]
    },
    {
     "name": "stderr",
     "output_type": "stream",
     "text": [
      "  4%|▍         | 9/202 [01:50<12:10,  3.79s/it]"
     ]
    },
    {
     "name": "stdout",
     "output_type": "stream",
     "text": [
      "아르헨티나 data duplicate matching....\n",
      "홍콩 data duplicate matching....\n"
     ]
    },
    {
     "name": "stderr",
     "output_type": "stream",
     "text": [
      "\r",
      "  5%|▍         | 10/202 [01:51<09:18,  2.91s/it]"
     ]
    },
    {
     "name": "stdout",
     "output_type": "stream",
     "text": [
      "이라크 data duplicate matching....\n"
     ]
    },
    {
     "name": "stderr",
     "output_type": "stream",
     "text": [
      "\r",
      "  5%|▌         | 11/202 [01:51<06:45,  2.12s/it]"
     ]
    },
    {
     "name": "stdout",
     "output_type": "stream",
     "text": [
      "요르단 data duplicate matching....\n"
     ]
    },
    {
     "name": "stderr",
     "output_type": "stream",
     "text": [
      "  7%|▋         | 15/202 [01:52<02:21,  1.32it/s]"
     ]
    },
    {
     "name": "stdout",
     "output_type": "stream",
     "text": [
      "모잠비크 data duplicate matching....\n",
      "슬로베니아 data duplicate matching....\n",
      "튀니지 data duplicate matching....\n",
      "러시아연방 data duplicate matching....\n"
     ]
    },
    {
     "name": "stderr",
     "output_type": "stream",
     "text": [
      "\r",
      "  8%|▊         | 16/202 [01:55<03:55,  1.26s/it]"
     ]
    },
    {
     "name": "stdout",
     "output_type": "stream",
     "text": [
      "싱가포르 data duplicate matching....\n"
     ]
    },
    {
     "name": "stderr",
     "output_type": "stream",
     "text": [
      "\r",
      "  8%|▊         | 17/202 [02:02<07:55,  2.57s/it]"
     ]
    },
    {
     "name": "stdout",
     "output_type": "stream",
     "text": [
      "독일 data duplicate matching....\n"
     ]
    },
    {
     "name": "stderr",
     "output_type": "stream",
     "text": [
      "\r",
      "  9%|▉         | 18/202 [02:10<11:51,  3.87s/it]"
     ]
    },
    {
     "name": "stdout",
     "output_type": "stream",
     "text": [
      "튀르키예 data duplicate matching....\n"
     ]
    },
    {
     "name": "stderr",
     "output_type": "stream",
     "text": [
      "\r",
      "  9%|▉         | 19/202 [02:14<12:19,  4.04s/it]"
     ]
    },
    {
     "name": "stdout",
     "output_type": "stream",
     "text": [
      "일본 data duplicate matching....\n"
     ]
    },
    {
     "name": "stderr",
     "output_type": "stream",
     "text": [
      "\r",
      " 10%|▉         | 20/202 [03:12<56:51, 18.75s/it]"
     ]
    },
    {
     "name": "stdout",
     "output_type": "stream",
     "text": [
      "미국 data duplicate matching....\n"
     ]
    },
    {
     "name": "stderr",
     "output_type": "stream",
     "text": [
      "\r",
      " 10%|█         | 21/202 [04:23<1:40:48, 33.42s/it]"
     ]
    },
    {
     "name": "stdout",
     "output_type": "stream",
     "text": [
      "쿠웨이트 data duplicate matching....\n"
     ]
    },
    {
     "name": "stderr",
     "output_type": "stream",
     "text": [
      "\r",
      " 11%|█         | 22/202 [04:24<1:12:02, 24.02s/it]"
     ]
    },
    {
     "name": "stdout",
     "output_type": "stream",
     "text": [
      "카자흐스탄 data duplicate matching....\n"
     ]
    },
    {
     "name": "stderr",
     "output_type": "stream",
     "text": [
      "\r",
      " 11%|█▏        | 23/202 [04:25<51:42, 17.33s/it]  "
     ]
    },
    {
     "name": "stdout",
     "output_type": "stream",
     "text": [
      "이집트 data duplicate matching....\n"
     ]
    },
    {
     "name": "stderr",
     "output_type": "stream",
     "text": [
      "\r",
      " 12%|█▏        | 24/202 [04:26<37:22, 12.60s/it]"
     ]
    },
    {
     "name": "stdout",
     "output_type": "stream",
     "text": [
      "카타르 data duplicate matching....\n"
     ]
    },
    {
     "name": "stderr",
     "output_type": "stream",
     "text": [
      "\r",
      " 12%|█▏        | 25/202 [04:26<26:33,  9.00s/it]"
     ]
    },
    {
     "name": "stdout",
     "output_type": "stream",
     "text": [
      "사우디아라비아 data duplicate matching....\n"
     ]
    },
    {
     "name": "stderr",
     "output_type": "stream",
     "text": [
      "\r",
      " 13%|█▎        | 26/202 [04:29<20:56,  7.14s/it]"
     ]
    },
    {
     "name": "stdout",
     "output_type": "stream",
     "text": [
      "이탈리아 data duplicate matching....\n"
     ]
    },
    {
     "name": "stderr",
     "output_type": "stream",
     "text": [
      "\r",
      " 13%|█▎        | 27/202 [04:36<20:12,  6.93s/it]"
     ]
    },
    {
     "name": "stdout",
     "output_type": "stream",
     "text": [
      "콜롬비아 data duplicate matching....\n"
     ]
    },
    {
     "name": "stderr",
     "output_type": "stream",
     "text": [
      " 15%|█▍        | 30/202 [04:36<07:57,  2.77s/it]"
     ]
    },
    {
     "name": "stdout",
     "output_type": "stream",
     "text": [
      "아르메니아 data duplicate matching....\n",
      "몽골 data duplicate matching....\n",
      "인도 data duplicate matching....\n"
     ]
    },
    {
     "name": "stderr",
     "output_type": "stream",
     "text": [
      "\r",
      " 15%|█▌        | 31/202 [04:58<21:21,  7.50s/it]"
     ]
    },
    {
     "name": "stdout",
     "output_type": "stream",
     "text": [
      "프랑스 data duplicate matching....\n"
     ]
    },
    {
     "name": "stderr",
     "output_type": "stream",
     "text": [
      "\r",
      " 16%|█▌        | 32/202 [05:01<17:54,  6.32s/it]"
     ]
    },
    {
     "name": "stdout",
     "output_type": "stream",
     "text": [
      "스페인 data duplicate matching....\n"
     ]
    },
    {
     "name": "stderr",
     "output_type": "stream",
     "text": [
      "\r",
      " 16%|█▋        | 33/202 [05:05<15:42,  5.57s/it]"
     ]
    },
    {
     "name": "stdout",
     "output_type": "stream",
     "text": [
      "인도네시아 data duplicate matching....\n"
     ]
    },
    {
     "name": "stderr",
     "output_type": "stream",
     "text": [
      "\r",
      " 17%|█▋        | 34/202 [05:15<19:01,  6.79s/it]"
     ]
    },
    {
     "name": "stdout",
     "output_type": "stream",
     "text": [
      "방글라데시 data duplicate matching....\n"
     ]
    },
    {
     "name": "stderr",
     "output_type": "stream",
     "text": [
      " 18%|█▊        | 37/202 [05:15<07:35,  2.76s/it]"
     ]
    },
    {
     "name": "stdout",
     "output_type": "stream",
     "text": [
      "한국 data duplicate matching....\n",
      "에콰도르 data duplicate matching....\n",
      "말레이시아 data duplicate matching....\n"
     ]
    },
    {
     "name": "stderr",
     "output_type": "stream",
     "text": [
      "\r",
      " 19%|█▉        | 38/202 [05:18<07:36,  2.78s/it]"
     ]
    },
    {
     "name": "stdout",
     "output_type": "stream",
     "text": [
      "페루 data duplicate matching....\n"
     ]
    },
    {
     "name": "stderr",
     "output_type": "stream",
     "text": [
      "\r",
      " 19%|█▉        | 39/202 [05:19<05:53,  2.17s/it]"
     ]
    },
    {
     "name": "stdout",
     "output_type": "stream",
     "text": [
      "엘살바도르 data duplicate matching....\n",
      "아랍에미리트 data duplicate matching....\n"
     ]
    },
    {
     "name": "stderr",
     "output_type": "stream",
     "text": [
      "\r",
      " 20%|██        | 41/202 [05:35<12:56,  4.82s/it]"
     ]
    },
    {
     "name": "stdout",
     "output_type": "stream",
     "text": [
      "스웨덴 data duplicate matching....\n",
      "영국 data duplicate matching....\n"
     ]
    },
    {
     "name": "stderr",
     "output_type": "stream",
     "text": [
      " 22%|██▏       | 44/202 [05:38<07:18,  2.77s/it]"
     ]
    },
    {
     "name": "stdout",
     "output_type": "stream",
     "text": [
      "세르비아 data duplicate matching....\n",
      "에티오피아 data duplicate matching....\n",
      "체코 data duplicate matching....\n"
     ]
    },
    {
     "name": "stderr",
     "output_type": "stream",
     "text": [
      "\r",
      " 23%|██▎       | 46/202 [05:38<04:39,  1.79s/it]"
     ]
    },
    {
     "name": "stdout",
     "output_type": "stream",
     "text": [
      "아제르바이잔 data duplicate matching....\n",
      "필리핀 data duplicate matching....\n"
     ]
    },
    {
     "name": "stderr",
     "output_type": "stream",
     "text": [
      "\r",
      " 24%|██▍       | 48/202 [05:40<03:41,  1.44s/it]"
     ]
    },
    {
     "name": "stdout",
     "output_type": "stream",
     "text": [
      "이스라엘 data duplicate matching....\n"
     ]
    },
    {
     "name": "stderr",
     "output_type": "stream",
     "text": [
      "\r",
      " 24%|██▍       | 49/202 [05:40<03:04,  1.21s/it]"
     ]
    },
    {
     "name": "stdout",
     "output_type": "stream",
     "text": [
      "그리스 data duplicate matching....\n"
     ]
    },
    {
     "name": "stderr",
     "output_type": "stream",
     "text": [
      " 25%|██▌       | 51/202 [05:41<02:05,  1.20it/s]"
     ]
    },
    {
     "name": "stdout",
     "output_type": "stream",
     "text": [
      "헝가리 data duplicate matching....\n",
      "파나마 data duplicate matching....\n"
     ]
    },
    {
     "name": "stderr",
     "output_type": "stream",
     "text": [
      "\r",
      " 26%|██▌       | 52/202 [05:41<01:36,  1.55it/s]"
     ]
    },
    {
     "name": "stdout",
     "output_type": "stream",
     "text": [
      "볼리비아 data duplicate matching....\n",
      "멕시코 data duplicate matching....\n"
     ]
    },
    {
     "name": "stderr",
     "output_type": "stream",
     "text": [
      "\r",
      " 27%|██▋       | 54/202 [05:42<01:36,  1.54it/s]"
     ]
    },
    {
     "name": "stdout",
     "output_type": "stream",
     "text": [
      "폴란드 data duplicate matching....\n"
     ]
    },
    {
     "name": "stderr",
     "output_type": "stream",
     "text": [
      "\r",
      " 27%|██▋       | 55/202 [05:43<01:46,  1.38it/s]"
     ]
    },
    {
     "name": "stdout",
     "output_type": "stream",
     "text": [
      "아일랜드 data duplicate matching....\n",
      "슬로바키아 data duplicate matching....\n",
      "호주 data duplicate matching....\n"
     ]
    },
    {
     "name": "stderr",
     "output_type": "stream",
     "text": [
      "\r",
      " 29%|██▊       | 58/202 [05:45<01:28,  1.64it/s]"
     ]
    },
    {
     "name": "stdout",
     "output_type": "stream",
     "text": [
      "마다가스카르 data duplicate matching....\n",
      "캐나다 data duplicate matching....\n"
     ]
    },
    {
     "name": "stderr",
     "output_type": "stream",
     "text": [
      "\r",
      " 30%|██▉       | 60/202 [05:47<01:42,  1.39it/s]"
     ]
    },
    {
     "name": "stdout",
     "output_type": "stream",
     "text": [
      "남아프리카공화국 data duplicate matching....\n"
     ]
    },
    {
     "name": "stderr",
     "output_type": "stream",
     "text": [
      "\r",
      " 30%|███       | 61/202 [05:47<01:36,  1.46it/s]"
     ]
    },
    {
     "name": "stdout",
     "output_type": "stream",
     "text": [
      "가나 data duplicate matching....\n",
      "뉴질랜드 data duplicate matching....\n",
      "몰타 data duplicate matching....\n",
      "알제리 data duplicate matching....\n"
     ]
    },
    {
     "name": "stderr",
     "output_type": "stream",
     "text": [
      " 34%|███▎      | 68/202 [05:48<00:32,  4.09it/s]"
     ]
    },
    {
     "name": "stdout",
     "output_type": "stream",
     "text": [
      "오스트리아 data duplicate matching....\n",
      "포르투갈 data duplicate matching....\n",
      "크로아티아 data duplicate matching....\n",
      "대만 data duplicate matching....\n"
     ]
    },
    {
     "name": "stderr",
     "output_type": "stream",
     "text": [
      " 35%|███▍      | 70/202 [05:49<00:38,  3.42it/s]"
     ]
    },
    {
     "name": "stdout",
     "output_type": "stream",
     "text": [
      "불가리아 data duplicate matching....\n",
      "핀란드 data duplicate matching....\n",
      "네덜란드 data duplicate matching....\n"
     ]
    },
    {
     "name": "stderr",
     "output_type": "stream",
     "text": [
      "\r",
      " 36%|███▌      | 72/202 [05:49<00:42,  3.08it/s]"
     ]
    },
    {
     "name": "stdout",
     "output_type": "stream",
     "text": [
      "스위스 data duplicate matching....\n"
     ]
    },
    {
     "name": "stderr",
     "output_type": "stream",
     "text": [
      "\r",
      " 36%|███▌      | 73/202 [05:50<00:42,  3.07it/s]"
     ]
    },
    {
     "name": "stdout",
     "output_type": "stream",
     "text": [
      "레바논 data duplicate matching....\n",
      "리투아니아 data duplicate matching....\n",
      "오만 data duplicate matching....\n"
     ]
    },
    {
     "name": "stderr",
     "output_type": "stream",
     "text": [
      "\r",
      " 38%|███▊      | 76/202 [05:50<00:27,  4.50it/s]"
     ]
    },
    {
     "name": "stdout",
     "output_type": "stream",
     "text": [
      "예멘 data duplicate matching....\n",
      "파키스탄 data duplicate matching....\n"
     ]
    },
    {
     "name": "stderr",
     "output_type": "stream",
     "text": [
      "\r",
      " 39%|███▊      | 78/202 [05:51<00:30,  4.04it/s]"
     ]
    },
    {
     "name": "stdout",
     "output_type": "stream",
     "text": [
      "나이지리아 data duplicate matching....\n",
      "라오스 data duplicate matching....\n"
     ]
    },
    {
     "name": "stderr",
     "output_type": "stream",
     "text": [
      " 44%|████▎     | 88/202 [05:51<00:10, 10.51it/s]"
     ]
    },
    {
     "name": "stdout",
     "output_type": "stream",
     "text": [
      "모나코 data duplicate matching....\n",
      "알바니아 data duplicate matching....\n",
      "EU data duplicate matching....\n",
      "조지아 data duplicate matching....\n",
      "보츠와나 data duplicate matching....\n",
      "스리랑카 data duplicate matching....\n",
      "룩셈부르크 data duplicate matching....\n",
      "미얀마 data duplicate matching....\n",
      "바레인 data duplicate matching....\n"
     ]
    },
    {
     "name": "stderr",
     "output_type": "stream",
     "text": [
      "\r",
      " 45%|████▍     | 90/202 [05:51<00:10, 10.40it/s]"
     ]
    },
    {
     "name": "stdout",
     "output_type": "stream",
     "text": [
      "덴마크 data duplicate matching....\n",
      "노르웨이 data duplicate matching....\n",
      "이란 data duplicate matching....\n"
     ]
    },
    {
     "name": "stderr",
     "output_type": "stream",
     "text": [
      " 47%|████▋     | 94/202 [05:52<00:12,  8.86it/s]"
     ]
    },
    {
     "name": "stdout",
     "output_type": "stream",
     "text": [
      "모로코 data duplicate matching....\n",
      "리비아 data duplicate matching....\n",
      "과테말라 data duplicate matching....\n"
     ]
    },
    {
     "name": "stderr",
     "output_type": "stream",
     "text": [
      " 49%|████▊     | 98/202 [05:52<00:08, 11.72it/s]"
     ]
    },
    {
     "name": "stdout",
     "output_type": "stream",
     "text": [
      "트리니다드토바고 data duplicate matching....\n",
      "캄보디아 data duplicate matching....\n",
      "수단 data duplicate matching....\n",
      "모리셔스 data duplicate matching....\n",
      "우루과이 data duplicate matching....\n",
      "타지키스탄 data duplicate matching....\n",
      "코트디부아르 data duplicate matching....\n",
      "도미니카공화국 data duplicate matching....\n",
      "부르키나파소 data duplicate matching....\n",
      "네팔 data duplicate matching....\n",
      "파라과이 data duplicate matching....\n",
      "코스타리카 data duplicate matching....\n",
      "탄자니아 data duplicate matching....\n"
     ]
    },
    {
     "name": "stderr",
     "output_type": "stream",
     "text": [
      " 55%|█████▌    | 112/202 [05:52<00:03, 28.31it/s]"
     ]
    },
    {
     "name": "stdout",
     "output_type": "stream",
     "text": [
      "라트비아 data duplicate matching....\n",
      "지부티 data duplicate matching....\n",
      "벨기에 data duplicate matching....\n",
      "시리아 data duplicate matching....\n",
      "아프가니스탄 data duplicate matching....\n",
      "온두라스 data duplicate matching....\n",
      "보스니아 헤르체고비나 data duplicate matching....\n",
      "도미니카 data duplicate matching....\n",
      "키프로스 data duplicate matching....\n",
      "우크라이나 data duplicate matching....\n",
      "몬테네그로 data duplicate matching....\n",
      "브루나이 data duplicate matching....\n",
      "키르기즈스탄 data duplicate matching....\n",
      "벨라루스 data duplicate matching....\n"
     ]
    },
    {
     "name": "stderr",
     "output_type": "stream",
     "text": [
      " 81%|████████  | 163/202 [05:53<00:00, 127.29it/s]"
     ]
    },
    {
     "name": "stdout",
     "output_type": "stream",
     "text": [
      "마케도니아 data duplicate matching....\n",
      "소말리아 data duplicate matching....\n",
      "팔레스타인 data duplicate matching....\n",
      "우간다 data duplicate matching....\n",
      "르완다 data duplicate matching....\n",
      "에스토니아 data duplicate matching....\n",
      "투르크메니스탄 data duplicate matching....\n",
      "말리 data duplicate matching....\n",
      "베네수엘라 data duplicate matching....\n",
      "마카오 data duplicate matching....\n",
      "과들루프 data duplicate matching....\n",
      "안도라 data duplicate matching....\n",
      "남수단 data duplicate matching....\n",
      "앙골라 data duplicate matching....\n",
      "코모로 data duplicate matching....\n",
      "카메룬 data duplicate matching....\n",
      "짐바브웨 data duplicate matching....\n",
      "쿠바 data duplicate matching....\n",
      "콩고민주공화국 data duplicate matching....\n",
      "니카라과 data duplicate matching....\n",
      "코소보 data duplicate matching....\n",
      "피지 data duplicate matching....\n",
      "레유니온 data duplicate matching....\n",
      "부룬디 data duplicate matching....\n",
      "몰디브 data duplicate matching....\n",
      "차드 data duplicate matching....\n",
      "몰다비아 data duplicate matching....\n",
      "스와질란드 data duplicate matching....\n",
      "니제르 data duplicate matching....\n",
      "자메이카 data duplicate matching....\n",
      "세네갈 data duplicate matching....\n",
      "푸에르토리코 data duplicate matching....\n",
      "리히텐슈타인 data duplicate matching....\n",
      "아이슬란드 data duplicate matching....\n",
      "잠비아 data duplicate matching....\n",
      "사모아 (서사모아) data duplicate matching....\n",
      "벨리즈 data duplicate matching....\n",
      "마르티니끄 data duplicate matching....\n",
      "모리타니아 data duplicate matching....\n",
      "카이만제도 data duplicate matching....\n",
      "산마리노 data duplicate matching....\n",
      "바하마 data duplicate matching....\n",
      "파푸아뉴기니 data duplicate matching....\n",
      "말라위 data duplicate matching....\n",
      "베냉 data duplicate matching....\n",
      "프랑스령 기아나 data duplicate matching....\n",
      "포클랜드 제도 data duplicate matching....\n",
      "유고슬라비아 data duplicate matching....\n",
      "시에라리온 data duplicate matching....\n",
      "세이셸 data duplicate matching....\n",
      "동티모르 민주공화국 data duplicate matching....\n",
      "터크스케이커스제도 data duplicate matching....\n",
      "지브롤터 data duplicate matching....\n",
      "뉴캘러도니아 data duplicate matching....\n",
      "건지섬 data duplicate matching....\n",
      "수리남 data duplicate matching....\n",
      "콩고 data duplicate matching....\n",
      "팔라우 data duplicate matching....\n",
      "아루바 data duplicate matching....\n",
      "서사하라 data duplicate matching....\n",
      "마요트 data duplicate matching....\n",
      "나미비아 data duplicate matching....\n",
      "폴리네시아(프) data duplicate matching....\n",
      "마크로네시아 data duplicate matching....\n",
      "보네르 신트외스타티위스 data duplicate matching....\n",
      "네덜란드령앤틸리스 data duplicate matching....\n",
      "토고 data duplicate matching....\n",
      "바누아투 data duplicate matching....\n",
      "중앙아프리카공화국 data duplicate matching....\n",
      "기니 data duplicate matching....\n",
      "투발루 data duplicate matching....\n",
      "가이아나 data duplicate matching....\n",
      "괌 data duplicate matching....\n",
      "버진아일랜드,영 data duplicate matching....\n",
      "남극 data duplicate matching....\n",
      "저지섬 data duplicate matching....\n",
      "아이티 data duplicate matching....\n",
      "감비아 data duplicate matching....\n",
      "부탄 data duplicate matching....\n",
      "Nan data duplicate matching....\n"
     ]
    },
    {
     "name": "stderr",
     "output_type": "stream",
     "text": [
      "100%|██████████| 202/202 [06:16<00:00,  1.86s/it] \n"
     ]
    }
   ],
   "source": [
    "for country in tqdm(country_list):\n",
    "    print(f'{country} data duplicate matching....')\n",
    "    globals()[f'{country}_df'].apply(find_duplicates_in_country, axis=1)"
   ]
  },
  {
   "cell_type": "markdown",
   "id": "c695af30",
   "metadata": {},
   "source": [
    "## 기존 코드의 결과와 비교"
   ]
  },
  {
   "cell_type": "markdown",
   "id": "85c5effb",
   "metadata": {},
   "source": [
    "#### 기존 코드"
   ]
  },
  {
   "attachments": {
    "image.png": {
     "image/png": "[encoded data removed]"
    }
   },
   "cell_type": "markdown",
   "id": "d2b439e6",
   "metadata": {},
   "source": [
    "![image.png](attachment:image.png)"
   ]
  },
  {
   "cell_type": "markdown",
   "id": "f8ff6f3c",
   "metadata": {},
   "source": [
    "#### 새 코드"
   ]
  },
  {
   "cell_type": "code",
   "execution_count": 51,
   "id": "62f5a099",
   "metadata": {
    "scrolled": true
   },
   "outputs": [
    {
     "data": {
      "text/html": [
       "<div>\n",
       "<style scoped>\n",
       "    .dataframe tbody tr th:only-of-type {\n",
       "        vertical-align: middle;\n",
       "    }\n",
       "\n",
       "    .dataframe tbody tr th {\n",
       "        vertical-align: top;\n",
       "    }\n",
       "\n",
       "    .dataframe thead th {\n",
       "        text-align: right;\n",
       "    }\n",
       "</style>\n",
       "<table border=\"1\" class=\"dataframe\">\n",
       "  <thead>\n",
       "    <tr style=\"text-align: right;\">\n",
       "      <th></th>\n",
       "      <th>해외기업등급</th>\n",
       "      <th>국가</th>\n",
       "      <th>입력무역관</th>\n",
       "      <th>해외고객번호</th>\n",
       "      <th>해외기업명(영문)</th>\n",
       "      <th>clean_company</th>\n",
       "      <th>Duplicate_Company_Ids</th>\n",
       "    </tr>\n",
       "  </thead>\n",
       "  <tbody>\n",
       "    <tr>\n",
       "      <th>100</th>\n",
       "      <td>R2</td>\n",
       "      <td>말레이시아</td>\n",
       "      <td>KOTRA경남지원단</td>\n",
       "      <td>CCMBY764192</td>\n",
       "      <td>CRESCENT GEAR SOLUTION SDN BHD</td>\n",
       "      <td>CRESCENT GEAR SOLUTION SDN BHD</td>\n",
       "      <td>[CCMBY564352]</td>\n",
       "    </tr>\n",
       "    <tr>\n",
       "      <th>105</th>\n",
       "      <td>R2</td>\n",
       "      <td>말레이시아</td>\n",
       "      <td>하노이무역관</td>\n",
       "      <td>CCMBY973601</td>\n",
       "      <td>DIRECT SELLING ASSOCIATION OF MALAYSIA (DSAM)</td>\n",
       "      <td>DIRECT SELLING ASSOCIATION OF MALAYSIA (DSAM)</td>\n",
       "      <td>None</td>\n",
       "    </tr>\n",
       "    <tr>\n",
       "      <th>537</th>\n",
       "      <td>R4</td>\n",
       "      <td>말레이시아</td>\n",
       "      <td>하노이무역관</td>\n",
       "      <td>CCMBY968231</td>\n",
       "      <td>24 XPRESS SDN BHD</td>\n",
       "      <td>24 XPRESS SDN BHD</td>\n",
       "      <td>[CCMBY960441]</td>\n",
       "    </tr>\n",
       "    <tr>\n",
       "      <th>542</th>\n",
       "      <td>R3</td>\n",
       "      <td>말레이시아</td>\n",
       "      <td>쿠알라룸푸르무역관</td>\n",
       "      <td>CCMBY960441</td>\n",
       "      <td>24XPRESS SDN BHD</td>\n",
       "      <td>24XPRESS SDN BHD</td>\n",
       "      <td>[CCMBY968231]</td>\n",
       "    </tr>\n",
       "    <tr>\n",
       "      <th>599</th>\n",
       "      <td>R2</td>\n",
       "      <td>말레이시아</td>\n",
       "      <td>프랑크푸르트무역관</td>\n",
       "      <td>CCM20230807081256</td>\n",
       "      <td>3A DENTAL SOLUTIONS</td>\n",
       "      <td>3A DENTAL SOLUTIONS</td>\n",
       "      <td>None</td>\n",
       "    </tr>\n",
       "    <tr>\n",
       "      <th>...</th>\n",
       "      <td>...</td>\n",
       "      <td>...</td>\n",
       "      <td>...</td>\n",
       "      <td>...</td>\n",
       "      <td>...</td>\n",
       "      <td>...</td>\n",
       "      <td>...</td>\n",
       "    </tr>\n",
       "    <tr>\n",
       "      <th>69131</th>\n",
       "      <td>R2</td>\n",
       "      <td>말레이시아</td>\n",
       "      <td>싱가포르무역관</td>\n",
       "      <td>CCMBY972450</td>\n",
       "      <td>ZELCOS GROUP</td>\n",
       "      <td>ZELCOS GROUP</td>\n",
       "      <td>[CCMBY969757]</td>\n",
       "    </tr>\n",
       "    <tr>\n",
       "      <th>69152</th>\n",
       "      <td>R2</td>\n",
       "      <td>말레이시아</td>\n",
       "      <td>쿠알라룸푸르무역관</td>\n",
       "      <td>CCM20231030165224</td>\n",
       "      <td>ZENIG SYNERGY SDN BHD</td>\n",
       "      <td>ZENIG SYNERGY SDN BHD</td>\n",
       "      <td>None</td>\n",
       "    </tr>\n",
       "    <tr>\n",
       "      <th>69248</th>\n",
       "      <td>R2</td>\n",
       "      <td>말레이시아</td>\n",
       "      <td>두바이무역관</td>\n",
       "      <td>CCMBY980313</td>\n",
       "      <td>ZHA ENVIRONMENTAL SDN. BHD</td>\n",
       "      <td>ZHA ENVIRONMENTAL SDN. BHD</td>\n",
       "      <td>None</td>\n",
       "    </tr>\n",
       "    <tr>\n",
       "      <th>69565</th>\n",
       "      <td>R2</td>\n",
       "      <td>말레이시아</td>\n",
       "      <td>쿠알라룸푸르무역관</td>\n",
       "      <td>CCM20230921126061</td>\n",
       "      <td>ZIYA ASIA</td>\n",
       "      <td>ZIYA ASIA</td>\n",
       "      <td>None</td>\n",
       "    </tr>\n",
       "    <tr>\n",
       "      <th>69641</th>\n",
       "      <td>R2</td>\n",
       "      <td>말레이시아</td>\n",
       "      <td>홍콩무역관</td>\n",
       "      <td>CCM20231206204088</td>\n",
       "      <td>ZSTAR GLOBAL</td>\n",
       "      <td>ZSTAR GLOBAL</td>\n",
       "      <td>None</td>\n",
       "    </tr>\n",
       "  </tbody>\n",
       "</table>\n",
       "<p>1169 rows × 7 columns</p>\n",
       "</div>"
      ],
      "text/plain": [
       "      해외기업등급     국가       입력무역관             해외고객번호  \\\n",
       "100       R2  말레이시아  KOTRA경남지원단        CCMBY764192   \n",
       "105       R2  말레이시아      하노이무역관        CCMBY973601   \n",
       "537       R4  말레이시아      하노이무역관        CCMBY968231   \n",
       "542       R3  말레이시아   쿠알라룸푸르무역관        CCMBY960441   \n",
       "599       R2  말레이시아   프랑크푸르트무역관  CCM20230807081256   \n",
       "...      ...    ...         ...                ...   \n",
       "69131     R2  말레이시아     싱가포르무역관        CCMBY972450   \n",
       "69152     R2  말레이시아   쿠알라룸푸르무역관  CCM20231030165224   \n",
       "69248     R2  말레이시아      두바이무역관        CCMBY980313   \n",
       "69565     R2  말레이시아   쿠알라룸푸르무역관  CCM20230921126061   \n",
       "69641     R2  말레이시아       홍콩무역관  CCM20231206204088   \n",
       "\n",
       "                                            해외기업명(영문)  \\\n",
       "100                   CRESCENT GEAR SOLUTION SDN BHD    \n",
       "105     DIRECT SELLING ASSOCIATION OF MALAYSIA (DSAM)   \n",
       "537                                 24 XPRESS SDN BHD   \n",
       "542                                  24XPRESS SDN BHD   \n",
       "599                               3A DENTAL SOLUTIONS   \n",
       "...                                               ...   \n",
       "69131                                    ZELCOS GROUP   \n",
       "69152                           ZENIG SYNERGY SDN BHD   \n",
       "69248                      ZHA ENVIRONMENTAL SDN. BHD   \n",
       "69565                                       ZIYA ASIA   \n",
       "69641                                    ZSTAR GLOBAL   \n",
       "\n",
       "                                       clean_company Duplicate_Company_Ids  \n",
       "100                   CRESCENT GEAR SOLUTION SDN BHD         [CCMBY564352]  \n",
       "105    DIRECT SELLING ASSOCIATION OF MALAYSIA (DSAM)                  None  \n",
       "537                                24 XPRESS SDN BHD         [CCMBY960441]  \n",
       "542                                 24XPRESS SDN BHD         [CCMBY968231]  \n",
       "599                              3A DENTAL SOLUTIONS                  None  \n",
       "...                                              ...                   ...  \n",
       "69131                                   ZELCOS GROUP         [CCMBY969757]  \n",
       "69152                          ZENIG SYNERGY SDN BHD                  None  \n",
       "69248                     ZHA ENVIRONMENTAL SDN. BHD                  None  \n",
       "69565                                      ZIYA ASIA                  None  \n",
       "69641                                   ZSTAR GLOBAL                  None  \n",
       "\n",
       "[1169 rows x 7 columns]"
      ]
     },
     "execution_count": 51,
     "metadata": {},
     "output_type": "execute_result"
    }
   ],
   "source": [
    "말레이시아_df"
   ]
  },
  {
   "cell_type": "code",
   "execution_count": 52,
   "id": "8bfd56ab",
   "metadata": {},
   "outputs": [],
   "source": [
    "final_df=pd.concat([globals()[f'{country}_df'] for country in country_list], axis=0)\n",
    "final_df.sort_values(by=['국가', '입력무역관'], inplace=True)\n",
    "final_df.reset_index(drop=True, inplace=True)"
   ]
  },
  {
   "cell_type": "code",
   "execution_count": 57,
   "id": "6c4c5241",
   "metadata": {
    "scrolled": false
   },
   "outputs": [
    {
     "data": {
      "text/plain": [
       "130"
      ]
     },
     "execution_count": 57,
     "metadata": {},
     "output_type": "execute_result"
    }
   ],
   "source": [
    "len(final_df[(final_df['국가']=='말레이시아') &(final_df['Duplicate_Company_Ids']!='None')])"
   ]
  },
  {
   "attachments": {
    "image.png": {
     "image/png": "[encoded data removed]"
    }
   },
   "cell_type": "markdown",
   "id": "ef3da268",
   "metadata": {},
   "source": [
    "![image.png](attachment:image.png)"
   ]
  },
  {
   "cell_type": "code",
   "execution_count": null,
   "id": "6dc0a5fb",
   "metadata": {},
   "outputs": [],
   "source": []
  },
  {
   "cell_type": "code",
   "execution_count": null,
   "id": "25a94617",
   "metadata": {},
   "outputs": [],
   "source": [
    "#### For Study ####"
   ]
  },
  {
   "cell_type": "code",
   "execution_count": 5,
   "id": "dcd4d773",
   "metadata": {},
   "outputs": [
    {
     "name": "stdout",
     "output_type": "stream",
     "text": [
      "{'ABC Corp': [123]}\n"
     ]
    }
   ],
   "source": [
    "company_dict = {}\n",
    "\n",
    "company_dict.setdefault(\"ABC Corp\", []).append(123)\n",
    "print(company_dict)"
   ]
  },
  {
   "cell_type": "code",
   "execution_count": 7,
   "id": "81d8f9e2",
   "metadata": {},
   "outputs": [],
   "source": [
    "company_dict.setdefault(\"abc\", []).append(456)"
   ]
  },
  {
   "cell_type": "code",
   "execution_count": 8,
   "id": "994c9342",
   "metadata": {},
   "outputs": [
    {
     "data": {
      "text/plain": [
       "{'ABC Corp': [123], 'abc': [456]}"
      ]
     },
     "execution_count": 8,
     "metadata": {},
     "output_type": "execute_result"
    }
   ],
   "source": [
    "company_dict"
   ]
  },
  {
   "cell_type": "code",
   "execution_count": 9,
   "id": "b00d956f",
   "metadata": {},
   "outputs": [],
   "source": [
    "company_dict.setdefault(\"abc\", []).append(789)"
   ]
  },
  {
   "cell_type": "code",
   "execution_count": 10,
   "id": "662c1f29",
   "metadata": {},
   "outputs": [
    {
     "name": "stdout",
     "output_type": "stream",
     "text": [
      "{'ABC Corp': [123], 'abc': [456, 789]}\n"
     ]
    }
   ],
   "source": [
    "print(company_dict)"
   ]
  },
  {
   "cell_type": "code",
   "execution_count": null,
   "id": "59d830a1",
   "metadata": {},
   "outputs": [],
   "source": []
  }
 ],
 "metadata": {
  "kernelspec": {
   "display_name": "Python 3 (ipykernel)",
   "language": "python",
   "name": "python3"
  },
  "language_info": {
   "codemirror_mode": {
    "name": "ipython",
    "version": 3
   },
   "file_extension": ".py",
   "mimetype": "text/x-python",
   "name": "python",
   "nbconvert_exporter": "python",
   "pygments_lexer": "ipython3",
   "version": "3.9.19"
  }
 },
 "nbformat": 4,
 "nbformat_minor": 5
}
